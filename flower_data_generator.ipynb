{
 "cells": [
  {
   "cell_type": "code",
   "execution_count": 2,
   "metadata": {},
   "outputs": [],
   "source": [
    "import pandas as pd\n",
    "from be.controllers.filtering_tools import filter_dataframe"
   ]
  },
  {
   "cell_type": "code",
   "execution_count": 3,
   "metadata": {},
   "outputs": [],
   "source": [
    "from datetime import date, timedelta, datetime"
   ]
  },
  {
   "cell_type": "code",
   "execution_count": 4,
   "metadata": {},
   "outputs": [],
   "source": [
    "starting_date = pd.to_datetime(date.today() - timedelta(days = 100))"
   ]
  },
  {
   "cell_type": "code",
   "execution_count": 10,
   "metadata": {},
   "outputs": [],
   "source": [
    "df=pd.read_csv(\"production.csv\")"
   ]
  },
  {
   "cell_type": "code",
   "execution_count": 11,
   "metadata": {},
   "outputs": [
    {
     "data": {
      "text/html": [
       "<div>\n",
       "<style scoped>\n",
       "    .dataframe tbody tr th:only-of-type {\n",
       "        vertical-align: middle;\n",
       "    }\n",
       "\n",
       "    .dataframe tbody tr th {\n",
       "        vertical-align: top;\n",
       "    }\n",
       "\n",
       "    .dataframe thead th {\n",
       "        text-align: right;\n",
       "    }\n",
       "</style>\n",
       "<table border=\"1\" class=\"dataframe\">\n",
       "  <thead>\n",
       "    <tr style=\"text-align: right;\">\n",
       "      <th></th>\n",
       "      <th>id</th>\n",
       "      <th>planted_on</th>\n",
       "      <th>stems</th>\n",
       "      <th>block</th>\n",
       "      <th>variety</th>\n",
       "      <th>bell_sd</th>\n",
       "      <th>expected_yield</th>\n",
       "      <th>enough_weather_data</th>\n",
       "      <th>valid_combo</th>\n",
       "      <th>mu</th>\n",
       "      <th>...</th>\n",
       "      <th>fecha_dia_19</th>\n",
       "      <th>tallos_dia_19</th>\n",
       "      <th>fecha_dia_20</th>\n",
       "      <th>tallos_dia_20</th>\n",
       "      <th>fecha_dia_21</th>\n",
       "      <th>tallos_dia_21</th>\n",
       "      <th>fecha_dia_22</th>\n",
       "      <th>tallos_dia_22</th>\n",
       "      <th>fecha_dia_23</th>\n",
       "      <th>tallos_dia_23</th>\n",
       "    </tr>\n",
       "  </thead>\n",
       "  <tbody>\n",
       "    <tr>\n",
       "      <th>0</th>\n",
       "      <td>0</td>\n",
       "      <td>2021-02-15</td>\n",
       "      <td>3480</td>\n",
       "      <td>1</td>\n",
       "      <td>chelsea</td>\n",
       "      <td>1.25</td>\n",
       "      <td>2644.8</td>\n",
       "      <td>True</td>\n",
       "      <td>True</td>\n",
       "      <td>75.75516</td>\n",
       "      <td>...</td>\n",
       "      <td>2021-05-16</td>\n",
       "      <td>0</td>\n",
       "      <td>2021-05-17</td>\n",
       "      <td>0</td>\n",
       "      <td>2021-05-18</td>\n",
       "      <td>0</td>\n",
       "      <td>2021-05-19</td>\n",
       "      <td>0</td>\n",
       "      <td>2021-05-20</td>\n",
       "      <td>0</td>\n",
       "    </tr>\n",
       "    <tr>\n",
       "      <th>1</th>\n",
       "      <td>1</td>\n",
       "      <td>2021-02-15</td>\n",
       "      <td>3480</td>\n",
       "      <td>1</td>\n",
       "      <td>chelsea</td>\n",
       "      <td>1.25</td>\n",
       "      <td>2644.8</td>\n",
       "      <td>True</td>\n",
       "      <td>True</td>\n",
       "      <td>75.75516</td>\n",
       "      <td>...</td>\n",
       "      <td>2021-05-16</td>\n",
       "      <td>0</td>\n",
       "      <td>2021-05-17</td>\n",
       "      <td>0</td>\n",
       "      <td>2021-05-18</td>\n",
       "      <td>0</td>\n",
       "      <td>2021-05-19</td>\n",
       "      <td>0</td>\n",
       "      <td>2021-05-20</td>\n",
       "      <td>0</td>\n",
       "    </tr>\n",
       "    <tr>\n",
       "      <th>2</th>\n",
       "      <td>2</td>\n",
       "      <td>2021-02-15</td>\n",
       "      <td>3480</td>\n",
       "      <td>1</td>\n",
       "      <td>chelsea</td>\n",
       "      <td>1.25</td>\n",
       "      <td>2644.8</td>\n",
       "      <td>True</td>\n",
       "      <td>True</td>\n",
       "      <td>75.75516</td>\n",
       "      <td>...</td>\n",
       "      <td>2021-05-16</td>\n",
       "      <td>0</td>\n",
       "      <td>2021-05-17</td>\n",
       "      <td>0</td>\n",
       "      <td>2021-05-18</td>\n",
       "      <td>0</td>\n",
       "      <td>2021-05-19</td>\n",
       "      <td>0</td>\n",
       "      <td>2021-05-20</td>\n",
       "      <td>0</td>\n",
       "    </tr>\n",
       "    <tr>\n",
       "      <th>3</th>\n",
       "      <td>3</td>\n",
       "      <td>2021-02-17</td>\n",
       "      <td>3480</td>\n",
       "      <td>1</td>\n",
       "      <td>chelsea</td>\n",
       "      <td>1.25</td>\n",
       "      <td>2644.8</td>\n",
       "      <td>True</td>\n",
       "      <td>True</td>\n",
       "      <td>75.40767</td>\n",
       "      <td>...</td>\n",
       "      <td>2021-05-18</td>\n",
       "      <td>0</td>\n",
       "      <td>2021-05-19</td>\n",
       "      <td>0</td>\n",
       "      <td>2021-05-20</td>\n",
       "      <td>0</td>\n",
       "      <td>2021-05-21</td>\n",
       "      <td>0</td>\n",
       "      <td>2021-05-22</td>\n",
       "      <td>0</td>\n",
       "    </tr>\n",
       "    <tr>\n",
       "      <th>4</th>\n",
       "      <td>4</td>\n",
       "      <td>2021-02-17</td>\n",
       "      <td>3480</td>\n",
       "      <td>1</td>\n",
       "      <td>chelsea</td>\n",
       "      <td>1.25</td>\n",
       "      <td>2644.8</td>\n",
       "      <td>True</td>\n",
       "      <td>True</td>\n",
       "      <td>75.40767</td>\n",
       "      <td>...</td>\n",
       "      <td>2021-05-18</td>\n",
       "      <td>0</td>\n",
       "      <td>2021-05-19</td>\n",
       "      <td>0</td>\n",
       "      <td>2021-05-20</td>\n",
       "      <td>0</td>\n",
       "      <td>2021-05-21</td>\n",
       "      <td>0</td>\n",
       "      <td>2021-05-22</td>\n",
       "      <td>0</td>\n",
       "    </tr>\n",
       "  </tbody>\n",
       "</table>\n",
       "<p>5 rows × 59 columns</p>\n",
       "</div>"
      ],
      "text/plain": [
       "   id  planted_on  stems  block  variety  bell_sd  expected_yield  \\\n",
       "0   0  2021-02-15   3480      1  chelsea     1.25          2644.8   \n",
       "1   1  2021-02-15   3480      1  chelsea     1.25          2644.8   \n",
       "2   2  2021-02-15   3480      1  chelsea     1.25          2644.8   \n",
       "3   3  2021-02-17   3480      1  chelsea     1.25          2644.8   \n",
       "4   4  2021-02-17   3480      1  chelsea     1.25          2644.8   \n",
       "\n",
       "   enough_weather_data  valid_combo        mu  ...  fecha_dia_19  \\\n",
       "0                 True         True  75.75516  ...    2021-05-16   \n",
       "1                 True         True  75.75516  ...    2021-05-16   \n",
       "2                 True         True  75.75516  ...    2021-05-16   \n",
       "3                 True         True  75.40767  ...    2021-05-18   \n",
       "4                 True         True  75.40767  ...    2021-05-18   \n",
       "\n",
       "   tallos_dia_19  fecha_dia_20 tallos_dia_20  fecha_dia_21 tallos_dia_21  \\\n",
       "0              0    2021-05-17             0    2021-05-18             0   \n",
       "1              0    2021-05-17             0    2021-05-18             0   \n",
       "2              0    2021-05-17             0    2021-05-18             0   \n",
       "3              0    2021-05-19             0    2021-05-20             0   \n",
       "4              0    2021-05-19             0    2021-05-20             0   \n",
       "\n",
       "   fecha_dia_22 tallos_dia_22  fecha_dia_23 tallos_dia_23  \n",
       "0    2021-05-19             0    2021-05-20             0  \n",
       "1    2021-05-19             0    2021-05-20             0  \n",
       "2    2021-05-19             0    2021-05-20             0  \n",
       "3    2021-05-21             0    2021-05-22             0  \n",
       "4    2021-05-21             0    2021-05-22             0  \n",
       "\n",
       "[5 rows x 59 columns]"
      ]
     },
     "execution_count": 11,
     "metadata": {},
     "output_type": "execute_result"
    }
   ],
   "source": [
    "df.head()"
   ]
  },
  {
   "cell_type": "code",
   "execution_count": 19,
   "metadata": {},
   "outputs": [],
   "source": [
    "info_df=df[[\"planted_on\",\"stems\",\"variety\",\"expected_yield\"]][:5]"
   ]
  },
  {
   "cell_type": "code",
   "execution_count": 21,
   "metadata": {},
   "outputs": [],
   "source": [
    "info_df.to_csv(\"info_df.csv\")"
   ]
  },
  {
   "cell_type": "code",
   "execution_count": 6,
   "metadata": {},
   "outputs": [],
   "source": [
    "df[\"planted_on\"]=pd.to_datetime(df[\"planted_on\"])"
   ]
  },
  {
   "cell_type": "code",
   "execution_count": 7,
   "metadata": {},
   "outputs": [],
   "source": [
    "def filter_planted_after(df, start_date):### select only those planted after a given date\n",
    "    \"\"\"Filter a datframe based on to dates.\"\"\"\n",
    "    filtered_df= df[df['planted_on']>=start_date]\n",
    "    return filtered_df"
   ]
  },
  {
   "cell_type": "code",
   "execution_count": 8,
   "metadata": {},
   "outputs": [],
   "source": [
    "recent_df=filter_planted_after(df,starting_date)"
   ]
  },
  {
   "cell_type": "code",
   "execution_count": 39,
   "metadata": {},
   "outputs": [
    {
     "data": {
      "text/plain": [
       "[numpy.datetime64('2022-09-21T00:00:00.000000000'),\n",
       " numpy.datetime64('2022-09-22T00:00:00.000000000'),\n",
       " numpy.datetime64('2022-09-23T00:00:00.000000000'),\n",
       " numpy.datetime64('2022-09-24T00:00:00.000000000'),\n",
       " numpy.datetime64('2022-09-26T00:00:00.000000000'),\n",
       " numpy.datetime64('2022-09-27T00:00:00.000000000'),\n",
       " numpy.datetime64('2022-09-28T00:00:00.000000000'),\n",
       " numpy.datetime64('2022-09-29T00:00:00.000000000'),\n",
       " numpy.datetime64('2022-09-30T00:00:00.000000000'),\n",
       " numpy.datetime64('2022-10-01T00:00:00.000000000'),\n",
       " numpy.datetime64('2022-10-03T00:00:00.000000000'),\n",
       " numpy.datetime64('2022-10-04T00:00:00.000000000'),\n",
       " numpy.datetime64('2022-10-05T00:00:00.000000000'),\n",
       " numpy.datetime64('2022-10-06T00:00:00.000000000'),\n",
       " numpy.datetime64('2022-10-07T00:00:00.000000000'),\n",
       " numpy.datetime64('2022-10-08T00:00:00.000000000'),\n",
       " numpy.datetime64('2022-10-10T00:00:00.000000000')]"
      ]
     },
     "execution_count": 39,
     "metadata": {},
     "output_type": "execute_result"
    }
   ],
   "source": [
    "list(sorted(recent_df[\"planted_on\"].unique()))"
   ]
  },
  {
   "cell_type": "code",
   "execution_count": 48,
   "metadata": {},
   "outputs": [],
   "source": [
    "bl=recent_df[\"block\"].unique().tolist()"
   ]
  },
  {
   "cell_type": "code",
   "execution_count": 53,
   "metadata": {},
   "outputs": [
    {
     "data": {
      "text/plain": [
       "int"
      ]
     },
     "execution_count": 53,
     "metadata": {},
     "output_type": "execute_result"
    }
   ],
   "source": [
    "type(bl[0])"
   ]
  },
  {
   "cell_type": "code",
   "execution_count": 61,
   "metadata": {},
   "outputs": [
    {
     "data": {
      "text/plain": [
       "'4'"
      ]
     },
     "execution_count": 61,
     "metadata": {},
     "output_type": "execute_result"
    }
   ],
   "source": [
    "str(4)"
   ]
  },
  {
   "cell_type": "code",
   "execution_count": 65,
   "metadata": {},
   "outputs": [
    {
     "data": {
      "text/plain": [
       "list"
      ]
     },
     "execution_count": 65,
     "metadata": {},
     "output_type": "execute_result"
    }
   ],
   "source": [
    "type(bl)"
   ]
  },
  {
   "cell_type": "code",
   "execution_count": 69,
   "metadata": {},
   "outputs": [
    {
     "ename": "NameError",
     "evalue": "name 'z' is not defined",
     "output_type": "error",
     "traceback": [
      "\u001b[0;31m---------------------------------------------------------------------------\u001b[0m",
      "\u001b[0;31mNameError\u001b[0m                                 Traceback (most recent call last)",
      "Cell \u001b[0;32mIn[69], line 1\u001b[0m\n\u001b[0;32m----> 1\u001b[0m z\n",
      "\u001b[0;31mNameError\u001b[0m: name 'z' is not defined"
     ]
    }
   ],
   "source": []
  },
  {
   "cell_type": "code",
   "execution_count": 74,
   "metadata": {},
   "outputs": [],
   "source": [
    "del(list)"
   ]
  },
  {
   "cell_type": "code",
   "execution_count": 77,
   "metadata": {},
   "outputs": [],
   "source": [
    "adf=list(map(lambda z: \"Bloque \"+str(z),bl))"
   ]
  },
  {
   "cell_type": "code",
   "execution_count": 79,
   "metadata": {},
   "outputs": [
    {
     "data": {
      "text/html": [
       "<div>\n",
       "<style scoped>\n",
       "    .dataframe tbody tr th:only-of-type {\n",
       "        vertical-align: middle;\n",
       "    }\n",
       "\n",
       "    .dataframe tbody tr th {\n",
       "        vertical-align: top;\n",
       "    }\n",
       "\n",
       "    .dataframe thead th {\n",
       "        text-align: right;\n",
       "    }\n",
       "</style>\n",
       "<table border=\"1\" class=\"dataframe\">\n",
       "  <thead>\n",
       "    <tr style=\"text-align: right;\">\n",
       "      <th></th>\n",
       "      <th>id</th>\n",
       "      <th>planted_on</th>\n",
       "      <th>stems</th>\n",
       "      <th>block</th>\n",
       "      <th>variety</th>\n",
       "      <th>bell_sd</th>\n",
       "      <th>expected_yield</th>\n",
       "      <th>enough_weather_data</th>\n",
       "      <th>valid_combo</th>\n",
       "      <th>mu</th>\n",
       "      <th>...</th>\n",
       "      <th>fecha_dia_19</th>\n",
       "      <th>tallos_dia_19</th>\n",
       "      <th>fecha_dia_20</th>\n",
       "      <th>tallos_dia_20</th>\n",
       "      <th>fecha_dia_21</th>\n",
       "      <th>tallos_dia_21</th>\n",
       "      <th>fecha_dia_22</th>\n",
       "      <th>tallos_dia_22</th>\n",
       "      <th>fecha_dia_23</th>\n",
       "      <th>tallos_dia_23</th>\n",
       "    </tr>\n",
       "  </thead>\n",
       "  <tbody>\n",
       "    <tr>\n",
       "      <th>3987</th>\n",
       "      <td>3987</td>\n",
       "      <td>2022-09-21</td>\n",
       "      <td>3480</td>\n",
       "      <td>23</td>\n",
       "      <td>potomac crimson</td>\n",
       "      <td>3.50</td>\n",
       "      <td>3097.2</td>\n",
       "      <td>True</td>\n",
       "      <td>True</td>\n",
       "      <td>67.157600</td>\n",
       "      <td>...</td>\n",
       "      <td>2022-12-05</td>\n",
       "      <td>48</td>\n",
       "      <td>2022-12-06</td>\n",
       "      <td>26</td>\n",
       "      <td>2022-12-07</td>\n",
       "      <td>13</td>\n",
       "      <td>2022-12-08</td>\n",
       "      <td>6</td>\n",
       "      <td>2022-12-09</td>\n",
       "      <td>3</td>\n",
       "    </tr>\n",
       "    <tr>\n",
       "      <th>3988</th>\n",
       "      <td>3988</td>\n",
       "      <td>2022-09-23</td>\n",
       "      <td>3480</td>\n",
       "      <td>23</td>\n",
       "      <td>potomac crimson</td>\n",
       "      <td>3.50</td>\n",
       "      <td>3097.2</td>\n",
       "      <td>True</td>\n",
       "      <td>True</td>\n",
       "      <td>67.240170</td>\n",
       "      <td>...</td>\n",
       "      <td>2022-12-07</td>\n",
       "      <td>48</td>\n",
       "      <td>2022-12-08</td>\n",
       "      <td>26</td>\n",
       "      <td>2022-12-09</td>\n",
       "      <td>13</td>\n",
       "      <td>2022-12-10</td>\n",
       "      <td>6</td>\n",
       "      <td>2022-12-11</td>\n",
       "      <td>3</td>\n",
       "    </tr>\n",
       "    <tr>\n",
       "      <th>3989</th>\n",
       "      <td>3989</td>\n",
       "      <td>2022-10-06</td>\n",
       "      <td>6960</td>\n",
       "      <td>23</td>\n",
       "      <td>potomac crimson</td>\n",
       "      <td>3.50</td>\n",
       "      <td>6194.4</td>\n",
       "      <td>True</td>\n",
       "      <td>True</td>\n",
       "      <td>57.617120</td>\n",
       "      <td>...</td>\n",
       "      <td>2022-12-10</td>\n",
       "      <td>97</td>\n",
       "      <td>2022-12-11</td>\n",
       "      <td>53</td>\n",
       "      <td>2022-12-12</td>\n",
       "      <td>26</td>\n",
       "      <td>2022-12-13</td>\n",
       "      <td>12</td>\n",
       "      <td>2022-12-14</td>\n",
       "      <td>5</td>\n",
       "    </tr>\n",
       "    <tr>\n",
       "      <th>4020</th>\n",
       "      <td>4020</td>\n",
       "      <td>2022-10-10</td>\n",
       "      <td>3540</td>\n",
       "      <td>23</td>\n",
       "      <td>potomac early orange</td>\n",
       "      <td>2.00</td>\n",
       "      <td>3009.0</td>\n",
       "      <td>True</td>\n",
       "      <td>True</td>\n",
       "      <td>49.973250</td>\n",
       "      <td>...</td>\n",
       "      <td>2022-12-11</td>\n",
       "      <td>0</td>\n",
       "      <td>2022-12-12</td>\n",
       "      <td>0</td>\n",
       "      <td>2022-12-13</td>\n",
       "      <td>0</td>\n",
       "      <td>2022-12-14</td>\n",
       "      <td>0</td>\n",
       "      <td>2022-12-15</td>\n",
       "      <td>0</td>\n",
       "    </tr>\n",
       "    <tr>\n",
       "      <th>4152</th>\n",
       "      <td>4152</td>\n",
       "      <td>2022-09-22</td>\n",
       "      <td>3480</td>\n",
       "      <td>23</td>\n",
       "      <td>potomac early rosse</td>\n",
       "      <td>3.25</td>\n",
       "      <td>2958.0</td>\n",
       "      <td>True</td>\n",
       "      <td>True</td>\n",
       "      <td>60.995636</td>\n",
       "      <td>...</td>\n",
       "      <td>2022-11-30</td>\n",
       "      <td>22</td>\n",
       "      <td>2022-12-01</td>\n",
       "      <td>10</td>\n",
       "      <td>2022-12-02</td>\n",
       "      <td>4</td>\n",
       "      <td>2022-12-03</td>\n",
       "      <td>2</td>\n",
       "      <td>2022-12-04</td>\n",
       "      <td>1</td>\n",
       "    </tr>\n",
       "  </tbody>\n",
       "</table>\n",
       "<p>5 rows × 59 columns</p>\n",
       "</div>"
      ],
      "text/plain": [
       "        id planted_on  stems  block               variety  bell_sd  \\\n",
       "3987  3987 2022-09-21   3480     23       potomac crimson     3.50   \n",
       "3988  3988 2022-09-23   3480     23       potomac crimson     3.50   \n",
       "3989  3989 2022-10-06   6960     23       potomac crimson     3.50   \n",
       "4020  4020 2022-10-10   3540     23  potomac early orange     2.00   \n",
       "4152  4152 2022-09-22   3480     23   potomac early rosse     3.25   \n",
       "\n",
       "      expected_yield  enough_weather_data  valid_combo         mu  ...  \\\n",
       "3987          3097.2                 True         True  67.157600  ...   \n",
       "3988          3097.2                 True         True  67.240170  ...   \n",
       "3989          6194.4                 True         True  57.617120  ...   \n",
       "4020          3009.0                 True         True  49.973250  ...   \n",
       "4152          2958.0                 True         True  60.995636  ...   \n",
       "\n",
       "      fecha_dia_19  tallos_dia_19  fecha_dia_20 tallos_dia_20  fecha_dia_21  \\\n",
       "3987    2022-12-05             48    2022-12-06            26    2022-12-07   \n",
       "3988    2022-12-07             48    2022-12-08            26    2022-12-09   \n",
       "3989    2022-12-10             97    2022-12-11            53    2022-12-12   \n",
       "4020    2022-12-11              0    2022-12-12             0    2022-12-13   \n",
       "4152    2022-11-30             22    2022-12-01            10    2022-12-02   \n",
       "\n",
       "     tallos_dia_21  fecha_dia_22 tallos_dia_22  fecha_dia_23 tallos_dia_23  \n",
       "3987            13    2022-12-08             6    2022-12-09             3  \n",
       "3988            13    2022-12-10             6    2022-12-11             3  \n",
       "3989            26    2022-12-13            12    2022-12-14             5  \n",
       "4020             0    2022-12-14             0    2022-12-15             0  \n",
       "4152             4    2022-12-03             2    2022-12-04             1  \n",
       "\n",
       "[5 rows x 59 columns]"
      ]
     },
     "execution_count": 79,
     "metadata": {},
     "output_type": "execute_result"
    }
   ],
   "source": [
    "recent_df.head()"
   ]
  },
  {
   "cell_type": "code",
   "execution_count": 78,
   "metadata": {},
   "outputs": [
    {
     "data": {
      "text/plain": [
       "['Bloque 23', 'Bloque 30', 'Bloque 33', 'Bloque 39', 'Bloque 55', 'Bloque 64']"
      ]
     },
     "execution_count": 78,
     "metadata": {},
     "output_type": "execute_result"
    }
   ],
   "source": [
    "adf"
   ]
  },
  {
   "cell_type": "code",
   "execution_count": 81,
   "metadata": {},
   "outputs": [],
   "source": [
    "variedades=recent_df[\"variety\"].unique().tolist()"
   ]
  },
  {
   "cell_type": "code",
   "execution_count": 83,
   "metadata": {},
   "outputs": [],
   "source": [
    "variedades=list(map(lambda z: z.capitalize(),variedades))"
   ]
  },
  {
   "cell_type": "code",
   "execution_count": 84,
   "metadata": {},
   "outputs": [
    {
     "data": {
      "text/plain": [
       "['Potomac crimson',\n",
       " 'Potomac early orange',\n",
       " 'Potomac early rosse',\n",
       " 'Potomac early white',\n",
       " 'Potomac early pink',\n",
       " 'Potomac early yellow',\n",
       " 'Alma',\n",
       " 'Soleado',\n",
       " 'Aneto',\n",
       " 'Veronica',\n",
       " 'Candy crush mint',\n",
       " 'Candy crush red',\n",
       " 'Lucy',\n",
       " 'Skylie']"
      ]
     },
     "execution_count": 84,
     "metadata": {},
     "output_type": "execute_result"
    }
   ],
   "source": [
    "variedades"
   ]
  },
  {
   "cell_type": "code",
   "execution_count": 87,
   "metadata": {},
   "outputs": [],
   "source": [
    "from dash import Dash, dash_table\n",
    "import pandas as pd\n",
    "\n",
    "dfteset = pd.read_csv('https://raw.githubusercontent.com/plotly/datasets/master/solar.csv')\n"
   ]
  },
  {
   "cell_type": "code",
   "execution_count": 3,
   "metadata": {},
   "outputs": [],
   "source": [
    "dftest = pd.read_csv('https://raw.githubusercontent.com/plotly/datasets/master/solar.csv')\n"
   ]
  },
  {
   "cell_type": "code",
   "execution_count": 4,
   "metadata": {},
   "outputs": [
    {
     "data": {
      "text/html": [
       "<div>\n",
       "<style scoped>\n",
       "    .dataframe tbody tr th:only-of-type {\n",
       "        vertical-align: middle;\n",
       "    }\n",
       "\n",
       "    .dataframe tbody tr th {\n",
       "        vertical-align: top;\n",
       "    }\n",
       "\n",
       "    .dataframe thead th {\n",
       "        text-align: right;\n",
       "    }\n",
       "</style>\n",
       "<table border=\"1\" class=\"dataframe\">\n",
       "  <thead>\n",
       "    <tr style=\"text-align: right;\">\n",
       "      <th></th>\n",
       "      <th>State</th>\n",
       "      <th>Number of Solar Plants</th>\n",
       "      <th>Installed Capacity (MW)</th>\n",
       "      <th>Average MW Per Plant</th>\n",
       "      <th>Generation (GWh)</th>\n",
       "    </tr>\n",
       "  </thead>\n",
       "  <tbody>\n",
       "    <tr>\n",
       "      <th>0</th>\n",
       "      <td>California</td>\n",
       "      <td>289</td>\n",
       "      <td>4395</td>\n",
       "      <td>15.3</td>\n",
       "      <td>10826</td>\n",
       "    </tr>\n",
       "    <tr>\n",
       "      <th>1</th>\n",
       "      <td>Arizona</td>\n",
       "      <td>48</td>\n",
       "      <td>1078</td>\n",
       "      <td>22.5</td>\n",
       "      <td>2550</td>\n",
       "    </tr>\n",
       "    <tr>\n",
       "      <th>2</th>\n",
       "      <td>Nevada</td>\n",
       "      <td>11</td>\n",
       "      <td>238</td>\n",
       "      <td>21.6</td>\n",
       "      <td>557</td>\n",
       "    </tr>\n",
       "    <tr>\n",
       "      <th>3</th>\n",
       "      <td>New Mexico</td>\n",
       "      <td>33</td>\n",
       "      <td>261</td>\n",
       "      <td>7.9</td>\n",
       "      <td>590</td>\n",
       "    </tr>\n",
       "    <tr>\n",
       "      <th>4</th>\n",
       "      <td>Colorado</td>\n",
       "      <td>20</td>\n",
       "      <td>118</td>\n",
       "      <td>5.9</td>\n",
       "      <td>235</td>\n",
       "    </tr>\n",
       "  </tbody>\n",
       "</table>\n",
       "</div>"
      ],
      "text/plain": [
       "        State  Number of Solar Plants  Installed Capacity (MW)  \\\n",
       "0  California                     289                     4395   \n",
       "1     Arizona                      48                     1078   \n",
       "2      Nevada                      11                      238   \n",
       "3  New Mexico                      33                      261   \n",
       "4    Colorado                      20                      118   \n",
       "\n",
       "   Average MW Per Plant  Generation (GWh)  \n",
       "0                  15.3             10826  \n",
       "1                  22.5              2550  \n",
       "2                  21.6               557  \n",
       "3                   7.9               590  \n",
       "4                   5.9               235  "
      ]
     },
     "execution_count": 4,
     "metadata": {},
     "output_type": "execute_result"
    }
   ],
   "source": [
    "dftest.head()"
   ]
  },
  {
   "cell_type": "code",
   "execution_count": 9,
   "metadata": {},
   "outputs": [
    {
     "name": "stdout",
     "output_type": "stream",
     "text": [
      "Dash is running on http://127.0.0.1:8050/\n",
      "\n",
      "Dash is running on http://127.0.0.1:8050/\n",
      "\n",
      " * Serving Flask app '__main__'\n",
      " * Debug mode: on\n"
     ]
    },
    {
     "name": "stderr",
     "output_type": "stream",
     "text": [
      "Traceback (most recent call last):\n",
      "  File \"/opt/miniconda3/envs/dash_tutorial/lib/python3.10/site-packages/ipykernel_launcher.py\", line 17, in <module>\n",
      "    app.launch_new_instance()\n",
      "  File \"/opt/miniconda3/envs/dash_tutorial/lib/python3.10/site-packages/traitlets/config/application.py\", line 991, in launch_instance\n",
      "    app.initialize(argv)\n",
      "  File \"/opt/miniconda3/envs/dash_tutorial/lib/python3.10/site-packages/traitlets/config/application.py\", line 113, in inner\n",
      "    return method(app, *args, **kwargs)\n",
      "  File \"/opt/miniconda3/envs/dash_tutorial/lib/python3.10/site-packages/ipykernel/kernelapp.py\", line 665, in initialize\n",
      "    self.init_sockets()\n",
      "  File \"/opt/miniconda3/envs/dash_tutorial/lib/python3.10/site-packages/ipykernel/kernelapp.py\", line 309, in init_sockets\n",
      "    self.shell_port = self._bind_socket(self.shell_socket, self.shell_port)\n",
      "  File \"/opt/miniconda3/envs/dash_tutorial/lib/python3.10/site-packages/ipykernel/kernelapp.py\", line 246, in _bind_socket\n",
      "    return self._try_bind_socket(s, port)\n",
      "  File \"/opt/miniconda3/envs/dash_tutorial/lib/python3.10/site-packages/ipykernel/kernelapp.py\", line 222, in _try_bind_socket\n",
      "    s.bind(\"tcp://%s:%i\" % (self.ip, port))\n",
      "  File \"/opt/miniconda3/envs/dash_tutorial/lib/python3.10/site-packages/zmq/sugar/socket.py\", line 232, in bind\n",
      "    super().bind(addr)\n",
      "  File \"zmq/backend/cython/socket.pyx\", line 568, in zmq.backend.cython.socket.Socket.bind\n",
      "  File \"zmq/backend/cython/checkrc.pxd\", line 28, in zmq.backend.cython.checkrc._check_rc\n",
      "zmq.error.ZMQError: Address already in use\n"
     ]
    },
    {
     "ename": "SystemExit",
     "evalue": "1",
     "output_type": "error",
     "traceback": [
      "An exception has occurred, use %tb to see the full traceback.\n",
      "\u001b[0;31mSystemExit\u001b[0m\u001b[0;31m:\u001b[0m 1\n"
     ]
    },
    {
     "name": "stderr",
     "output_type": "stream",
     "text": [
      "/opt/miniconda3/envs/dash_tutorial/lib/python3.10/site-packages/IPython/core/interactiveshell.py:3441: UserWarning: To exit: use 'exit', 'quit', or Ctrl-D.\n",
      "  warn(\"To exit: use 'exit', 'quit', or Ctrl-D.\", stacklevel=1)\n"
     ]
    }
   ],
   "source": []
  },
  {
   "cell_type": "code",
   "execution_count": null,
   "metadata": {},
   "outputs": [],
   "source": []
  }
 ],
 "metadata": {
  "kernelspec": {
   "display_name": "dash_tutorial",
   "language": "python",
   "name": "python3"
  },
  "language_info": {
   "codemirror_mode": {
    "name": "ipython",
    "version": 3
   },
   "file_extension": ".py",
   "mimetype": "text/x-python",
   "name": "python",
   "nbconvert_exporter": "python",
   "pygments_lexer": "ipython3",
   "version": "3.10.8"
  },
  "orig_nbformat": 4,
  "vscode": {
   "interpreter": {
    "hash": "31fb68429e91cc16ee00ba7a208e84b76758121316b8f5a99b7f17a1b208923b"
   }
  }
 },
 "nbformat": 4,
 "nbformat_minor": 2
}
