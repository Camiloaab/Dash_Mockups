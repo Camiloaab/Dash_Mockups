{
 "cells": [
  {
   "cell_type": "code",
   "execution_count": 330,
   "metadata": {},
   "outputs": [],
   "source": [
    "import pandas as pd\n",
    "from be.controllers.filtering_tools import filter_dataframe"
   ]
  },
  {
   "cell_type": "code",
   "execution_count": 326,
   "metadata": {},
   "outputs": [],
   "source": [
    "from production_prediction import get_available_stalks"
   ]
  },
  {
   "cell_type": "code",
   "execution_count": 327,
   "metadata": {},
   "outputs": [],
   "source": [
    "from datetime import date, timedelta, datetime"
   ]
  },
  {
   "cell_type": "code",
   "execution_count": 332,
   "metadata": {},
   "outputs": [],
   "source": [
    "starting_date = pd.to_datetime(date.today() - timedelta(days = 100))"
   ]
  },
  {
   "cell_type": "code",
   "execution_count": 333,
   "metadata": {},
   "outputs": [],
   "source": [
    "df=pd.read_csv(\"production.csv\")"
   ]
  },
  {
   "cell_type": "code",
   "execution_count": 13,
   "metadata": {},
   "outputs": [
    {
     "data": {
      "text/html": [
       "<div>\n",
       "<style scoped>\n",
       "    .dataframe tbody tr th:only-of-type {\n",
       "        vertical-align: middle;\n",
       "    }\n",
       "\n",
       "    .dataframe tbody tr th {\n",
       "        vertical-align: top;\n",
       "    }\n",
       "\n",
       "    .dataframe thead th {\n",
       "        text-align: right;\n",
       "    }\n",
       "</style>\n",
       "<table border=\"1\" class=\"dataframe\">\n",
       "  <thead>\n",
       "    <tr style=\"text-align: right;\">\n",
       "      <th></th>\n",
       "      <th>id</th>\n",
       "      <th>planted_on</th>\n",
       "      <th>stems</th>\n",
       "      <th>block</th>\n",
       "      <th>variety</th>\n",
       "      <th>bell_sd</th>\n",
       "      <th>expected_yield</th>\n",
       "      <th>enough_weather_data</th>\n",
       "      <th>valid_combo</th>\n",
       "      <th>mu</th>\n",
       "      <th>...</th>\n",
       "      <th>fecha_dia_19</th>\n",
       "      <th>tallos_dia_19</th>\n",
       "      <th>fecha_dia_20</th>\n",
       "      <th>tallos_dia_20</th>\n",
       "      <th>fecha_dia_21</th>\n",
       "      <th>tallos_dia_21</th>\n",
       "      <th>fecha_dia_22</th>\n",
       "      <th>tallos_dia_22</th>\n",
       "      <th>fecha_dia_23</th>\n",
       "      <th>tallos_dia_23</th>\n",
       "    </tr>\n",
       "  </thead>\n",
       "  <tbody>\n",
       "    <tr>\n",
       "      <th>0</th>\n",
       "      <td>0</td>\n",
       "      <td>2021-02-15</td>\n",
       "      <td>3480</td>\n",
       "      <td>1</td>\n",
       "      <td>chelsea</td>\n",
       "      <td>1.25</td>\n",
       "      <td>2644.8</td>\n",
       "      <td>True</td>\n",
       "      <td>True</td>\n",
       "      <td>75.75516</td>\n",
       "      <td>...</td>\n",
       "      <td>2021-05-16</td>\n",
       "      <td>0</td>\n",
       "      <td>2021-05-17</td>\n",
       "      <td>0</td>\n",
       "      <td>2021-05-18</td>\n",
       "      <td>0</td>\n",
       "      <td>2021-05-19</td>\n",
       "      <td>0</td>\n",
       "      <td>2021-05-20</td>\n",
       "      <td>0</td>\n",
       "    </tr>\n",
       "    <tr>\n",
       "      <th>1</th>\n",
       "      <td>1</td>\n",
       "      <td>2021-02-15</td>\n",
       "      <td>3480</td>\n",
       "      <td>1</td>\n",
       "      <td>chelsea</td>\n",
       "      <td>1.25</td>\n",
       "      <td>2644.8</td>\n",
       "      <td>True</td>\n",
       "      <td>True</td>\n",
       "      <td>75.75516</td>\n",
       "      <td>...</td>\n",
       "      <td>2021-05-16</td>\n",
       "      <td>0</td>\n",
       "      <td>2021-05-17</td>\n",
       "      <td>0</td>\n",
       "      <td>2021-05-18</td>\n",
       "      <td>0</td>\n",
       "      <td>2021-05-19</td>\n",
       "      <td>0</td>\n",
       "      <td>2021-05-20</td>\n",
       "      <td>0</td>\n",
       "    </tr>\n",
       "    <tr>\n",
       "      <th>2</th>\n",
       "      <td>2</td>\n",
       "      <td>2021-02-15</td>\n",
       "      <td>3480</td>\n",
       "      <td>1</td>\n",
       "      <td>chelsea</td>\n",
       "      <td>1.25</td>\n",
       "      <td>2644.8</td>\n",
       "      <td>True</td>\n",
       "      <td>True</td>\n",
       "      <td>75.75516</td>\n",
       "      <td>...</td>\n",
       "      <td>2021-05-16</td>\n",
       "      <td>0</td>\n",
       "      <td>2021-05-17</td>\n",
       "      <td>0</td>\n",
       "      <td>2021-05-18</td>\n",
       "      <td>0</td>\n",
       "      <td>2021-05-19</td>\n",
       "      <td>0</td>\n",
       "      <td>2021-05-20</td>\n",
       "      <td>0</td>\n",
       "    </tr>\n",
       "    <tr>\n",
       "      <th>3</th>\n",
       "      <td>3</td>\n",
       "      <td>2021-02-17</td>\n",
       "      <td>3480</td>\n",
       "      <td>1</td>\n",
       "      <td>chelsea</td>\n",
       "      <td>1.25</td>\n",
       "      <td>2644.8</td>\n",
       "      <td>True</td>\n",
       "      <td>True</td>\n",
       "      <td>75.40767</td>\n",
       "      <td>...</td>\n",
       "      <td>2021-05-18</td>\n",
       "      <td>0</td>\n",
       "      <td>2021-05-19</td>\n",
       "      <td>0</td>\n",
       "      <td>2021-05-20</td>\n",
       "      <td>0</td>\n",
       "      <td>2021-05-21</td>\n",
       "      <td>0</td>\n",
       "      <td>2021-05-22</td>\n",
       "      <td>0</td>\n",
       "    </tr>\n",
       "    <tr>\n",
       "      <th>4</th>\n",
       "      <td>4</td>\n",
       "      <td>2021-02-17</td>\n",
       "      <td>3480</td>\n",
       "      <td>1</td>\n",
       "      <td>chelsea</td>\n",
       "      <td>1.25</td>\n",
       "      <td>2644.8</td>\n",
       "      <td>True</td>\n",
       "      <td>True</td>\n",
       "      <td>75.40767</td>\n",
       "      <td>...</td>\n",
       "      <td>2021-05-18</td>\n",
       "      <td>0</td>\n",
       "      <td>2021-05-19</td>\n",
       "      <td>0</td>\n",
       "      <td>2021-05-20</td>\n",
       "      <td>0</td>\n",
       "      <td>2021-05-21</td>\n",
       "      <td>0</td>\n",
       "      <td>2021-05-22</td>\n",
       "      <td>0</td>\n",
       "    </tr>\n",
       "  </tbody>\n",
       "</table>\n",
       "<p>5 rows × 59 columns</p>\n",
       "</div>"
      ],
      "text/plain": [
       "   id  planted_on  stems  block  variety  bell_sd  expected_yield  \\\n",
       "0   0  2021-02-15   3480      1  chelsea     1.25          2644.8   \n",
       "1   1  2021-02-15   3480      1  chelsea     1.25          2644.8   \n",
       "2   2  2021-02-15   3480      1  chelsea     1.25          2644.8   \n",
       "3   3  2021-02-17   3480      1  chelsea     1.25          2644.8   \n",
       "4   4  2021-02-17   3480      1  chelsea     1.25          2644.8   \n",
       "\n",
       "   enough_weather_data  valid_combo        mu  ...  fecha_dia_19  \\\n",
       "0                 True         True  75.75516  ...    2021-05-16   \n",
       "1                 True         True  75.75516  ...    2021-05-16   \n",
       "2                 True         True  75.75516  ...    2021-05-16   \n",
       "3                 True         True  75.40767  ...    2021-05-18   \n",
       "4                 True         True  75.40767  ...    2021-05-18   \n",
       "\n",
       "   tallos_dia_19  fecha_dia_20 tallos_dia_20  fecha_dia_21 tallos_dia_21  \\\n",
       "0              0    2021-05-17             0    2021-05-18             0   \n",
       "1              0    2021-05-17             0    2021-05-18             0   \n",
       "2              0    2021-05-17             0    2021-05-18             0   \n",
       "3              0    2021-05-19             0    2021-05-20             0   \n",
       "4              0    2021-05-19             0    2021-05-20             0   \n",
       "\n",
       "   fecha_dia_22 tallos_dia_22  fecha_dia_23 tallos_dia_23  \n",
       "0    2021-05-19             0    2021-05-20             0  \n",
       "1    2021-05-19             0    2021-05-20             0  \n",
       "2    2021-05-19             0    2021-05-20             0  \n",
       "3    2021-05-21             0    2021-05-22             0  \n",
       "4    2021-05-21             0    2021-05-22             0  \n",
       "\n",
       "[5 rows x 59 columns]"
      ]
     },
     "execution_count": 13,
     "metadata": {},
     "output_type": "execute_result"
    }
   ],
   "source": [
    "df.head()"
   ]
  },
  {
   "cell_type": "code",
   "execution_count": 14,
   "metadata": {},
   "outputs": [],
   "source": [
    "info_df=df[[\"planted_on\",\"stems\",\"variety\",\"expected_yield\"]][:5]"
   ]
  },
  {
   "cell_type": "code",
   "execution_count": 15,
   "metadata": {},
   "outputs": [],
   "source": [
    "info_df.to_csv(\"info_df.csv\")"
   ]
  },
  {
   "cell_type": "code",
   "execution_count": 182,
   "metadata": {},
   "outputs": [],
   "source": [
    "df[\"planted_on\"]=pd.to_datetime(df[\"planted_on\"])"
   ]
  },
  {
   "cell_type": "code",
   "execution_count": 183,
   "metadata": {},
   "outputs": [],
   "source": [
    "for i in range(1,24):\n",
    "    df[\"fecha_dia_\"+str(i)]=pd.to_datetime(df['fecha_dia_'+str(i)])"
   ]
  },
  {
   "cell_type": "code",
   "execution_count": 143,
   "metadata": {},
   "outputs": [
    {
     "data": {
      "text/plain": [
       "Timestamp('2021-04-28 00:00:00')"
      ]
     },
     "execution_count": 143,
     "metadata": {},
     "output_type": "execute_result"
    }
   ],
   "source": [
    "df[\"fecha_dia_1\"][0]"
   ]
  },
  {
   "cell_type": "code",
   "execution_count": 329,
   "metadata": {},
   "outputs": [],
   "source": [
    "def filter_planted_after(df, start_date):### select only those planted after a given date\n",
    "    \"\"\"Filter a datframe based on to dates.\"\"\"\n",
    "    filtered_df= df[df['planted_on']>=start_date]\n",
    "    return filtered_df"
   ]
  },
  {
   "cell_type": "code",
   "execution_count": 18,
   "metadata": {},
   "outputs": [
    {
     "data": {
      "text/html": [
       "<div>\n",
       "<style scoped>\n",
       "    .dataframe tbody tr th:only-of-type {\n",
       "        vertical-align: middle;\n",
       "    }\n",
       "\n",
       "    .dataframe tbody tr th {\n",
       "        vertical-align: top;\n",
       "    }\n",
       "\n",
       "    .dataframe thead th {\n",
       "        text-align: right;\n",
       "    }\n",
       "</style>\n",
       "<table border=\"1\" class=\"dataframe\">\n",
       "  <thead>\n",
       "    <tr style=\"text-align: right;\">\n",
       "      <th></th>\n",
       "      <th>id</th>\n",
       "      <th>planted_on</th>\n",
       "      <th>stems</th>\n",
       "      <th>block</th>\n",
       "      <th>variety</th>\n",
       "      <th>bell_sd</th>\n",
       "      <th>expected_yield</th>\n",
       "      <th>enough_weather_data</th>\n",
       "      <th>valid_combo</th>\n",
       "      <th>mu</th>\n",
       "      <th>...</th>\n",
       "      <th>fecha_dia_19</th>\n",
       "      <th>tallos_dia_19</th>\n",
       "      <th>fecha_dia_20</th>\n",
       "      <th>tallos_dia_20</th>\n",
       "      <th>fecha_dia_21</th>\n",
       "      <th>tallos_dia_21</th>\n",
       "      <th>fecha_dia_22</th>\n",
       "      <th>tallos_dia_22</th>\n",
       "      <th>fecha_dia_23</th>\n",
       "      <th>tallos_dia_23</th>\n",
       "    </tr>\n",
       "  </thead>\n",
       "  <tbody>\n",
       "    <tr>\n",
       "      <th>0</th>\n",
       "      <td>0</td>\n",
       "      <td>2021-02-15</td>\n",
       "      <td>3480</td>\n",
       "      <td>1</td>\n",
       "      <td>chelsea</td>\n",
       "      <td>1.25</td>\n",
       "      <td>2644.8</td>\n",
       "      <td>True</td>\n",
       "      <td>True</td>\n",
       "      <td>75.75516</td>\n",
       "      <td>...</td>\n",
       "      <td>2021-05-16</td>\n",
       "      <td>0</td>\n",
       "      <td>2021-05-17</td>\n",
       "      <td>0</td>\n",
       "      <td>2021-05-18</td>\n",
       "      <td>0</td>\n",
       "      <td>2021-05-19</td>\n",
       "      <td>0</td>\n",
       "      <td>2021-05-20</td>\n",
       "      <td>0</td>\n",
       "    </tr>\n",
       "    <tr>\n",
       "      <th>1</th>\n",
       "      <td>1</td>\n",
       "      <td>2021-02-15</td>\n",
       "      <td>3480</td>\n",
       "      <td>1</td>\n",
       "      <td>chelsea</td>\n",
       "      <td>1.25</td>\n",
       "      <td>2644.8</td>\n",
       "      <td>True</td>\n",
       "      <td>True</td>\n",
       "      <td>75.75516</td>\n",
       "      <td>...</td>\n",
       "      <td>2021-05-16</td>\n",
       "      <td>0</td>\n",
       "      <td>2021-05-17</td>\n",
       "      <td>0</td>\n",
       "      <td>2021-05-18</td>\n",
       "      <td>0</td>\n",
       "      <td>2021-05-19</td>\n",
       "      <td>0</td>\n",
       "      <td>2021-05-20</td>\n",
       "      <td>0</td>\n",
       "    </tr>\n",
       "    <tr>\n",
       "      <th>2</th>\n",
       "      <td>2</td>\n",
       "      <td>2021-02-15</td>\n",
       "      <td>3480</td>\n",
       "      <td>1</td>\n",
       "      <td>chelsea</td>\n",
       "      <td>1.25</td>\n",
       "      <td>2644.8</td>\n",
       "      <td>True</td>\n",
       "      <td>True</td>\n",
       "      <td>75.75516</td>\n",
       "      <td>...</td>\n",
       "      <td>2021-05-16</td>\n",
       "      <td>0</td>\n",
       "      <td>2021-05-17</td>\n",
       "      <td>0</td>\n",
       "      <td>2021-05-18</td>\n",
       "      <td>0</td>\n",
       "      <td>2021-05-19</td>\n",
       "      <td>0</td>\n",
       "      <td>2021-05-20</td>\n",
       "      <td>0</td>\n",
       "    </tr>\n",
       "    <tr>\n",
       "      <th>3</th>\n",
       "      <td>3</td>\n",
       "      <td>2021-02-17</td>\n",
       "      <td>3480</td>\n",
       "      <td>1</td>\n",
       "      <td>chelsea</td>\n",
       "      <td>1.25</td>\n",
       "      <td>2644.8</td>\n",
       "      <td>True</td>\n",
       "      <td>True</td>\n",
       "      <td>75.40767</td>\n",
       "      <td>...</td>\n",
       "      <td>2021-05-18</td>\n",
       "      <td>0</td>\n",
       "      <td>2021-05-19</td>\n",
       "      <td>0</td>\n",
       "      <td>2021-05-20</td>\n",
       "      <td>0</td>\n",
       "      <td>2021-05-21</td>\n",
       "      <td>0</td>\n",
       "      <td>2021-05-22</td>\n",
       "      <td>0</td>\n",
       "    </tr>\n",
       "    <tr>\n",
       "      <th>4</th>\n",
       "      <td>4</td>\n",
       "      <td>2021-02-17</td>\n",
       "      <td>3480</td>\n",
       "      <td>1</td>\n",
       "      <td>chelsea</td>\n",
       "      <td>1.25</td>\n",
       "      <td>2644.8</td>\n",
       "      <td>True</td>\n",
       "      <td>True</td>\n",
       "      <td>75.40767</td>\n",
       "      <td>...</td>\n",
       "      <td>2021-05-18</td>\n",
       "      <td>0</td>\n",
       "      <td>2021-05-19</td>\n",
       "      <td>0</td>\n",
       "      <td>2021-05-20</td>\n",
       "      <td>0</td>\n",
       "      <td>2021-05-21</td>\n",
       "      <td>0</td>\n",
       "      <td>2021-05-22</td>\n",
       "      <td>0</td>\n",
       "    </tr>\n",
       "  </tbody>\n",
       "</table>\n",
       "<p>5 rows × 59 columns</p>\n",
       "</div>"
      ],
      "text/plain": [
       "   id planted_on  stems  block  variety  bell_sd  expected_yield  \\\n",
       "0   0 2021-02-15   3480      1  chelsea     1.25          2644.8   \n",
       "1   1 2021-02-15   3480      1  chelsea     1.25          2644.8   \n",
       "2   2 2021-02-15   3480      1  chelsea     1.25          2644.8   \n",
       "3   3 2021-02-17   3480      1  chelsea     1.25          2644.8   \n",
       "4   4 2021-02-17   3480      1  chelsea     1.25          2644.8   \n",
       "\n",
       "   enough_weather_data  valid_combo        mu  ...  fecha_dia_19  \\\n",
       "0                 True         True  75.75516  ...    2021-05-16   \n",
       "1                 True         True  75.75516  ...    2021-05-16   \n",
       "2                 True         True  75.75516  ...    2021-05-16   \n",
       "3                 True         True  75.40767  ...    2021-05-18   \n",
       "4                 True         True  75.40767  ...    2021-05-18   \n",
       "\n",
       "   tallos_dia_19  fecha_dia_20 tallos_dia_20  fecha_dia_21 tallos_dia_21  \\\n",
       "0              0    2021-05-17             0    2021-05-18             0   \n",
       "1              0    2021-05-17             0    2021-05-18             0   \n",
       "2              0    2021-05-17             0    2021-05-18             0   \n",
       "3              0    2021-05-19             0    2021-05-20             0   \n",
       "4              0    2021-05-19             0    2021-05-20             0   \n",
       "\n",
       "   fecha_dia_22 tallos_dia_22  fecha_dia_23 tallos_dia_23  \n",
       "0    2021-05-19             0    2021-05-20             0  \n",
       "1    2021-05-19             0    2021-05-20             0  \n",
       "2    2021-05-19             0    2021-05-20             0  \n",
       "3    2021-05-21             0    2021-05-22             0  \n",
       "4    2021-05-21             0    2021-05-22             0  \n",
       "\n",
       "[5 rows x 59 columns]"
      ]
     },
     "execution_count": 18,
     "metadata": {},
     "output_type": "execute_result"
    }
   ],
   "source": [
    "df.head()"
   ]
  },
  {
   "cell_type": "code",
   "execution_count": 8,
   "metadata": {},
   "outputs": [],
   "source": [
    "recent_df=filter_planted_after(df,starting_date)"
   ]
  },
  {
   "cell_type": "code",
   "execution_count": 39,
   "metadata": {},
   "outputs": [
    {
     "data": {
      "text/plain": [
       "[numpy.datetime64('2022-09-21T00:00:00.000000000'),\n",
       " numpy.datetime64('2022-09-22T00:00:00.000000000'),\n",
       " numpy.datetime64('2022-09-23T00:00:00.000000000'),\n",
       " numpy.datetime64('2022-09-24T00:00:00.000000000'),\n",
       " numpy.datetime64('2022-09-26T00:00:00.000000000'),\n",
       " numpy.datetime64('2022-09-27T00:00:00.000000000'),\n",
       " numpy.datetime64('2022-09-28T00:00:00.000000000'),\n",
       " numpy.datetime64('2022-09-29T00:00:00.000000000'),\n",
       " numpy.datetime64('2022-09-30T00:00:00.000000000'),\n",
       " numpy.datetime64('2022-10-01T00:00:00.000000000'),\n",
       " numpy.datetime64('2022-10-03T00:00:00.000000000'),\n",
       " numpy.datetime64('2022-10-04T00:00:00.000000000'),\n",
       " numpy.datetime64('2022-10-05T00:00:00.000000000'),\n",
       " numpy.datetime64('2022-10-06T00:00:00.000000000'),\n",
       " numpy.datetime64('2022-10-07T00:00:00.000000000'),\n",
       " numpy.datetime64('2022-10-08T00:00:00.000000000'),\n",
       " numpy.datetime64('2022-10-10T00:00:00.000000000')]"
      ]
     },
     "execution_count": 39,
     "metadata": {},
     "output_type": "execute_result"
    }
   ],
   "source": [
    "list(sorted(recent_df[\"planted_on\"].unique()))"
   ]
  },
  {
   "cell_type": "code",
   "execution_count": 48,
   "metadata": {},
   "outputs": [],
   "source": [
    "bl=recent_df[\"block\"].unique().tolist()"
   ]
  },
  {
   "cell_type": "code",
   "execution_count": 53,
   "metadata": {},
   "outputs": [
    {
     "data": {
      "text/plain": [
       "int"
      ]
     },
     "execution_count": 53,
     "metadata": {},
     "output_type": "execute_result"
    }
   ],
   "source": [
    "type(bl[0])"
   ]
  },
  {
   "cell_type": "code",
   "execution_count": 61,
   "metadata": {},
   "outputs": [
    {
     "data": {
      "text/plain": [
       "'4'"
      ]
     },
     "execution_count": 61,
     "metadata": {},
     "output_type": "execute_result"
    }
   ],
   "source": [
    "str(4)"
   ]
  },
  {
   "cell_type": "code",
   "execution_count": 65,
   "metadata": {},
   "outputs": [
    {
     "data": {
      "text/plain": [
       "list"
      ]
     },
     "execution_count": 65,
     "metadata": {},
     "output_type": "execute_result"
    }
   ],
   "source": [
    "type(bl)"
   ]
  },
  {
   "cell_type": "code",
   "execution_count": 69,
   "metadata": {},
   "outputs": [
    {
     "ename": "NameError",
     "evalue": "name 'z' is not defined",
     "output_type": "error",
     "traceback": [
      "\u001b[0;31m---------------------------------------------------------------------------\u001b[0m",
      "\u001b[0;31mNameError\u001b[0m                                 Traceback (most recent call last)",
      "Cell \u001b[0;32mIn[69], line 1\u001b[0m\n\u001b[0;32m----> 1\u001b[0m z\n",
      "\u001b[0;31mNameError\u001b[0m: name 'z' is not defined"
     ]
    }
   ],
   "source": []
  },
  {
   "cell_type": "code",
   "execution_count": 74,
   "metadata": {},
   "outputs": [],
   "source": [
    "del(list)"
   ]
  },
  {
   "cell_type": "code",
   "execution_count": 77,
   "metadata": {},
   "outputs": [],
   "source": [
    "adf=list(map(lambda z: \"Bloque \"+str(z),bl))"
   ]
  },
  {
   "cell_type": "code",
   "execution_count": 79,
   "metadata": {},
   "outputs": [
    {
     "data": {
      "text/html": [
       "<div>\n",
       "<style scoped>\n",
       "    .dataframe tbody tr th:only-of-type {\n",
       "        vertical-align: middle;\n",
       "    }\n",
       "\n",
       "    .dataframe tbody tr th {\n",
       "        vertical-align: top;\n",
       "    }\n",
       "\n",
       "    .dataframe thead th {\n",
       "        text-align: right;\n",
       "    }\n",
       "</style>\n",
       "<table border=\"1\" class=\"dataframe\">\n",
       "  <thead>\n",
       "    <tr style=\"text-align: right;\">\n",
       "      <th></th>\n",
       "      <th>id</th>\n",
       "      <th>planted_on</th>\n",
       "      <th>stems</th>\n",
       "      <th>block</th>\n",
       "      <th>variety</th>\n",
       "      <th>bell_sd</th>\n",
       "      <th>expected_yield</th>\n",
       "      <th>enough_weather_data</th>\n",
       "      <th>valid_combo</th>\n",
       "      <th>mu</th>\n",
       "      <th>...</th>\n",
       "      <th>fecha_dia_19</th>\n",
       "      <th>tallos_dia_19</th>\n",
       "      <th>fecha_dia_20</th>\n",
       "      <th>tallos_dia_20</th>\n",
       "      <th>fecha_dia_21</th>\n",
       "      <th>tallos_dia_21</th>\n",
       "      <th>fecha_dia_22</th>\n",
       "      <th>tallos_dia_22</th>\n",
       "      <th>fecha_dia_23</th>\n",
       "      <th>tallos_dia_23</th>\n",
       "    </tr>\n",
       "  </thead>\n",
       "  <tbody>\n",
       "    <tr>\n",
       "      <th>3987</th>\n",
       "      <td>3987</td>\n",
       "      <td>2022-09-21</td>\n",
       "      <td>3480</td>\n",
       "      <td>23</td>\n",
       "      <td>potomac crimson</td>\n",
       "      <td>3.50</td>\n",
       "      <td>3097.2</td>\n",
       "      <td>True</td>\n",
       "      <td>True</td>\n",
       "      <td>67.157600</td>\n",
       "      <td>...</td>\n",
       "      <td>2022-12-05</td>\n",
       "      <td>48</td>\n",
       "      <td>2022-12-06</td>\n",
       "      <td>26</td>\n",
       "      <td>2022-12-07</td>\n",
       "      <td>13</td>\n",
       "      <td>2022-12-08</td>\n",
       "      <td>6</td>\n",
       "      <td>2022-12-09</td>\n",
       "      <td>3</td>\n",
       "    </tr>\n",
       "    <tr>\n",
       "      <th>3988</th>\n",
       "      <td>3988</td>\n",
       "      <td>2022-09-23</td>\n",
       "      <td>3480</td>\n",
       "      <td>23</td>\n",
       "      <td>potomac crimson</td>\n",
       "      <td>3.50</td>\n",
       "      <td>3097.2</td>\n",
       "      <td>True</td>\n",
       "      <td>True</td>\n",
       "      <td>67.240170</td>\n",
       "      <td>...</td>\n",
       "      <td>2022-12-07</td>\n",
       "      <td>48</td>\n",
       "      <td>2022-12-08</td>\n",
       "      <td>26</td>\n",
       "      <td>2022-12-09</td>\n",
       "      <td>13</td>\n",
       "      <td>2022-12-10</td>\n",
       "      <td>6</td>\n",
       "      <td>2022-12-11</td>\n",
       "      <td>3</td>\n",
       "    </tr>\n",
       "    <tr>\n",
       "      <th>3989</th>\n",
       "      <td>3989</td>\n",
       "      <td>2022-10-06</td>\n",
       "      <td>6960</td>\n",
       "      <td>23</td>\n",
       "      <td>potomac crimson</td>\n",
       "      <td>3.50</td>\n",
       "      <td>6194.4</td>\n",
       "      <td>True</td>\n",
       "      <td>True</td>\n",
       "      <td>57.617120</td>\n",
       "      <td>...</td>\n",
       "      <td>2022-12-10</td>\n",
       "      <td>97</td>\n",
       "      <td>2022-12-11</td>\n",
       "      <td>53</td>\n",
       "      <td>2022-12-12</td>\n",
       "      <td>26</td>\n",
       "      <td>2022-12-13</td>\n",
       "      <td>12</td>\n",
       "      <td>2022-12-14</td>\n",
       "      <td>5</td>\n",
       "    </tr>\n",
       "    <tr>\n",
       "      <th>4020</th>\n",
       "      <td>4020</td>\n",
       "      <td>2022-10-10</td>\n",
       "      <td>3540</td>\n",
       "      <td>23</td>\n",
       "      <td>potomac early orange</td>\n",
       "      <td>2.00</td>\n",
       "      <td>3009.0</td>\n",
       "      <td>True</td>\n",
       "      <td>True</td>\n",
       "      <td>49.973250</td>\n",
       "      <td>...</td>\n",
       "      <td>2022-12-11</td>\n",
       "      <td>0</td>\n",
       "      <td>2022-12-12</td>\n",
       "      <td>0</td>\n",
       "      <td>2022-12-13</td>\n",
       "      <td>0</td>\n",
       "      <td>2022-12-14</td>\n",
       "      <td>0</td>\n",
       "      <td>2022-12-15</td>\n",
       "      <td>0</td>\n",
       "    </tr>\n",
       "    <tr>\n",
       "      <th>4152</th>\n",
       "      <td>4152</td>\n",
       "      <td>2022-09-22</td>\n",
       "      <td>3480</td>\n",
       "      <td>23</td>\n",
       "      <td>potomac early rosse</td>\n",
       "      <td>3.25</td>\n",
       "      <td>2958.0</td>\n",
       "      <td>True</td>\n",
       "      <td>True</td>\n",
       "      <td>60.995636</td>\n",
       "      <td>...</td>\n",
       "      <td>2022-11-30</td>\n",
       "      <td>22</td>\n",
       "      <td>2022-12-01</td>\n",
       "      <td>10</td>\n",
       "      <td>2022-12-02</td>\n",
       "      <td>4</td>\n",
       "      <td>2022-12-03</td>\n",
       "      <td>2</td>\n",
       "      <td>2022-12-04</td>\n",
       "      <td>1</td>\n",
       "    </tr>\n",
       "  </tbody>\n",
       "</table>\n",
       "<p>5 rows × 59 columns</p>\n",
       "</div>"
      ],
      "text/plain": [
       "        id planted_on  stems  block               variety  bell_sd  \\\n",
       "3987  3987 2022-09-21   3480     23       potomac crimson     3.50   \n",
       "3988  3988 2022-09-23   3480     23       potomac crimson     3.50   \n",
       "3989  3989 2022-10-06   6960     23       potomac crimson     3.50   \n",
       "4020  4020 2022-10-10   3540     23  potomac early orange     2.00   \n",
       "4152  4152 2022-09-22   3480     23   potomac early rosse     3.25   \n",
       "\n",
       "      expected_yield  enough_weather_data  valid_combo         mu  ...  \\\n",
       "3987          3097.2                 True         True  67.157600  ...   \n",
       "3988          3097.2                 True         True  67.240170  ...   \n",
       "3989          6194.4                 True         True  57.617120  ...   \n",
       "4020          3009.0                 True         True  49.973250  ...   \n",
       "4152          2958.0                 True         True  60.995636  ...   \n",
       "\n",
       "      fecha_dia_19  tallos_dia_19  fecha_dia_20 tallos_dia_20  fecha_dia_21  \\\n",
       "3987    2022-12-05             48    2022-12-06            26    2022-12-07   \n",
       "3988    2022-12-07             48    2022-12-08            26    2022-12-09   \n",
       "3989    2022-12-10             97    2022-12-11            53    2022-12-12   \n",
       "4020    2022-12-11              0    2022-12-12             0    2022-12-13   \n",
       "4152    2022-11-30             22    2022-12-01            10    2022-12-02   \n",
       "\n",
       "     tallos_dia_21  fecha_dia_22 tallos_dia_22  fecha_dia_23 tallos_dia_23  \n",
       "3987            13    2022-12-08             6    2022-12-09             3  \n",
       "3988            13    2022-12-10             6    2022-12-11             3  \n",
       "3989            26    2022-12-13            12    2022-12-14             5  \n",
       "4020             0    2022-12-14             0    2022-12-15             0  \n",
       "4152             4    2022-12-03             2    2022-12-04             1  \n",
       "\n",
       "[5 rows x 59 columns]"
      ]
     },
     "execution_count": 79,
     "metadata": {},
     "output_type": "execute_result"
    }
   ],
   "source": [
    "recent_df.head()"
   ]
  },
  {
   "cell_type": "code",
   "execution_count": 78,
   "metadata": {},
   "outputs": [
    {
     "data": {
      "text/plain": [
       "['Bloque 23', 'Bloque 30', 'Bloque 33', 'Bloque 39', 'Bloque 55', 'Bloque 64']"
      ]
     },
     "execution_count": 78,
     "metadata": {},
     "output_type": "execute_result"
    }
   ],
   "source": [
    "adf"
   ]
  },
  {
   "cell_type": "code",
   "execution_count": 81,
   "metadata": {},
   "outputs": [],
   "source": [
    "variedades=recent_df[\"variety\"].unique().tolist()"
   ]
  },
  {
   "cell_type": "code",
   "execution_count": 83,
   "metadata": {},
   "outputs": [],
   "source": [
    "variedades=list(map(lambda z: z.capitalize(),variedades))"
   ]
  },
  {
   "cell_type": "code",
   "execution_count": 84,
   "metadata": {},
   "outputs": [
    {
     "data": {
      "text/plain": [
       "['Potomac crimson',\n",
       " 'Potomac early orange',\n",
       " 'Potomac early rosse',\n",
       " 'Potomac early white',\n",
       " 'Potomac early pink',\n",
       " 'Potomac early yellow',\n",
       " 'Alma',\n",
       " 'Soleado',\n",
       " 'Aneto',\n",
       " 'Veronica',\n",
       " 'Candy crush mint',\n",
       " 'Candy crush red',\n",
       " 'Lucy',\n",
       " 'Skylie']"
      ]
     },
     "execution_count": 84,
     "metadata": {},
     "output_type": "execute_result"
    }
   ],
   "source": [
    "variedades"
   ]
  },
  {
   "cell_type": "code",
   "execution_count": 87,
   "metadata": {},
   "outputs": [],
   "source": [
    "from dash import Dash, dash_table\n",
    "import pandas as pd\n",
    "\n",
    "dfteset = pd.read_csv('https://raw.githubusercontent.com/plotly/datasets/master/solar.csv')\n"
   ]
  },
  {
   "cell_type": "code",
   "execution_count": 3,
   "metadata": {},
   "outputs": [],
   "source": [
    "dftest = pd.read_csv('https://raw.githubusercontent.com/plotly/datasets/master/solar.csv')\n"
   ]
  },
  {
   "cell_type": "code",
   "execution_count": 4,
   "metadata": {},
   "outputs": [
    {
     "data": {
      "text/html": [
       "<div>\n",
       "<style scoped>\n",
       "    .dataframe tbody tr th:only-of-type {\n",
       "        vertical-align: middle;\n",
       "    }\n",
       "\n",
       "    .dataframe tbody tr th {\n",
       "        vertical-align: top;\n",
       "    }\n",
       "\n",
       "    .dataframe thead th {\n",
       "        text-align: right;\n",
       "    }\n",
       "</style>\n",
       "<table border=\"1\" class=\"dataframe\">\n",
       "  <thead>\n",
       "    <tr style=\"text-align: right;\">\n",
       "      <th></th>\n",
       "      <th>State</th>\n",
       "      <th>Number of Solar Plants</th>\n",
       "      <th>Installed Capacity (MW)</th>\n",
       "      <th>Average MW Per Plant</th>\n",
       "      <th>Generation (GWh)</th>\n",
       "    </tr>\n",
       "  </thead>\n",
       "  <tbody>\n",
       "    <tr>\n",
       "      <th>0</th>\n",
       "      <td>California</td>\n",
       "      <td>289</td>\n",
       "      <td>4395</td>\n",
       "      <td>15.3</td>\n",
       "      <td>10826</td>\n",
       "    </tr>\n",
       "    <tr>\n",
       "      <th>1</th>\n",
       "      <td>Arizona</td>\n",
       "      <td>48</td>\n",
       "      <td>1078</td>\n",
       "      <td>22.5</td>\n",
       "      <td>2550</td>\n",
       "    </tr>\n",
       "    <tr>\n",
       "      <th>2</th>\n",
       "      <td>Nevada</td>\n",
       "      <td>11</td>\n",
       "      <td>238</td>\n",
       "      <td>21.6</td>\n",
       "      <td>557</td>\n",
       "    </tr>\n",
       "    <tr>\n",
       "      <th>3</th>\n",
       "      <td>New Mexico</td>\n",
       "      <td>33</td>\n",
       "      <td>261</td>\n",
       "      <td>7.9</td>\n",
       "      <td>590</td>\n",
       "    </tr>\n",
       "    <tr>\n",
       "      <th>4</th>\n",
       "      <td>Colorado</td>\n",
       "      <td>20</td>\n",
       "      <td>118</td>\n",
       "      <td>5.9</td>\n",
       "      <td>235</td>\n",
       "    </tr>\n",
       "  </tbody>\n",
       "</table>\n",
       "</div>"
      ],
      "text/plain": [
       "        State  Number of Solar Plants  Installed Capacity (MW)  \\\n",
       "0  California                     289                     4395   \n",
       "1     Arizona                      48                     1078   \n",
       "2      Nevada                      11                      238   \n",
       "3  New Mexico                      33                      261   \n",
       "4    Colorado                      20                      118   \n",
       "\n",
       "   Average MW Per Plant  Generation (GWh)  \n",
       "0                  15.3             10826  \n",
       "1                  22.5              2550  \n",
       "2                  21.6               557  \n",
       "3                   7.9               590  \n",
       "4                   5.9               235  "
      ]
     },
     "execution_count": 4,
     "metadata": {},
     "output_type": "execute_result"
    }
   ],
   "source": [
    "dftest.head()"
   ]
  },
  {
   "cell_type": "code",
   "execution_count": 9,
   "metadata": {},
   "outputs": [
    {
     "name": "stdout",
     "output_type": "stream",
     "text": [
      "Dash is running on http://127.0.0.1:8050/\n",
      "\n",
      "Dash is running on http://127.0.0.1:8050/\n",
      "\n",
      " * Serving Flask app '__main__'\n",
      " * Debug mode: on\n"
     ]
    },
    {
     "name": "stderr",
     "output_type": "stream",
     "text": [
      "Traceback (most recent call last):\n",
      "  File \"/opt/miniconda3/envs/dash_tutorial/lib/python3.10/site-packages/ipykernel_launcher.py\", line 17, in <module>\n",
      "    app.launch_new_instance()\n",
      "  File \"/opt/miniconda3/envs/dash_tutorial/lib/python3.10/site-packages/traitlets/config/application.py\", line 991, in launch_instance\n",
      "    app.initialize(argv)\n",
      "  File \"/opt/miniconda3/envs/dash_tutorial/lib/python3.10/site-packages/traitlets/config/application.py\", line 113, in inner\n",
      "    return method(app, *args, **kwargs)\n",
      "  File \"/opt/miniconda3/envs/dash_tutorial/lib/python3.10/site-packages/ipykernel/kernelapp.py\", line 665, in initialize\n",
      "    self.init_sockets()\n",
      "  File \"/opt/miniconda3/envs/dash_tutorial/lib/python3.10/site-packages/ipykernel/kernelapp.py\", line 309, in init_sockets\n",
      "    self.shell_port = self._bind_socket(self.shell_socket, self.shell_port)\n",
      "  File \"/opt/miniconda3/envs/dash_tutorial/lib/python3.10/site-packages/ipykernel/kernelapp.py\", line 246, in _bind_socket\n",
      "    return self._try_bind_socket(s, port)\n",
      "  File \"/opt/miniconda3/envs/dash_tutorial/lib/python3.10/site-packages/ipykernel/kernelapp.py\", line 222, in _try_bind_socket\n",
      "    s.bind(\"tcp://%s:%i\" % (self.ip, port))\n",
      "  File \"/opt/miniconda3/envs/dash_tutorial/lib/python3.10/site-packages/zmq/sugar/socket.py\", line 232, in bind\n",
      "    super().bind(addr)\n",
      "  File \"zmq/backend/cython/socket.pyx\", line 568, in zmq.backend.cython.socket.Socket.bind\n",
      "  File \"zmq/backend/cython/checkrc.pxd\", line 28, in zmq.backend.cython.checkrc._check_rc\n",
      "zmq.error.ZMQError: Address already in use\n"
     ]
    },
    {
     "ename": "SystemExit",
     "evalue": "1",
     "output_type": "error",
     "traceback": [
      "An exception has occurred, use %tb to see the full traceback.\n",
      "\u001b[0;31mSystemExit\u001b[0m\u001b[0;31m:\u001b[0m 1\n"
     ]
    },
    {
     "name": "stderr",
     "output_type": "stream",
     "text": [
      "/opt/miniconda3/envs/dash_tutorial/lib/python3.10/site-packages/IPython/core/interactiveshell.py:3441: UserWarning: To exit: use 'exit', 'quit', or Ctrl-D.\n",
      "  warn(\"To exit: use 'exit', 'quit', or Ctrl-D.\", stacklevel=1)\n"
     ]
    }
   ],
   "source": []
  },
  {
   "cell_type": "code",
   "execution_count": 188,
   "metadata": {},
   "outputs": [],
   "source": [
    "short=df[:100]"
   ]
  },
  {
   "cell_type": "code",
   "execution_count": 155,
   "metadata": {},
   "outputs": [],
   "source": [
    "dias=[]\n",
    "for x in range(-100,100):\n",
    "    dias.append(date.today()+timedelta(days=x))\n"
   ]
  },
  {
   "cell_type": "code",
   "execution_count": 156,
   "metadata": {},
   "outputs": [
    {
     "data": {
      "text/plain": [
       "[datetime.date(2022, 9, 22),\n",
       " datetime.date(2022, 9, 23),\n",
       " datetime.date(2022, 9, 24),\n",
       " datetime.date(2022, 9, 25),\n",
       " datetime.date(2022, 9, 26),\n",
       " datetime.date(2022, 9, 27),\n",
       " datetime.date(2022, 9, 28),\n",
       " datetime.date(2022, 9, 29),\n",
       " datetime.date(2022, 9, 30),\n",
       " datetime.date(2022, 10, 1)]"
      ]
     },
     "execution_count": 156,
     "metadata": {},
     "output_type": "execute_result"
    }
   ],
   "source": [
    "dias[:10]"
   ]
  },
  {
   "cell_type": "code",
   "execution_count": 153,
   "metadata": {},
   "outputs": [],
   "source": [
    "dias=list(map(lambda z:pd.to_datetime(z),dias))"
   ]
  },
  {
   "cell_type": "code",
   "execution_count": 154,
   "metadata": {},
   "outputs": [
    {
     "data": {
      "text/plain": [
       "(25173, 59)"
      ]
     },
     "execution_count": 154,
     "metadata": {},
     "output_type": "execute_result"
    }
   ],
   "source": [
    "df.shape"
   ]
  },
  {
   "cell_type": "code",
   "execution_count": 47,
   "metadata": {},
   "outputs": [
    {
     "data": {
      "text/html": [
       "<div>\n",
       "<style scoped>\n",
       "    .dataframe tbody tr th:only-of-type {\n",
       "        vertical-align: middle;\n",
       "    }\n",
       "\n",
       "    .dataframe tbody tr th {\n",
       "        vertical-align: top;\n",
       "    }\n",
       "\n",
       "    .dataframe thead th {\n",
       "        text-align: right;\n",
       "    }\n",
       "</style>\n",
       "<table border=\"1\" class=\"dataframe\">\n",
       "  <thead>\n",
       "    <tr style=\"text-align: right;\">\n",
       "      <th></th>\n",
       "      <th>id</th>\n",
       "      <th>planted_on</th>\n",
       "      <th>stems</th>\n",
       "      <th>block</th>\n",
       "      <th>variety</th>\n",
       "      <th>bell_sd</th>\n",
       "      <th>expected_yield</th>\n",
       "      <th>enough_weather_data</th>\n",
       "      <th>valid_combo</th>\n",
       "      <th>mu</th>\n",
       "      <th>...</th>\n",
       "      <th>fecha_dia_19</th>\n",
       "      <th>tallos_dia_19</th>\n",
       "      <th>fecha_dia_20</th>\n",
       "      <th>tallos_dia_20</th>\n",
       "      <th>fecha_dia_21</th>\n",
       "      <th>tallos_dia_21</th>\n",
       "      <th>fecha_dia_22</th>\n",
       "      <th>tallos_dia_22</th>\n",
       "      <th>fecha_dia_23</th>\n",
       "      <th>tallos_dia_23</th>\n",
       "    </tr>\n",
       "  </thead>\n",
       "  <tbody>\n",
       "    <tr>\n",
       "      <th>0</th>\n",
       "      <td>0</td>\n",
       "      <td>2021-02-15</td>\n",
       "      <td>3480</td>\n",
       "      <td>1</td>\n",
       "      <td>chelsea</td>\n",
       "      <td>1.25</td>\n",
       "      <td>2644.8</td>\n",
       "      <td>True</td>\n",
       "      <td>True</td>\n",
       "      <td>75.75516</td>\n",
       "      <td>...</td>\n",
       "      <td>2021-05-16</td>\n",
       "      <td>0</td>\n",
       "      <td>2021-05-17</td>\n",
       "      <td>0</td>\n",
       "      <td>2021-05-18</td>\n",
       "      <td>0</td>\n",
       "      <td>2021-05-19</td>\n",
       "      <td>0</td>\n",
       "      <td>2021-05-20</td>\n",
       "      <td>0</td>\n",
       "    </tr>\n",
       "    <tr>\n",
       "      <th>1</th>\n",
       "      <td>1</td>\n",
       "      <td>2021-02-15</td>\n",
       "      <td>3480</td>\n",
       "      <td>1</td>\n",
       "      <td>chelsea</td>\n",
       "      <td>1.25</td>\n",
       "      <td>2644.8</td>\n",
       "      <td>True</td>\n",
       "      <td>True</td>\n",
       "      <td>75.75516</td>\n",
       "      <td>...</td>\n",
       "      <td>2021-05-16</td>\n",
       "      <td>0</td>\n",
       "      <td>2021-05-17</td>\n",
       "      <td>0</td>\n",
       "      <td>2021-05-18</td>\n",
       "      <td>0</td>\n",
       "      <td>2021-05-19</td>\n",
       "      <td>0</td>\n",
       "      <td>2021-05-20</td>\n",
       "      <td>0</td>\n",
       "    </tr>\n",
       "    <tr>\n",
       "      <th>2</th>\n",
       "      <td>2</td>\n",
       "      <td>2021-02-15</td>\n",
       "      <td>3480</td>\n",
       "      <td>1</td>\n",
       "      <td>chelsea</td>\n",
       "      <td>1.25</td>\n",
       "      <td>2644.8</td>\n",
       "      <td>True</td>\n",
       "      <td>True</td>\n",
       "      <td>75.75516</td>\n",
       "      <td>...</td>\n",
       "      <td>2021-05-16</td>\n",
       "      <td>0</td>\n",
       "      <td>2021-05-17</td>\n",
       "      <td>0</td>\n",
       "      <td>2021-05-18</td>\n",
       "      <td>0</td>\n",
       "      <td>2021-05-19</td>\n",
       "      <td>0</td>\n",
       "      <td>2021-05-20</td>\n",
       "      <td>0</td>\n",
       "    </tr>\n",
       "    <tr>\n",
       "      <th>3</th>\n",
       "      <td>3</td>\n",
       "      <td>2021-02-17</td>\n",
       "      <td>3480</td>\n",
       "      <td>1</td>\n",
       "      <td>chelsea</td>\n",
       "      <td>1.25</td>\n",
       "      <td>2644.8</td>\n",
       "      <td>True</td>\n",
       "      <td>True</td>\n",
       "      <td>75.40767</td>\n",
       "      <td>...</td>\n",
       "      <td>2021-05-18</td>\n",
       "      <td>0</td>\n",
       "      <td>2021-05-19</td>\n",
       "      <td>0</td>\n",
       "      <td>2021-05-20</td>\n",
       "      <td>0</td>\n",
       "      <td>2021-05-21</td>\n",
       "      <td>0</td>\n",
       "      <td>2021-05-22</td>\n",
       "      <td>0</td>\n",
       "    </tr>\n",
       "    <tr>\n",
       "      <th>4</th>\n",
       "      <td>4</td>\n",
       "      <td>2021-02-17</td>\n",
       "      <td>3480</td>\n",
       "      <td>1</td>\n",
       "      <td>chelsea</td>\n",
       "      <td>1.25</td>\n",
       "      <td>2644.8</td>\n",
       "      <td>True</td>\n",
       "      <td>True</td>\n",
       "      <td>75.40767</td>\n",
       "      <td>...</td>\n",
       "      <td>2021-05-18</td>\n",
       "      <td>0</td>\n",
       "      <td>2021-05-19</td>\n",
       "      <td>0</td>\n",
       "      <td>2021-05-20</td>\n",
       "      <td>0</td>\n",
       "      <td>2021-05-21</td>\n",
       "      <td>0</td>\n",
       "      <td>2021-05-22</td>\n",
       "      <td>0</td>\n",
       "    </tr>\n",
       "  </tbody>\n",
       "</table>\n",
       "<p>5 rows × 59 columns</p>\n",
       "</div>"
      ],
      "text/plain": [
       "   id planted_on  stems  block  variety  bell_sd  expected_yield  \\\n",
       "0   0 2021-02-15   3480      1  chelsea     1.25          2644.8   \n",
       "1   1 2021-02-15   3480      1  chelsea     1.25          2644.8   \n",
       "2   2 2021-02-15   3480      1  chelsea     1.25          2644.8   \n",
       "3   3 2021-02-17   3480      1  chelsea     1.25          2644.8   \n",
       "4   4 2021-02-17   3480      1  chelsea     1.25          2644.8   \n",
       "\n",
       "   enough_weather_data  valid_combo        mu  ...  fecha_dia_19  \\\n",
       "0                 True         True  75.75516  ...    2021-05-16   \n",
       "1                 True         True  75.75516  ...    2021-05-16   \n",
       "2                 True         True  75.75516  ...    2021-05-16   \n",
       "3                 True         True  75.40767  ...    2021-05-18   \n",
       "4                 True         True  75.40767  ...    2021-05-18   \n",
       "\n",
       "   tallos_dia_19  fecha_dia_20 tallos_dia_20  fecha_dia_21 tallos_dia_21  \\\n",
       "0              0    2021-05-17             0    2021-05-18             0   \n",
       "1              0    2021-05-17             0    2021-05-18             0   \n",
       "2              0    2021-05-17             0    2021-05-18             0   \n",
       "3              0    2021-05-19             0    2021-05-20             0   \n",
       "4              0    2021-05-19             0    2021-05-20             0   \n",
       "\n",
       "   fecha_dia_22 tallos_dia_22  fecha_dia_23 tallos_dia_23  \n",
       "0    2021-05-19             0    2021-05-20             0  \n",
       "1    2021-05-19             0    2021-05-20             0  \n",
       "2    2021-05-19             0    2021-05-20             0  \n",
       "3    2021-05-21             0    2021-05-22             0  \n",
       "4    2021-05-21             0    2021-05-22             0  \n",
       "\n",
       "[5 rows x 59 columns]"
      ]
     },
     "execution_count": 47,
     "metadata": {},
     "output_type": "execute_result"
    }
   ],
   "source": [
    "df.head()"
   ]
  },
  {
   "cell_type": "code",
   "execution_count": 60,
   "metadata": {},
   "outputs": [
    {
     "ename": "KeyboardInterrupt",
     "evalue": "",
     "output_type": "error",
     "traceback": [
      "\u001b[0;31m---------------------------------------------------------------------------\u001b[0m",
      "\u001b[0;31mKeyboardInterrupt\u001b[0m                         Traceback (most recent call last)",
      "Cell \u001b[0;32mIn[60], line 3\u001b[0m\n\u001b[1;32m      1\u001b[0m value\u001b[39m=\u001b[39m[]\n\u001b[1;32m      2\u001b[0m \u001b[39mfor\u001b[39;00m dia \u001b[39min\u001b[39;00m dias:\n\u001b[0;32m----> 3\u001b[0m     value\u001b[39m.\u001b[39mappend(get_available_stalks(df[df[\u001b[39m\"\u001b[39;49m\u001b[39mvariety\u001b[39;49m\u001b[39m\"\u001b[39;49m]\u001b[39m==\u001b[39;49m\u001b[39m\"\u001b[39;49m\u001b[39mchelsea\u001b[39;49m\u001b[39m\"\u001b[39;49m],dia,\u001b[39m50\u001b[39;49m))\n",
      "File \u001b[0;32m~/Desktop/Impossible/Projects/flower_viewer/production_prediction.py:89\u001b[0m, in \u001b[0;36mget_available_stalks\u001b[0;34m(stalks_df, date, var_duration)\u001b[0m\n\u001b[1;32m     87\u001b[0m \u001b[39mfor\u001b[39;00m date \u001b[39min\u001b[39;00m dates:\n\u001b[1;32m     88\u001b[0m     \u001b[39mfor\u001b[39;00m i \u001b[39min\u001b[39;00m \u001b[39mrange\u001b[39m(\u001b[39m23\u001b[39m):\n\u001b[0;32m---> 89\u001b[0m         \u001b[39mif\u001b[39;00m stalks_df[stalks_df[\u001b[39mf\u001b[39;49m\u001b[39m\"\u001b[39;49m\u001b[39mfecha_dia_\u001b[39;49m\u001b[39m{\u001b[39;49;00mi\u001b[39m+\u001b[39;49m\u001b[39m1\u001b[39;49m\u001b[39m}\u001b[39;49;00m\u001b[39m\"\u001b[39;49m] \u001b[39m==\u001b[39;49m date][\u001b[39mf\u001b[39m\u001b[39m\"\u001b[39m\u001b[39mtallos_dia_\u001b[39m\u001b[39m{\u001b[39;00mi\u001b[39m+\u001b[39m\u001b[39m1\u001b[39m\u001b[39m}\u001b[39;00m\u001b[39m\"\u001b[39m]\u001b[39m.\u001b[39msum():\n\u001b[1;32m     90\u001b[0m             total_stalks \u001b[39m+\u001b[39m\u001b[39m=\u001b[39m stalks_df[stalks_df[\u001b[39mf\u001b[39m\u001b[39m\"\u001b[39m\u001b[39mfecha_dia_\u001b[39m\u001b[39m{\u001b[39;00mi\u001b[39m+\u001b[39m\u001b[39m1\u001b[39m\u001b[39m}\u001b[39;00m\u001b[39m\"\u001b[39m] \u001b[39m==\u001b[39m date][\n\u001b[1;32m     91\u001b[0m                 \u001b[39mf\u001b[39m\u001b[39m\"\u001b[39m\u001b[39mtallos_dia_\u001b[39m\u001b[39m{\u001b[39;00mi\u001b[39m+\u001b[39m\u001b[39m1\u001b[39m\u001b[39m}\u001b[39;00m\u001b[39m\"\u001b[39m\n\u001b[1;32m     92\u001b[0m             ]\u001b[39m.\u001b[39msum()\n\u001b[1;32m     93\u001b[0m \u001b[39mreturn\u001b[39;00m total_stalks\n",
      "File \u001b[0;32m/opt/miniconda3/envs/dash_tutorial/lib/python3.10/site-packages/pandas/core/frame.py:3796\u001b[0m, in \u001b[0;36mDataFrame.__getitem__\u001b[0;34m(self, key)\u001b[0m\n\u001b[1;32m   3794\u001b[0m \u001b[39m# Do we have a (boolean) 1d indexer?\u001b[39;00m\n\u001b[1;32m   3795\u001b[0m \u001b[39mif\u001b[39;00m com\u001b[39m.\u001b[39mis_bool_indexer(key):\n\u001b[0;32m-> 3796\u001b[0m     \u001b[39mreturn\u001b[39;00m \u001b[39mself\u001b[39;49m\u001b[39m.\u001b[39;49m_getitem_bool_array(key)\n\u001b[1;32m   3798\u001b[0m \u001b[39m# We are left with two options: a single key, and a collection of keys,\u001b[39;00m\n\u001b[1;32m   3799\u001b[0m \u001b[39m# We interpret tuples as collections only for non-MultiIndex\u001b[39;00m\n\u001b[1;32m   3800\u001b[0m is_single_key \u001b[39m=\u001b[39m \u001b[39misinstance\u001b[39m(key, \u001b[39mtuple\u001b[39m) \u001b[39mor\u001b[39;00m \u001b[39mnot\u001b[39;00m is_list_like(key)\n",
      "File \u001b[0;32m/opt/miniconda3/envs/dash_tutorial/lib/python3.10/site-packages/pandas/core/frame.py:3851\u001b[0m, in \u001b[0;36mDataFrame._getitem_bool_array\u001b[0;34m(self, key)\u001b[0m\n\u001b[1;32m   3849\u001b[0m key \u001b[39m=\u001b[39m check_bool_indexer(\u001b[39mself\u001b[39m\u001b[39m.\u001b[39mindex, key)\n\u001b[1;32m   3850\u001b[0m indexer \u001b[39m=\u001b[39m key\u001b[39m.\u001b[39mnonzero()[\u001b[39m0\u001b[39m]\n\u001b[0;32m-> 3851\u001b[0m \u001b[39mreturn\u001b[39;00m \u001b[39mself\u001b[39;49m\u001b[39m.\u001b[39;49m_take_with_is_copy(indexer, axis\u001b[39m=\u001b[39;49m\u001b[39m0\u001b[39;49m)\n",
      "File \u001b[0;32m/opt/miniconda3/envs/dash_tutorial/lib/python3.10/site-packages/pandas/core/generic.py:3902\u001b[0m, in \u001b[0;36mNDFrame._take_with_is_copy\u001b[0;34m(self, indices, axis)\u001b[0m\n\u001b[1;32m   3894\u001b[0m \u001b[39mdef\u001b[39;00m \u001b[39m_take_with_is_copy\u001b[39m(\u001b[39mself\u001b[39m: NDFrameT, indices, axis\u001b[39m=\u001b[39m\u001b[39m0\u001b[39m) \u001b[39m-\u001b[39m\u001b[39m>\u001b[39m NDFrameT:\n\u001b[1;32m   3895\u001b[0m     \u001b[39m\"\"\"\u001b[39;00m\n\u001b[1;32m   3896\u001b[0m \u001b[39m    Internal version of the `take` method that sets the `_is_copy`\u001b[39;00m\n\u001b[1;32m   3897\u001b[0m \u001b[39m    attribute to keep track of the parent dataframe (using in indexing\u001b[39;00m\n\u001b[0;32m   (...)\u001b[0m\n\u001b[1;32m   3900\u001b[0m \u001b[39m    See the docstring of `take` for full explanation of the parameters.\u001b[39;00m\n\u001b[1;32m   3901\u001b[0m \u001b[39m    \"\"\"\u001b[39;00m\n\u001b[0;32m-> 3902\u001b[0m     result \u001b[39m=\u001b[39m \u001b[39mself\u001b[39;49m\u001b[39m.\u001b[39;49m_take(indices\u001b[39m=\u001b[39;49mindices, axis\u001b[39m=\u001b[39;49maxis)\n\u001b[1;32m   3903\u001b[0m     \u001b[39m# Maybe set copy if we didn't actually change the index.\u001b[39;00m\n\u001b[1;32m   3904\u001b[0m     \u001b[39mif\u001b[39;00m \u001b[39mnot\u001b[39;00m result\u001b[39m.\u001b[39m_get_axis(axis)\u001b[39m.\u001b[39mequals(\u001b[39mself\u001b[39m\u001b[39m.\u001b[39m_get_axis(axis)):\n",
      "File \u001b[0;32m/opt/miniconda3/envs/dash_tutorial/lib/python3.10/site-packages/pandas/core/generic.py:3886\u001b[0m, in \u001b[0;36mNDFrame._take\u001b[0;34m(self, indices, axis, convert_indices)\u001b[0m\n\u001b[1;32m   3879\u001b[0m \u001b[39m\"\"\"\u001b[39;00m\n\u001b[1;32m   3880\u001b[0m \u001b[39mInternal version of the `take` allowing specification of additional args.\u001b[39;00m\n\u001b[1;32m   3881\u001b[0m \n\u001b[1;32m   3882\u001b[0m \u001b[39mSee the docstring of `take` for full explanation of the parameters.\u001b[39;00m\n\u001b[1;32m   3883\u001b[0m \u001b[39m\"\"\"\u001b[39;00m\n\u001b[1;32m   3884\u001b[0m \u001b[39mself\u001b[39m\u001b[39m.\u001b[39m_consolidate_inplace()\n\u001b[0;32m-> 3886\u001b[0m new_data \u001b[39m=\u001b[39m \u001b[39mself\u001b[39;49m\u001b[39m.\u001b[39;49m_mgr\u001b[39m.\u001b[39;49mtake(\n\u001b[1;32m   3887\u001b[0m     indices,\n\u001b[1;32m   3888\u001b[0m     axis\u001b[39m=\u001b[39;49m\u001b[39mself\u001b[39;49m\u001b[39m.\u001b[39;49m_get_block_manager_axis(axis),\n\u001b[1;32m   3889\u001b[0m     verify\u001b[39m=\u001b[39;49m\u001b[39mTrue\u001b[39;49;00m,\n\u001b[1;32m   3890\u001b[0m     convert_indices\u001b[39m=\u001b[39;49mconvert_indices,\n\u001b[1;32m   3891\u001b[0m )\n\u001b[1;32m   3892\u001b[0m \u001b[39mreturn\u001b[39;00m \u001b[39mself\u001b[39m\u001b[39m.\u001b[39m_constructor(new_data)\u001b[39m.\u001b[39m__finalize__(\u001b[39mself\u001b[39m, method\u001b[39m=\u001b[39m\u001b[39m\"\u001b[39m\u001b[39mtake\u001b[39m\u001b[39m\"\u001b[39m)\n",
      "File \u001b[0;32m/opt/miniconda3/envs/dash_tutorial/lib/python3.10/site-packages/pandas/core/internals/managers.py:980\u001b[0m, in \u001b[0;36mBaseBlockManager.take\u001b[0;34m(self, indexer, axis, verify, convert_indices)\u001b[0m\n\u001b[1;32m    977\u001b[0m     indexer \u001b[39m=\u001b[39m maybe_convert_indices(indexer, n, verify\u001b[39m=\u001b[39mverify)\n\u001b[1;32m    979\u001b[0m new_labels \u001b[39m=\u001b[39m \u001b[39mself\u001b[39m\u001b[39m.\u001b[39maxes[axis]\u001b[39m.\u001b[39mtake(indexer)\n\u001b[0;32m--> 980\u001b[0m \u001b[39mreturn\u001b[39;00m \u001b[39mself\u001b[39;49m\u001b[39m.\u001b[39;49mreindex_indexer(\n\u001b[1;32m    981\u001b[0m     new_axis\u001b[39m=\u001b[39;49mnew_labels,\n\u001b[1;32m    982\u001b[0m     indexer\u001b[39m=\u001b[39;49mindexer,\n\u001b[1;32m    983\u001b[0m     axis\u001b[39m=\u001b[39;49maxis,\n\u001b[1;32m    984\u001b[0m     allow_dups\u001b[39m=\u001b[39;49m\u001b[39mTrue\u001b[39;49;00m,\n\u001b[1;32m    985\u001b[0m     copy\u001b[39m=\u001b[39;49m\u001b[39mNone\u001b[39;49;00m,\n\u001b[1;32m    986\u001b[0m )\n",
      "File \u001b[0;32m/opt/miniconda3/envs/dash_tutorial/lib/python3.10/site-packages/pandas/core/internals/managers.py:753\u001b[0m, in \u001b[0;36mBaseBlockManager.reindex_indexer\u001b[0;34m(self, new_axis, indexer, axis, fill_value, allow_dups, copy, only_slice, use_na_proxy)\u001b[0m\n\u001b[1;32m    751\u001b[0m     parent \u001b[39m=\u001b[39m \u001b[39mNone\u001b[39;00m \u001b[39mif\u001b[39;00m com\u001b[39m.\u001b[39mall_none(\u001b[39m*\u001b[39mnew_refs) \u001b[39melse\u001b[39;00m \u001b[39mself\u001b[39m\n\u001b[1;32m    752\u001b[0m \u001b[39melse\u001b[39;00m:\n\u001b[0;32m--> 753\u001b[0m     new_blocks \u001b[39m=\u001b[39m [\n\u001b[1;32m    754\u001b[0m         blk\u001b[39m.\u001b[39mtake_nd(\n\u001b[1;32m    755\u001b[0m             indexer,\n\u001b[1;32m    756\u001b[0m             axis\u001b[39m=\u001b[39m\u001b[39m1\u001b[39m,\n\u001b[1;32m    757\u001b[0m             fill_value\u001b[39m=\u001b[39m(\n\u001b[1;32m    758\u001b[0m                 fill_value \u001b[39mif\u001b[39;00m fill_value \u001b[39mis\u001b[39;00m \u001b[39mnot\u001b[39;00m \u001b[39mNone\u001b[39;00m \u001b[39melse\u001b[39;00m blk\u001b[39m.\u001b[39mfill_value\n\u001b[1;32m    759\u001b[0m             ),\n\u001b[1;32m    760\u001b[0m         )\n\u001b[1;32m    761\u001b[0m         \u001b[39mfor\u001b[39;00m blk \u001b[39min\u001b[39;00m \u001b[39mself\u001b[39m\u001b[39m.\u001b[39mblocks\n\u001b[1;32m    762\u001b[0m     ]\n\u001b[1;32m    763\u001b[0m     new_refs \u001b[39m=\u001b[39m \u001b[39mNone\u001b[39;00m\n\u001b[1;32m    764\u001b[0m     parent \u001b[39m=\u001b[39m \u001b[39mNone\u001b[39;00m\n",
      "\u001b[0;31mKeyboardInterrupt\u001b[0m: "
     ]
    }
   ],
   "source": [
    "value=[]\n",
    "for dia in dias:\n",
    "    value.append(get_available_stalks(df[df[\"variety\"]==\"chelsea\"],dia,50))"
   ]
  },
  {
   "cell_type": "code",
   "execution_count": 144,
   "metadata": {},
   "outputs": [],
   "source": [
    "short=df.head()"
   ]
  },
  {
   "cell_type": "code",
   "execution_count": 186,
   "metadata": {},
   "outputs": [],
   "source": [
    "t=short[\"planted_on\"][0]"
   ]
  },
  {
   "cell_type": "code",
   "execution_count": 187,
   "metadata": {},
   "outputs": [
    {
     "ename": "AttributeError",
     "evalue": "'datetime.date' object has no attribute 'to_pydatetime'",
     "output_type": "error",
     "traceback": [
      "\u001b[0;31m---------------------------------------------------------------------------\u001b[0m",
      "\u001b[0;31mAttributeError\u001b[0m                            Traceback (most recent call last)",
      "Cell \u001b[0;32mIn[187], line 1\u001b[0m\n\u001b[0;32m----> 1\u001b[0m t\u001b[39m.\u001b[39;49mto_pydatetime()\n",
      "\u001b[0;31mAttributeError\u001b[0m: 'datetime.date' object has no attribute 'to_pydatetime'"
     ]
    }
   ],
   "source": [
    "t.to_pydatetime()"
   ]
  },
  {
   "cell_type": "code",
   "execution_count": 113,
   "metadata": {},
   "outputs": [
    {
     "data": {
      "text/plain": [
       "pandas._libs.tslibs.timestamps.Timestamp"
      ]
     },
     "execution_count": 113,
     "metadata": {},
     "output_type": "execute_result"
    }
   ],
   "source": [
    "type(df[\"planted_on\"][0])"
   ]
  },
  {
   "cell_type": "code",
   "execution_count": 114,
   "metadata": {},
   "outputs": [],
   "source": [
    "for columna in list(short.columns):\n",
    "    if type(short[columna])==\"pandas._libs.tslibs.timestamps.Timestamp\":\n",
    "        short[columna]=short[columna].apply(lambda z: z.to_pydatetime())\n",
    "    "
   ]
  },
  {
   "cell_type": "code",
   "execution_count": 363,
   "metadata": {},
   "outputs": [
    {
     "data": {
      "text/plain": [
       "array(['chelsea', 'purple monarch', 'atlantis orange',\n",
       "       'potomac early white', 'alma', 'aneto', 'atlantis', 'can can',\n",
       "       'felina', 'paintball sunny', 'potomac crimson',\n",
       "       'potomac early pink', 'potomac early yellow', 'tara', 'veronica',\n",
       "       'whatsapp', 'mark twain', 'potomac early orange',\n",
       "       'potomac early rosse', 'alligator', 'brazilian',\n",
       "       'candy crush white', 'clarity', 'brazuca', 'candy crush yellow',\n",
       "       'champagne yellow', 'delirock', 'delirock pink', 'florange dark',\n",
       "       'airbrush', 'bacano', 'candy crush mint', 'dotty pink', 'maisy',\n",
       "       'melrose', 'montes', 'trissia', 'colby white',\n",
       "       'costa summer orange', 'skylie', 'oro', 'doni', 'isabella',\n",
       "       'soleado', 'amethyst dark', 'arctic queen', 'mont blanc',\n",
       "       'morning', 'alemani', 'candy crush purple', 'sweet dreams',\n",
       "       'aipom', 'colorado spring', 'uvita', 'zembla green', 'katy',\n",
       "       'candy crush red', 'creme brulee', 'lucy', 'molly yellow',\n",
       "       'pancras dark', 'botani', 'pasion belen', 'amor candy',\n",
       "       'aquarel pink', 'eilish', 'scooter', 'tedcha'], dtype=object)"
      ]
     },
     "execution_count": 363,
     "metadata": {},
     "output_type": "execute_result"
    }
   ],
   "source": [
    "df[\"variety\"].unique()"
   ]
  },
  {
   "cell_type": "code",
   "execution_count": 185,
   "metadata": {},
   "outputs": [
    {
     "ename": "AttributeError",
     "evalue": "'datetime.date' object has no attribute 'to_pydatetime'",
     "output_type": "error",
     "traceback": [
      "\u001b[0;31m---------------------------------------------------------------------------\u001b[0m",
      "\u001b[0;31mAttributeError\u001b[0m                            Traceback (most recent call last)",
      "Cell \u001b[0;32mIn[185], line 1\u001b[0m\n\u001b[0;32m----> 1\u001b[0m short[\u001b[39m\"\u001b[39m\u001b[39mplanted_ona\u001b[39m\u001b[39m\"\u001b[39m]\u001b[39m=\u001b[39mshort[\u001b[39m\"\u001b[39;49m\u001b[39mplanted_on\u001b[39;49m\u001b[39m\"\u001b[39;49m]\u001b[39m.\u001b[39;49mapply(\u001b[39mlambda\u001b[39;49;00m z: z\u001b[39m.\u001b[39;49mto_pydatetime())\n",
      "File \u001b[0;32m/opt/miniconda3/envs/dash_tutorial/lib/python3.10/site-packages/pandas/core/series.py:4771\u001b[0m, in \u001b[0;36mSeries.apply\u001b[0;34m(self, func, convert_dtype, args, **kwargs)\u001b[0m\n\u001b[1;32m   4661\u001b[0m \u001b[39mdef\u001b[39;00m \u001b[39mapply\u001b[39m(\n\u001b[1;32m   4662\u001b[0m     \u001b[39mself\u001b[39m,\n\u001b[1;32m   4663\u001b[0m     func: AggFuncType,\n\u001b[0;32m   (...)\u001b[0m\n\u001b[1;32m   4666\u001b[0m     \u001b[39m*\u001b[39m\u001b[39m*\u001b[39mkwargs,\n\u001b[1;32m   4667\u001b[0m ) \u001b[39m-\u001b[39m\u001b[39m>\u001b[39m DataFrame \u001b[39m|\u001b[39m Series:\n\u001b[1;32m   4668\u001b[0m     \u001b[39m\"\"\"\u001b[39;00m\n\u001b[1;32m   4669\u001b[0m \u001b[39m    Invoke function on values of Series.\u001b[39;00m\n\u001b[1;32m   4670\u001b[0m \n\u001b[0;32m   (...)\u001b[0m\n\u001b[1;32m   4769\u001b[0m \u001b[39m    dtype: float64\u001b[39;00m\n\u001b[1;32m   4770\u001b[0m \u001b[39m    \"\"\"\u001b[39;00m\n\u001b[0;32m-> 4771\u001b[0m     \u001b[39mreturn\u001b[39;00m SeriesApply(\u001b[39mself\u001b[39;49m, func, convert_dtype, args, kwargs)\u001b[39m.\u001b[39;49mapply()\n",
      "File \u001b[0;32m/opt/miniconda3/envs/dash_tutorial/lib/python3.10/site-packages/pandas/core/apply.py:1105\u001b[0m, in \u001b[0;36mSeriesApply.apply\u001b[0;34m(self)\u001b[0m\n\u001b[1;32m   1102\u001b[0m     \u001b[39mreturn\u001b[39;00m \u001b[39mself\u001b[39m\u001b[39m.\u001b[39mapply_str()\n\u001b[1;32m   1104\u001b[0m \u001b[39m# self.f is Callable\u001b[39;00m\n\u001b[0;32m-> 1105\u001b[0m \u001b[39mreturn\u001b[39;00m \u001b[39mself\u001b[39;49m\u001b[39m.\u001b[39;49mapply_standard()\n",
      "File \u001b[0;32m/opt/miniconda3/envs/dash_tutorial/lib/python3.10/site-packages/pandas/core/apply.py:1156\u001b[0m, in \u001b[0;36mSeriesApply.apply_standard\u001b[0;34m(self)\u001b[0m\n\u001b[1;32m   1154\u001b[0m     \u001b[39melse\u001b[39;00m:\n\u001b[1;32m   1155\u001b[0m         values \u001b[39m=\u001b[39m obj\u001b[39m.\u001b[39mastype(\u001b[39mobject\u001b[39m)\u001b[39m.\u001b[39m_values\n\u001b[0;32m-> 1156\u001b[0m         mapped \u001b[39m=\u001b[39m lib\u001b[39m.\u001b[39;49mmap_infer(\n\u001b[1;32m   1157\u001b[0m             values,\n\u001b[1;32m   1158\u001b[0m             f,\n\u001b[1;32m   1159\u001b[0m             convert\u001b[39m=\u001b[39;49m\u001b[39mself\u001b[39;49m\u001b[39m.\u001b[39;49mconvert_dtype,\n\u001b[1;32m   1160\u001b[0m         )\n\u001b[1;32m   1162\u001b[0m \u001b[39mif\u001b[39;00m \u001b[39mlen\u001b[39m(mapped) \u001b[39mand\u001b[39;00m \u001b[39misinstance\u001b[39m(mapped[\u001b[39m0\u001b[39m], ABCSeries):\n\u001b[1;32m   1163\u001b[0m     \u001b[39m# GH#43986 Need to do list(mapped) in order to get treated as nested\u001b[39;00m\n\u001b[1;32m   1164\u001b[0m     \u001b[39m#  See also GH#25959 regarding EA support\u001b[39;00m\n\u001b[1;32m   1165\u001b[0m     \u001b[39mreturn\u001b[39;00m obj\u001b[39m.\u001b[39m_constructor_expanddim(\u001b[39mlist\u001b[39m(mapped), index\u001b[39m=\u001b[39mobj\u001b[39m.\u001b[39mindex)\n",
      "File \u001b[0;32m/opt/miniconda3/envs/dash_tutorial/lib/python3.10/site-packages/pandas/_libs/lib.pyx:2918\u001b[0m, in \u001b[0;36mpandas._libs.lib.map_infer\u001b[0;34m()\u001b[0m\n",
      "Cell \u001b[0;32mIn[185], line 1\u001b[0m, in \u001b[0;36m<lambda>\u001b[0;34m(z)\u001b[0m\n\u001b[0;32m----> 1\u001b[0m short[\u001b[39m\"\u001b[39m\u001b[39mplanted_ona\u001b[39m\u001b[39m\"\u001b[39m]\u001b[39m=\u001b[39mshort[\u001b[39m\"\u001b[39m\u001b[39mplanted_on\u001b[39m\u001b[39m\"\u001b[39m]\u001b[39m.\u001b[39mapply(\u001b[39mlambda\u001b[39;00m z: z\u001b[39m.\u001b[39;49mto_pydatetime())\n",
      "\u001b[0;31mAttributeError\u001b[0m: 'datetime.date' object has no attribute 'to_pydatetime'"
     ]
    }
   ],
   "source": [
    "short[\"planted_ona\"]=short[\"planted_on\"].apply(lambda z: z.to_pydatetime())"
   ]
  },
  {
   "cell_type": "code",
   "execution_count": 124,
   "metadata": {},
   "outputs": [
    {
     "data": {
      "text/plain": [
       "pandas._libs.tslibs.timestamps.Timestamp"
      ]
     },
     "execution_count": 124,
     "metadata": {},
     "output_type": "execute_result"
    }
   ],
   "source": [
    "type(short[\"planted_ona\"][0])"
   ]
  },
  {
   "cell_type": "code",
   "execution_count": 130,
   "metadata": {},
   "outputs": [
    {
     "ename": "AttributeError",
     "evalue": "module 'pandas' has no attribute 'to_pydatetime'",
     "output_type": "error",
     "traceback": [
      "\u001b[0;31m---------------------------------------------------------------------------\u001b[0m",
      "\u001b[0;31mAttributeError\u001b[0m                            Traceback (most recent call last)",
      "Cell \u001b[0;32mIn[130], line 1\u001b[0m\n\u001b[0;32m----> 1\u001b[0m pd[\u001b[39m\"\u001b[39m\u001b[39mplanted_on\u001b[39m\u001b[39m\"\u001b[39m]\u001b[39m=\u001b[39mpd\u001b[39m.\u001b[39;49mto_pydatetime(pd[\u001b[39m\"\u001b[39m\u001b[39mplanted_on\u001b[39m\u001b[39m\"\u001b[39m])\n",
      "File \u001b[0;32m/opt/miniconda3/envs/dash_tutorial/lib/python3.10/site-packages/pandas/__init__.py:264\u001b[0m, in \u001b[0;36m__getattr__\u001b[0;34m(name)\u001b[0m\n\u001b[1;32m    260\u001b[0m     \u001b[39mfrom\u001b[39;00m \u001b[39mpandas\u001b[39;00m\u001b[39m.\u001b[39;00m\u001b[39mcore\u001b[39;00m\u001b[39m.\u001b[39;00m\u001b[39marrays\u001b[39;00m\u001b[39m.\u001b[39;00m\u001b[39msparse\u001b[39;00m \u001b[39mimport\u001b[39;00m SparseArray \u001b[39mas\u001b[39;00m _SparseArray\n\u001b[1;32m    262\u001b[0m     \u001b[39mreturn\u001b[39;00m _SparseArray\n\u001b[0;32m--> 264\u001b[0m \u001b[39mraise\u001b[39;00m \u001b[39mAttributeError\u001b[39;00m(\u001b[39mf\u001b[39m\u001b[39m\"\u001b[39m\u001b[39mmodule \u001b[39m\u001b[39m'\u001b[39m\u001b[39mpandas\u001b[39m\u001b[39m'\u001b[39m\u001b[39m has no attribute \u001b[39m\u001b[39m'\u001b[39m\u001b[39m{\u001b[39;00mname\u001b[39m}\u001b[39;00m\u001b[39m'\u001b[39m\u001b[39m\"\u001b[39m)\n",
      "\u001b[0;31mAttributeError\u001b[0m: module 'pandas' has no attribute 'to_pydatetime'"
     ]
    }
   ],
   "source": [
    "pd[\"planted_on\"]=pd.to_pydatetime(pd[\"planted_on\"])"
   ]
  },
  {
   "cell_type": "code",
   "execution_count": 62,
   "metadata": {},
   "outputs": [],
   "source": [
    "value=[]\n",
    "for dia in dias:\n",
    "    value.append(get_available_stalks(short,dia,50))"
   ]
  },
  {
   "cell_type": "code",
   "execution_count": 145,
   "metadata": {},
   "outputs": [
    {
     "name": "stderr",
     "output_type": "stream",
     "text": [
      "/var/folders/_l/7xr3qhx50rl1tsc0s6dt78hr0000gn/T/ipykernel_78724/2407093087.py:1: SettingWithCopyWarning: \n",
      "A value is trying to be set on a copy of a slice from a DataFrame.\n",
      "Try using .loc[row_indexer,col_indexer] = value instead\n",
      "\n",
      "See the caveats in the documentation: https://pandas.pydata.org/pandas-docs/stable/user_guide/indexing.html#returning-a-view-versus-a-copy\n",
      "  short[\"planted_on\"]=short['planted_on'].dt.date\n"
     ]
    }
   ],
   "source": [
    "short[\"planted_on\"]=short['planted_on'].dt.date"
   ]
  },
  {
   "cell_type": "code",
   "execution_count": 139,
   "metadata": {},
   "outputs": [
    {
     "data": {
      "text/plain": [
       "datetime.date(2021, 2, 15)"
      ]
     },
     "execution_count": 139,
     "metadata": {},
     "output_type": "execute_result"
    }
   ],
   "source": [
    "short[\"planted_on\"][0]"
   ]
  },
  {
   "cell_type": "code",
   "execution_count": 184,
   "metadata": {},
   "outputs": [
    {
     "ename": "AttributeError",
     "evalue": "Can only use .dt accessor with datetimelike values",
     "output_type": "error",
     "traceback": [
      "\u001b[0;31m---------------------------------------------------------------------------\u001b[0m",
      "\u001b[0;31mAttributeError\u001b[0m                            Traceback (most recent call last)",
      "Cell \u001b[0;32mIn[184], line 2\u001b[0m\n\u001b[1;32m      1\u001b[0m \u001b[39mfor\u001b[39;00m i \u001b[39min\u001b[39;00m \u001b[39mrange\u001b[39m(\u001b[39m1\u001b[39m,\u001b[39m24\u001b[39m):\n\u001b[0;32m----> 2\u001b[0m     short[\u001b[39m\"\u001b[39m\u001b[39mfecha_dia_\u001b[39m\u001b[39m\"\u001b[39m\u001b[39m+\u001b[39m\u001b[39mstr\u001b[39m(i)]\u001b[39m=\u001b[39mshort[\u001b[39m'\u001b[39;49m\u001b[39mfecha_dia_\u001b[39;49m\u001b[39m'\u001b[39;49m\u001b[39m+\u001b[39;49m\u001b[39mstr\u001b[39;49m(i)]\u001b[39m.\u001b[39;49mdt\u001b[39m.\u001b[39mdate\n",
      "File \u001b[0;32m/opt/miniconda3/envs/dash_tutorial/lib/python3.10/site-packages/pandas/core/generic.py:5902\u001b[0m, in \u001b[0;36mNDFrame.__getattr__\u001b[0;34m(self, name)\u001b[0m\n\u001b[1;32m   5895\u001b[0m \u001b[39mif\u001b[39;00m (\n\u001b[1;32m   5896\u001b[0m     name \u001b[39mnot\u001b[39;00m \u001b[39min\u001b[39;00m \u001b[39mself\u001b[39m\u001b[39m.\u001b[39m_internal_names_set\n\u001b[1;32m   5897\u001b[0m     \u001b[39mand\u001b[39;00m name \u001b[39mnot\u001b[39;00m \u001b[39min\u001b[39;00m \u001b[39mself\u001b[39m\u001b[39m.\u001b[39m_metadata\n\u001b[1;32m   5898\u001b[0m     \u001b[39mand\u001b[39;00m name \u001b[39mnot\u001b[39;00m \u001b[39min\u001b[39;00m \u001b[39mself\u001b[39m\u001b[39m.\u001b[39m_accessors\n\u001b[1;32m   5899\u001b[0m     \u001b[39mand\u001b[39;00m \u001b[39mself\u001b[39m\u001b[39m.\u001b[39m_info_axis\u001b[39m.\u001b[39m_can_hold_identifiers_and_holds_name(name)\n\u001b[1;32m   5900\u001b[0m ):\n\u001b[1;32m   5901\u001b[0m     \u001b[39mreturn\u001b[39;00m \u001b[39mself\u001b[39m[name]\n\u001b[0;32m-> 5902\u001b[0m \u001b[39mreturn\u001b[39;00m \u001b[39mobject\u001b[39;49m\u001b[39m.\u001b[39;49m\u001b[39m__getattribute__\u001b[39;49m(\u001b[39mself\u001b[39;49m, name)\n",
      "File \u001b[0;32m/opt/miniconda3/envs/dash_tutorial/lib/python3.10/site-packages/pandas/core/accessor.py:182\u001b[0m, in \u001b[0;36mCachedAccessor.__get__\u001b[0;34m(self, obj, cls)\u001b[0m\n\u001b[1;32m    179\u001b[0m \u001b[39mif\u001b[39;00m obj \u001b[39mis\u001b[39;00m \u001b[39mNone\u001b[39;00m:\n\u001b[1;32m    180\u001b[0m     \u001b[39m# we're accessing the attribute of the class, i.e., Dataset.geo\u001b[39;00m\n\u001b[1;32m    181\u001b[0m     \u001b[39mreturn\u001b[39;00m \u001b[39mself\u001b[39m\u001b[39m.\u001b[39m_accessor\n\u001b[0;32m--> 182\u001b[0m accessor_obj \u001b[39m=\u001b[39m \u001b[39mself\u001b[39;49m\u001b[39m.\u001b[39;49m_accessor(obj)\n\u001b[1;32m    183\u001b[0m \u001b[39m# Replace the property with the accessor object. Inspired by:\u001b[39;00m\n\u001b[1;32m    184\u001b[0m \u001b[39m# https://www.pydanny.com/cached-property.html\u001b[39;00m\n\u001b[1;32m    185\u001b[0m \u001b[39m# We need to use object.__setattr__ because we overwrite __setattr__ on\u001b[39;00m\n\u001b[1;32m    186\u001b[0m \u001b[39m# NDFrame\u001b[39;00m\n\u001b[1;32m    187\u001b[0m \u001b[39mobject\u001b[39m\u001b[39m.\u001b[39m\u001b[39m__setattr__\u001b[39m(obj, \u001b[39mself\u001b[39m\u001b[39m.\u001b[39m_name, accessor_obj)\n",
      "File \u001b[0;32m/opt/miniconda3/envs/dash_tutorial/lib/python3.10/site-packages/pandas/core/indexes/accessors.py:512\u001b[0m, in \u001b[0;36mCombinedDatetimelikeProperties.__new__\u001b[0;34m(cls, data)\u001b[0m\n\u001b[1;32m    509\u001b[0m \u001b[39melif\u001b[39;00m is_period_dtype(data\u001b[39m.\u001b[39mdtype):\n\u001b[1;32m    510\u001b[0m     \u001b[39mreturn\u001b[39;00m PeriodProperties(data, orig)\n\u001b[0;32m--> 512\u001b[0m \u001b[39mraise\u001b[39;00m \u001b[39mAttributeError\u001b[39;00m(\u001b[39m\"\u001b[39m\u001b[39mCan only use .dt accessor with datetimelike values\u001b[39m\u001b[39m\"\u001b[39m)\n",
      "\u001b[0;31mAttributeError\u001b[0m: Can only use .dt accessor with datetimelike values"
     ]
    }
   ],
   "source": [
    "for i in range(1,24):\n",
    "    short[\"fecha_dia_\"+str(i)]=short['fecha_dia_'+str(i)].dt.date\n",
    "    "
   ]
  },
  {
   "cell_type": "code",
   "execution_count": 161,
   "metadata": {},
   "outputs": [
    {
     "data": {
      "text/plain": [
       "datetime.date(2021, 4, 29)"
      ]
     },
     "execution_count": 161,
     "metadata": {},
     "output_type": "execute_result"
    }
   ],
   "source": [
    "short[\"fecha_dia_2\"][0]"
   ]
  },
  {
   "cell_type": "code",
   "execution_count": 149,
   "metadata": {},
   "outputs": [
    {
     "data": {
      "text/html": [
       "<div>\n",
       "<style scoped>\n",
       "    .dataframe tbody tr th:only-of-type {\n",
       "        vertical-align: middle;\n",
       "    }\n",
       "\n",
       "    .dataframe tbody tr th {\n",
       "        vertical-align: top;\n",
       "    }\n",
       "\n",
       "    .dataframe thead th {\n",
       "        text-align: right;\n",
       "    }\n",
       "</style>\n",
       "<table border=\"1\" class=\"dataframe\">\n",
       "  <thead>\n",
       "    <tr style=\"text-align: right;\">\n",
       "      <th></th>\n",
       "      <th>id</th>\n",
       "      <th>planted_on</th>\n",
       "      <th>stems</th>\n",
       "      <th>block</th>\n",
       "      <th>variety</th>\n",
       "      <th>bell_sd</th>\n",
       "      <th>expected_yield</th>\n",
       "      <th>enough_weather_data</th>\n",
       "      <th>valid_combo</th>\n",
       "      <th>mu</th>\n",
       "      <th>...</th>\n",
       "      <th>fecha_dia_19</th>\n",
       "      <th>tallos_dia_19</th>\n",
       "      <th>fecha_dia_20</th>\n",
       "      <th>tallos_dia_20</th>\n",
       "      <th>fecha_dia_21</th>\n",
       "      <th>tallos_dia_21</th>\n",
       "      <th>fecha_dia_22</th>\n",
       "      <th>tallos_dia_22</th>\n",
       "      <th>fecha_dia_23</th>\n",
       "      <th>tallos_dia_23</th>\n",
       "    </tr>\n",
       "  </thead>\n",
       "  <tbody>\n",
       "    <tr>\n",
       "      <th>0</th>\n",
       "      <td>0</td>\n",
       "      <td>2021-02-15</td>\n",
       "      <td>3480</td>\n",
       "      <td>1</td>\n",
       "      <td>chelsea</td>\n",
       "      <td>1.25</td>\n",
       "      <td>2644.8</td>\n",
       "      <td>True</td>\n",
       "      <td>True</td>\n",
       "      <td>75.75516</td>\n",
       "      <td>...</td>\n",
       "      <td>2021-05-16</td>\n",
       "      <td>0</td>\n",
       "      <td>2021-05-17</td>\n",
       "      <td>0</td>\n",
       "      <td>2021-05-18</td>\n",
       "      <td>0</td>\n",
       "      <td>2021-05-19</td>\n",
       "      <td>0</td>\n",
       "      <td>2021-05-20</td>\n",
       "      <td>0</td>\n",
       "    </tr>\n",
       "    <tr>\n",
       "      <th>1</th>\n",
       "      <td>1</td>\n",
       "      <td>2021-02-15</td>\n",
       "      <td>3480</td>\n",
       "      <td>1</td>\n",
       "      <td>chelsea</td>\n",
       "      <td>1.25</td>\n",
       "      <td>2644.8</td>\n",
       "      <td>True</td>\n",
       "      <td>True</td>\n",
       "      <td>75.75516</td>\n",
       "      <td>...</td>\n",
       "      <td>2021-05-16</td>\n",
       "      <td>0</td>\n",
       "      <td>2021-05-17</td>\n",
       "      <td>0</td>\n",
       "      <td>2021-05-18</td>\n",
       "      <td>0</td>\n",
       "      <td>2021-05-19</td>\n",
       "      <td>0</td>\n",
       "      <td>2021-05-20</td>\n",
       "      <td>0</td>\n",
       "    </tr>\n",
       "    <tr>\n",
       "      <th>2</th>\n",
       "      <td>2</td>\n",
       "      <td>2021-02-15</td>\n",
       "      <td>3480</td>\n",
       "      <td>1</td>\n",
       "      <td>chelsea</td>\n",
       "      <td>1.25</td>\n",
       "      <td>2644.8</td>\n",
       "      <td>True</td>\n",
       "      <td>True</td>\n",
       "      <td>75.75516</td>\n",
       "      <td>...</td>\n",
       "      <td>2021-05-16</td>\n",
       "      <td>0</td>\n",
       "      <td>2021-05-17</td>\n",
       "      <td>0</td>\n",
       "      <td>2021-05-18</td>\n",
       "      <td>0</td>\n",
       "      <td>2021-05-19</td>\n",
       "      <td>0</td>\n",
       "      <td>2021-05-20</td>\n",
       "      <td>0</td>\n",
       "    </tr>\n",
       "    <tr>\n",
       "      <th>3</th>\n",
       "      <td>3</td>\n",
       "      <td>2021-02-17</td>\n",
       "      <td>3480</td>\n",
       "      <td>1</td>\n",
       "      <td>chelsea</td>\n",
       "      <td>1.25</td>\n",
       "      <td>2644.8</td>\n",
       "      <td>True</td>\n",
       "      <td>True</td>\n",
       "      <td>75.40767</td>\n",
       "      <td>...</td>\n",
       "      <td>2021-05-18</td>\n",
       "      <td>0</td>\n",
       "      <td>2021-05-19</td>\n",
       "      <td>0</td>\n",
       "      <td>2021-05-20</td>\n",
       "      <td>0</td>\n",
       "      <td>2021-05-21</td>\n",
       "      <td>0</td>\n",
       "      <td>2021-05-22</td>\n",
       "      <td>0</td>\n",
       "    </tr>\n",
       "    <tr>\n",
       "      <th>4</th>\n",
       "      <td>4</td>\n",
       "      <td>2021-02-17</td>\n",
       "      <td>3480</td>\n",
       "      <td>1</td>\n",
       "      <td>chelsea</td>\n",
       "      <td>1.25</td>\n",
       "      <td>2644.8</td>\n",
       "      <td>True</td>\n",
       "      <td>True</td>\n",
       "      <td>75.40767</td>\n",
       "      <td>...</td>\n",
       "      <td>2021-05-18</td>\n",
       "      <td>0</td>\n",
       "      <td>2021-05-19</td>\n",
       "      <td>0</td>\n",
       "      <td>2021-05-20</td>\n",
       "      <td>0</td>\n",
       "      <td>2021-05-21</td>\n",
       "      <td>0</td>\n",
       "      <td>2021-05-22</td>\n",
       "      <td>0</td>\n",
       "    </tr>\n",
       "  </tbody>\n",
       "</table>\n",
       "<p>5 rows × 59 columns</p>\n",
       "</div>"
      ],
      "text/plain": [
       "   id  planted_on  stems  block  variety  bell_sd  expected_yield  \\\n",
       "0   0  2021-02-15   3480      1  chelsea     1.25          2644.8   \n",
       "1   1  2021-02-15   3480      1  chelsea     1.25          2644.8   \n",
       "2   2  2021-02-15   3480      1  chelsea     1.25          2644.8   \n",
       "3   3  2021-02-17   3480      1  chelsea     1.25          2644.8   \n",
       "4   4  2021-02-17   3480      1  chelsea     1.25          2644.8   \n",
       "\n",
       "   enough_weather_data  valid_combo        mu  ...  fecha_dia_19  \\\n",
       "0                 True         True  75.75516  ...    2021-05-16   \n",
       "1                 True         True  75.75516  ...    2021-05-16   \n",
       "2                 True         True  75.75516  ...    2021-05-16   \n",
       "3                 True         True  75.40767  ...    2021-05-18   \n",
       "4                 True         True  75.40767  ...    2021-05-18   \n",
       "\n",
       "   tallos_dia_19  fecha_dia_20 tallos_dia_20  fecha_dia_21 tallos_dia_21  \\\n",
       "0              0    2021-05-17             0    2021-05-18             0   \n",
       "1              0    2021-05-17             0    2021-05-18             0   \n",
       "2              0    2021-05-17             0    2021-05-18             0   \n",
       "3              0    2021-05-19             0    2021-05-20             0   \n",
       "4              0    2021-05-19             0    2021-05-20             0   \n",
       "\n",
       "   fecha_dia_22 tallos_dia_22  fecha_dia_23 tallos_dia_23  \n",
       "0    2021-05-19             0    2021-05-20             0  \n",
       "1    2021-05-19             0    2021-05-20             0  \n",
       "2    2021-05-19             0    2021-05-20             0  \n",
       "3    2021-05-21             0    2021-05-22             0  \n",
       "4    2021-05-21             0    2021-05-22             0  \n",
       "\n",
       "[5 rows x 59 columns]"
      ]
     },
     "execution_count": 149,
     "metadata": {},
     "output_type": "execute_result"
    }
   ],
   "source": [
    "short"
   ]
  },
  {
   "cell_type": "code",
   "execution_count": 159,
   "metadata": {},
   "outputs": [
    {
     "data": {
      "text/plain": [
       "datetime.date(2022, 9, 22)"
      ]
     },
     "execution_count": 159,
     "metadata": {},
     "output_type": "execute_result"
    }
   ],
   "source": [
    "dias[0]"
   ]
  },
  {
   "cell_type": "code",
   "execution_count": 162,
   "metadata": {},
   "outputs": [
    {
     "name": "stderr",
     "output_type": "stream",
     "text": [
      "/Users/camiloariasabad/Desktop/Impossible/Projects/flower_viewer/production_prediction.py:89: FutureWarning: Comparison of Timestamp with datetime.date is deprecated in order to match the standard library behavior. In a future version these will be considered non-comparable. Use 'ts == pd.Timestamp(date)' or 'ts.date() == date' instead.\n",
      "  if stalks_df[stalks_df[f\"fecha_dia_{i+1}\"] == date][f\"tallos_dia_{i+1}\"].sum():\n"
     ]
    }
   ],
   "source": [
    "res=[]\n",
    "for dia in dias[100:]:\n",
    "    res.append(get_available_stalks(short,dia,100))\n"
   ]
  },
  {
   "cell_type": "code",
   "execution_count": 181,
   "metadata": {},
   "outputs": [
    {
     "data": {
      "text/html": [
       "<div>\n",
       "<style scoped>\n",
       "    .dataframe tbody tr th:only-of-type {\n",
       "        vertical-align: middle;\n",
       "    }\n",
       "\n",
       "    .dataframe tbody tr th {\n",
       "        vertical-align: top;\n",
       "    }\n",
       "\n",
       "    .dataframe thead th {\n",
       "        text-align: right;\n",
       "    }\n",
       "</style>\n",
       "<table border=\"1\" class=\"dataframe\">\n",
       "  <thead>\n",
       "    <tr style=\"text-align: right;\">\n",
       "      <th></th>\n",
       "      <th>id</th>\n",
       "      <th>planted_on</th>\n",
       "      <th>stems</th>\n",
       "      <th>block</th>\n",
       "      <th>variety</th>\n",
       "      <th>bell_sd</th>\n",
       "      <th>expected_yield</th>\n",
       "      <th>enough_weather_data</th>\n",
       "      <th>valid_combo</th>\n",
       "      <th>mu</th>\n",
       "      <th>...</th>\n",
       "      <th>fecha_dia_19</th>\n",
       "      <th>tallos_dia_19</th>\n",
       "      <th>fecha_dia_20</th>\n",
       "      <th>tallos_dia_20</th>\n",
       "      <th>fecha_dia_21</th>\n",
       "      <th>tallos_dia_21</th>\n",
       "      <th>fecha_dia_22</th>\n",
       "      <th>tallos_dia_22</th>\n",
       "      <th>fecha_dia_23</th>\n",
       "      <th>tallos_dia_23</th>\n",
       "    </tr>\n",
       "  </thead>\n",
       "  <tbody>\n",
       "    <tr>\n",
       "      <th>0</th>\n",
       "      <td>0</td>\n",
       "      <td>2021-02-15</td>\n",
       "      <td>3480</td>\n",
       "      <td>1</td>\n",
       "      <td>chelsea</td>\n",
       "      <td>1.25</td>\n",
       "      <td>2644.8</td>\n",
       "      <td>True</td>\n",
       "      <td>True</td>\n",
       "      <td>75.75516</td>\n",
       "      <td>...</td>\n",
       "      <td>2021-05-16</td>\n",
       "      <td>0</td>\n",
       "      <td>2021-05-17</td>\n",
       "      <td>0</td>\n",
       "      <td>2021-05-18</td>\n",
       "      <td>0</td>\n",
       "      <td>2021-05-19</td>\n",
       "      <td>0</td>\n",
       "      <td>2021-05-20</td>\n",
       "      <td>0</td>\n",
       "    </tr>\n",
       "    <tr>\n",
       "      <th>1</th>\n",
       "      <td>1</td>\n",
       "      <td>2021-02-15</td>\n",
       "      <td>3480</td>\n",
       "      <td>1</td>\n",
       "      <td>chelsea</td>\n",
       "      <td>1.25</td>\n",
       "      <td>2644.8</td>\n",
       "      <td>True</td>\n",
       "      <td>True</td>\n",
       "      <td>75.75516</td>\n",
       "      <td>...</td>\n",
       "      <td>2021-05-16</td>\n",
       "      <td>0</td>\n",
       "      <td>2021-05-17</td>\n",
       "      <td>0</td>\n",
       "      <td>2021-05-18</td>\n",
       "      <td>0</td>\n",
       "      <td>2021-05-19</td>\n",
       "      <td>0</td>\n",
       "      <td>2021-05-20</td>\n",
       "      <td>0</td>\n",
       "    </tr>\n",
       "    <tr>\n",
       "      <th>2</th>\n",
       "      <td>2</td>\n",
       "      <td>2021-02-15</td>\n",
       "      <td>3480</td>\n",
       "      <td>1</td>\n",
       "      <td>chelsea</td>\n",
       "      <td>1.25</td>\n",
       "      <td>2644.8</td>\n",
       "      <td>True</td>\n",
       "      <td>True</td>\n",
       "      <td>75.75516</td>\n",
       "      <td>...</td>\n",
       "      <td>2021-05-16</td>\n",
       "      <td>0</td>\n",
       "      <td>2021-05-17</td>\n",
       "      <td>0</td>\n",
       "      <td>2021-05-18</td>\n",
       "      <td>0</td>\n",
       "      <td>2021-05-19</td>\n",
       "      <td>0</td>\n",
       "      <td>2021-05-20</td>\n",
       "      <td>0</td>\n",
       "    </tr>\n",
       "    <tr>\n",
       "      <th>3</th>\n",
       "      <td>3</td>\n",
       "      <td>2021-02-17</td>\n",
       "      <td>3480</td>\n",
       "      <td>1</td>\n",
       "      <td>chelsea</td>\n",
       "      <td>1.25</td>\n",
       "      <td>2644.8</td>\n",
       "      <td>True</td>\n",
       "      <td>True</td>\n",
       "      <td>75.40767</td>\n",
       "      <td>...</td>\n",
       "      <td>2021-05-18</td>\n",
       "      <td>0</td>\n",
       "      <td>2021-05-19</td>\n",
       "      <td>0</td>\n",
       "      <td>2021-05-20</td>\n",
       "      <td>0</td>\n",
       "      <td>2021-05-21</td>\n",
       "      <td>0</td>\n",
       "      <td>2021-05-22</td>\n",
       "      <td>0</td>\n",
       "    </tr>\n",
       "    <tr>\n",
       "      <th>4</th>\n",
       "      <td>4</td>\n",
       "      <td>2021-02-17</td>\n",
       "      <td>3480</td>\n",
       "      <td>1</td>\n",
       "      <td>chelsea</td>\n",
       "      <td>1.25</td>\n",
       "      <td>2644.8</td>\n",
       "      <td>True</td>\n",
       "      <td>True</td>\n",
       "      <td>75.40767</td>\n",
       "      <td>...</td>\n",
       "      <td>2021-05-18</td>\n",
       "      <td>0</td>\n",
       "      <td>2021-05-19</td>\n",
       "      <td>0</td>\n",
       "      <td>2021-05-20</td>\n",
       "      <td>0</td>\n",
       "      <td>2021-05-21</td>\n",
       "      <td>0</td>\n",
       "      <td>2021-05-22</td>\n",
       "      <td>0</td>\n",
       "    </tr>\n",
       "  </tbody>\n",
       "</table>\n",
       "<p>5 rows × 59 columns</p>\n",
       "</div>"
      ],
      "text/plain": [
       "   id  planted_on  stems  block  variety  bell_sd  expected_yield  \\\n",
       "0   0  2021-02-15   3480      1  chelsea     1.25          2644.8   \n",
       "1   1  2021-02-15   3480      1  chelsea     1.25          2644.8   \n",
       "2   2  2021-02-15   3480      1  chelsea     1.25          2644.8   \n",
       "3   3  2021-02-17   3480      1  chelsea     1.25          2644.8   \n",
       "4   4  2021-02-17   3480      1  chelsea     1.25          2644.8   \n",
       "\n",
       "   enough_weather_data  valid_combo        mu  ...  fecha_dia_19  \\\n",
       "0                 True         True  75.75516  ...    2021-05-16   \n",
       "1                 True         True  75.75516  ...    2021-05-16   \n",
       "2                 True         True  75.75516  ...    2021-05-16   \n",
       "3                 True         True  75.40767  ...    2021-05-18   \n",
       "4                 True         True  75.40767  ...    2021-05-18   \n",
       "\n",
       "   tallos_dia_19  fecha_dia_20 tallos_dia_20  fecha_dia_21 tallos_dia_21  \\\n",
       "0              0    2021-05-17             0    2021-05-18             0   \n",
       "1              0    2021-05-17             0    2021-05-18             0   \n",
       "2              0    2021-05-17             0    2021-05-18             0   \n",
       "3              0    2021-05-19             0    2021-05-20             0   \n",
       "4              0    2021-05-19             0    2021-05-20             0   \n",
       "\n",
       "   fecha_dia_22 tallos_dia_22  fecha_dia_23 tallos_dia_23  \n",
       "0    2021-05-19             0    2021-05-20             0  \n",
       "1    2021-05-19             0    2021-05-20             0  \n",
       "2    2021-05-19             0    2021-05-20             0  \n",
       "3    2021-05-21             0    2021-05-22             0  \n",
       "4    2021-05-21             0    2021-05-22             0  \n",
       "\n",
       "[5 rows x 59 columns]"
      ]
     },
     "execution_count": 181,
     "metadata": {},
     "output_type": "execute_result"
    }
   ],
   "source": [
    "short"
   ]
  },
  {
   "cell_type": "code",
   "execution_count": 175,
   "metadata": {},
   "outputs": [
    {
     "data": {
      "text/plain": [
       "datetime.date(2021, 4, 28)"
      ]
     },
     "execution_count": 175,
     "metadata": {},
     "output_type": "execute_result"
    }
   ],
   "source": [
    "short[\"fecha_dia_1\"][0]"
   ]
  },
  {
   "cell_type": "code",
   "execution_count": 194,
   "metadata": {},
   "outputs": [
    {
     "data": {
      "text/plain": [
       "311"
      ]
     },
     "execution_count": 194,
     "metadata": {},
     "output_type": "execute_result"
    }
   ],
   "source": [
    "get_available_stalks(short,date(2021,4,28),100)"
   ]
  },
  {
   "cell_type": "code",
   "execution_count": 195,
   "metadata": {},
   "outputs": [],
   "source": [
    "dias=pd.date_range(start='1/1/2018', end='1/08/2018')"
   ]
  },
  {
   "cell_type": "code",
   "execution_count": 199,
   "metadata": {},
   "outputs": [],
   "source": [
    "dias=list(dias)"
   ]
  },
  {
   "cell_type": "code",
   "execution_count": 207,
   "metadata": {},
   "outputs": [],
   "source": [
    "def daterange(start, end):\n",
    "  return [start + timedelta(n) for n in range(int((end - start).days))]"
   ]
  },
  {
   "cell_type": "code",
   "execution_count": 335,
   "metadata": {},
   "outputs": [],
   "source": [
    "start=date(2022,7,1)\n",
    "end=start+timedelta(days=15)"
   ]
  },
  {
   "cell_type": "code",
   "execution_count": 336,
   "metadata": {},
   "outputs": [],
   "source": [
    "dias=daterange(start,end)"
   ]
  },
  {
   "cell_type": "code",
   "execution_count": null,
   "metadata": {},
   "outputs": [],
   "source": []
  },
  {
   "cell_type": "code",
   "execution_count": 269,
   "metadata": {},
   "outputs": [
    {
     "data": {
      "text/plain": [
       "0    2021-04-28\n",
       "1    2021-04-28\n",
       "2    2021-04-28\n",
       "3    2021-04-30\n",
       "4    2021-04-30\n",
       "        ...    \n",
       "95   2022-01-08\n",
       "96   2022-01-08\n",
       "97   2022-06-30\n",
       "98   2022-07-02\n",
       "99   2022-07-03\n",
       "Name: fecha_dia_1, Length: 100, dtype: datetime64[ns]"
      ]
     },
     "execution_count": 269,
     "metadata": {},
     "output_type": "execute_result"
    }
   ],
   "source": [
    "short[\"fecha_dia_1\"]"
   ]
  },
  {
   "cell_type": "code",
   "execution_count": 270,
   "metadata": {},
   "outputs": [],
   "source": [
    "df_draw=pd.DataFrame()\n",
    "df_draw[\"x\"]=dias"
   ]
  },
  {
   "cell_type": "code",
   "execution_count": 271,
   "metadata": {},
   "outputs": [],
   "source": [
    "df_draw[\"y\"]=list(map(lambda z: get_available_stalks(short,z,10),dias))"
   ]
  },
  {
   "cell_type": "code",
   "execution_count": 317,
   "metadata": {},
   "outputs": [],
   "source": [
    "from be.controllers.scatter_plot import scatter_graph"
   ]
  },
  {
   "cell_type": "code",
   "execution_count": 276,
   "metadata": {},
   "outputs": [
    {
     "data": {
      "text/plain": [
       "array(['chelsea', 'purple monarch', 'atlantis orange',\n",
       "       'potomac early white', 'alma', 'aneto'], dtype=object)"
      ]
     },
     "execution_count": 276,
     "metadata": {},
     "output_type": "execute_result"
    }
   ],
   "source": [
    "short[\"variety\"].unique()"
   ]
  },
  {
   "cell_type": "code",
   "execution_count": 288,
   "metadata": {},
   "outputs": [
    {
     "data": {
      "text/html": [
       "<div>\n",
       "<style scoped>\n",
       "    .dataframe tbody tr th:only-of-type {\n",
       "        vertical-align: middle;\n",
       "    }\n",
       "\n",
       "    .dataframe tbody tr th {\n",
       "        vertical-align: top;\n",
       "    }\n",
       "\n",
       "    .dataframe thead th {\n",
       "        text-align: right;\n",
       "    }\n",
       "</style>\n",
       "<table border=\"1\" class=\"dataframe\">\n",
       "  <thead>\n",
       "    <tr style=\"text-align: right;\">\n",
       "      <th></th>\n",
       "      <th>id</th>\n",
       "      <th>planted_on</th>\n",
       "      <th>stems</th>\n",
       "      <th>block</th>\n",
       "      <th>variety</th>\n",
       "      <th>bell_sd</th>\n",
       "      <th>expected_yield</th>\n",
       "      <th>enough_weather_data</th>\n",
       "      <th>valid_combo</th>\n",
       "      <th>mu</th>\n",
       "      <th>...</th>\n",
       "      <th>fecha_dia_19</th>\n",
       "      <th>tallos_dia_19</th>\n",
       "      <th>fecha_dia_20</th>\n",
       "      <th>tallos_dia_20</th>\n",
       "      <th>fecha_dia_21</th>\n",
       "      <th>tallos_dia_21</th>\n",
       "      <th>fecha_dia_22</th>\n",
       "      <th>tallos_dia_22</th>\n",
       "      <th>fecha_dia_23</th>\n",
       "      <th>tallos_dia_23</th>\n",
       "    </tr>\n",
       "  </thead>\n",
       "  <tbody>\n",
       "    <tr>\n",
       "      <th>41</th>\n",
       "      <td>41</td>\n",
       "      <td>2021-08-19</td>\n",
       "      <td>4088</td>\n",
       "      <td>2</td>\n",
       "      <td>atlantis orange</td>\n",
       "      <td>1.25</td>\n",
       "      <td>3679.2</td>\n",
       "      <td>True</td>\n",
       "      <td>True</td>\n",
       "      <td>68.823590</td>\n",
       "      <td>...</td>\n",
       "      <td>2021-11-10</td>\n",
       "      <td>0</td>\n",
       "      <td>2021-11-11</td>\n",
       "      <td>0</td>\n",
       "      <td>2021-11-12</td>\n",
       "      <td>0</td>\n",
       "      <td>2021-11-13</td>\n",
       "      <td>0</td>\n",
       "      <td>2021-11-14</td>\n",
       "      <td>0</td>\n",
       "    </tr>\n",
       "    <tr>\n",
       "      <th>42</th>\n",
       "      <td>42</td>\n",
       "      <td>2021-08-19</td>\n",
       "      <td>4116</td>\n",
       "      <td>2</td>\n",
       "      <td>atlantis orange</td>\n",
       "      <td>1.25</td>\n",
       "      <td>3704.4</td>\n",
       "      <td>True</td>\n",
       "      <td>True</td>\n",
       "      <td>68.800674</td>\n",
       "      <td>...</td>\n",
       "      <td>2021-11-10</td>\n",
       "      <td>0</td>\n",
       "      <td>2021-11-11</td>\n",
       "      <td>0</td>\n",
       "      <td>2021-11-12</td>\n",
       "      <td>0</td>\n",
       "      <td>2021-11-13</td>\n",
       "      <td>0</td>\n",
       "      <td>2021-11-14</td>\n",
       "      <td>0</td>\n",
       "    </tr>\n",
       "    <tr>\n",
       "      <th>43</th>\n",
       "      <td>43</td>\n",
       "      <td>2021-08-19</td>\n",
       "      <td>4046</td>\n",
       "      <td>2</td>\n",
       "      <td>atlantis orange</td>\n",
       "      <td>1.25</td>\n",
       "      <td>3641.4</td>\n",
       "      <td>True</td>\n",
       "      <td>True</td>\n",
       "      <td>68.772780</td>\n",
       "      <td>...</td>\n",
       "      <td>2021-11-10</td>\n",
       "      <td>0</td>\n",
       "      <td>2021-11-11</td>\n",
       "      <td>0</td>\n",
       "      <td>2021-11-12</td>\n",
       "      <td>0</td>\n",
       "      <td>2021-11-13</td>\n",
       "      <td>0</td>\n",
       "      <td>2021-11-14</td>\n",
       "      <td>0</td>\n",
       "    </tr>\n",
       "    <tr>\n",
       "      <th>44</th>\n",
       "      <td>44</td>\n",
       "      <td>2021-08-19</td>\n",
       "      <td>4130</td>\n",
       "      <td>2</td>\n",
       "      <td>atlantis orange</td>\n",
       "      <td>1.25</td>\n",
       "      <td>3717.0</td>\n",
       "      <td>True</td>\n",
       "      <td>True</td>\n",
       "      <td>68.758804</td>\n",
       "      <td>...</td>\n",
       "      <td>2021-11-10</td>\n",
       "      <td>0</td>\n",
       "      <td>2021-11-11</td>\n",
       "      <td>0</td>\n",
       "      <td>2021-11-12</td>\n",
       "      <td>0</td>\n",
       "      <td>2021-11-13</td>\n",
       "      <td>0</td>\n",
       "      <td>2021-11-14</td>\n",
       "      <td>0</td>\n",
       "    </tr>\n",
       "    <tr>\n",
       "      <th>45</th>\n",
       "      <td>45</td>\n",
       "      <td>2021-08-19</td>\n",
       "      <td>4144</td>\n",
       "      <td>2</td>\n",
       "      <td>atlantis orange</td>\n",
       "      <td>1.25</td>\n",
       "      <td>3729.6</td>\n",
       "      <td>True</td>\n",
       "      <td>True</td>\n",
       "      <td>68.758804</td>\n",
       "      <td>...</td>\n",
       "      <td>2021-11-10</td>\n",
       "      <td>0</td>\n",
       "      <td>2021-11-11</td>\n",
       "      <td>0</td>\n",
       "      <td>2021-11-12</td>\n",
       "      <td>0</td>\n",
       "      <td>2021-11-13</td>\n",
       "      <td>0</td>\n",
       "      <td>2021-11-14</td>\n",
       "      <td>0</td>\n",
       "    </tr>\n",
       "    <tr>\n",
       "      <th>46</th>\n",
       "      <td>46</td>\n",
       "      <td>2021-08-19</td>\n",
       "      <td>4102</td>\n",
       "      <td>2</td>\n",
       "      <td>atlantis orange</td>\n",
       "      <td>1.25</td>\n",
       "      <td>3691.8</td>\n",
       "      <td>True</td>\n",
       "      <td>True</td>\n",
       "      <td>68.823590</td>\n",
       "      <td>...</td>\n",
       "      <td>2021-11-10</td>\n",
       "      <td>0</td>\n",
       "      <td>2021-11-11</td>\n",
       "      <td>0</td>\n",
       "      <td>2021-11-12</td>\n",
       "      <td>0</td>\n",
       "      <td>2021-11-13</td>\n",
       "      <td>0</td>\n",
       "      <td>2021-11-14</td>\n",
       "      <td>0</td>\n",
       "    </tr>\n",
       "    <tr>\n",
       "      <th>47</th>\n",
       "      <td>47</td>\n",
       "      <td>2021-08-19</td>\n",
       "      <td>1302</td>\n",
       "      <td>2</td>\n",
       "      <td>atlantis orange</td>\n",
       "      <td>1.25</td>\n",
       "      <td>1171.8</td>\n",
       "      <td>True</td>\n",
       "      <td>True</td>\n",
       "      <td>68.886536</td>\n",
       "      <td>...</td>\n",
       "      <td>2021-11-10</td>\n",
       "      <td>0</td>\n",
       "      <td>2021-11-11</td>\n",
       "      <td>0</td>\n",
       "      <td>2021-11-12</td>\n",
       "      <td>0</td>\n",
       "      <td>2021-11-13</td>\n",
       "      <td>0</td>\n",
       "      <td>2021-11-14</td>\n",
       "      <td>0</td>\n",
       "    </tr>\n",
       "    <tr>\n",
       "      <th>48</th>\n",
       "      <td>48</td>\n",
       "      <td>2021-08-19</td>\n",
       "      <td>1470</td>\n",
       "      <td>2</td>\n",
       "      <td>atlantis orange</td>\n",
       "      <td>1.25</td>\n",
       "      <td>1323.0</td>\n",
       "      <td>True</td>\n",
       "      <td>True</td>\n",
       "      <td>68.876310</td>\n",
       "      <td>...</td>\n",
       "      <td>2021-11-10</td>\n",
       "      <td>0</td>\n",
       "      <td>2021-11-11</td>\n",
       "      <td>0</td>\n",
       "      <td>2021-11-12</td>\n",
       "      <td>0</td>\n",
       "      <td>2021-11-13</td>\n",
       "      <td>0</td>\n",
       "      <td>2021-11-14</td>\n",
       "      <td>0</td>\n",
       "    </tr>\n",
       "    <tr>\n",
       "      <th>49</th>\n",
       "      <td>49</td>\n",
       "      <td>2021-08-19</td>\n",
       "      <td>3990</td>\n",
       "      <td>2</td>\n",
       "      <td>atlantis orange</td>\n",
       "      <td>1.25</td>\n",
       "      <td>3591.0</td>\n",
       "      <td>True</td>\n",
       "      <td>True</td>\n",
       "      <td>68.888990</td>\n",
       "      <td>...</td>\n",
       "      <td>2021-11-10</td>\n",
       "      <td>0</td>\n",
       "      <td>2021-11-11</td>\n",
       "      <td>0</td>\n",
       "      <td>2021-11-12</td>\n",
       "      <td>0</td>\n",
       "      <td>2021-11-13</td>\n",
       "      <td>0</td>\n",
       "      <td>2021-11-14</td>\n",
       "      <td>0</td>\n",
       "    </tr>\n",
       "    <tr>\n",
       "      <th>50</th>\n",
       "      <td>50</td>\n",
       "      <td>2022-06-10</td>\n",
       "      <td>1287</td>\n",
       "      <td>2</td>\n",
       "      <td>atlantis orange</td>\n",
       "      <td>1.25</td>\n",
       "      <td>1158.3</td>\n",
       "      <td>True</td>\n",
       "      <td>True</td>\n",
       "      <td>70.148680</td>\n",
       "      <td>...</td>\n",
       "      <td>2022-09-02</td>\n",
       "      <td>0</td>\n",
       "      <td>2022-09-03</td>\n",
       "      <td>0</td>\n",
       "      <td>2022-09-04</td>\n",
       "      <td>0</td>\n",
       "      <td>2022-09-05</td>\n",
       "      <td>0</td>\n",
       "      <td>2022-09-06</td>\n",
       "      <td>0</td>\n",
       "    </tr>\n",
       "  </tbody>\n",
       "</table>\n",
       "<p>10 rows × 59 columns</p>\n",
       "</div>"
      ],
      "text/plain": [
       "    id planted_on  stems  block          variety  bell_sd  expected_yield  \\\n",
       "41  41 2021-08-19   4088      2  atlantis orange     1.25          3679.2   \n",
       "42  42 2021-08-19   4116      2  atlantis orange     1.25          3704.4   \n",
       "43  43 2021-08-19   4046      2  atlantis orange     1.25          3641.4   \n",
       "44  44 2021-08-19   4130      2  atlantis orange     1.25          3717.0   \n",
       "45  45 2021-08-19   4144      2  atlantis orange     1.25          3729.6   \n",
       "46  46 2021-08-19   4102      2  atlantis orange     1.25          3691.8   \n",
       "47  47 2021-08-19   1302      2  atlantis orange     1.25          1171.8   \n",
       "48  48 2021-08-19   1470      2  atlantis orange     1.25          1323.0   \n",
       "49  49 2021-08-19   3990      2  atlantis orange     1.25          3591.0   \n",
       "50  50 2022-06-10   1287      2  atlantis orange     1.25          1158.3   \n",
       "\n",
       "    enough_weather_data  valid_combo         mu  ...  fecha_dia_19  \\\n",
       "41                 True         True  68.823590  ...    2021-11-10   \n",
       "42                 True         True  68.800674  ...    2021-11-10   \n",
       "43                 True         True  68.772780  ...    2021-11-10   \n",
       "44                 True         True  68.758804  ...    2021-11-10   \n",
       "45                 True         True  68.758804  ...    2021-11-10   \n",
       "46                 True         True  68.823590  ...    2021-11-10   \n",
       "47                 True         True  68.886536  ...    2021-11-10   \n",
       "48                 True         True  68.876310  ...    2021-11-10   \n",
       "49                 True         True  68.888990  ...    2021-11-10   \n",
       "50                 True         True  70.148680  ...    2022-09-02   \n",
       "\n",
       "    tallos_dia_19  fecha_dia_20 tallos_dia_20  fecha_dia_21 tallos_dia_21  \\\n",
       "41              0    2021-11-11             0    2021-11-12             0   \n",
       "42              0    2021-11-11             0    2021-11-12             0   \n",
       "43              0    2021-11-11             0    2021-11-12             0   \n",
       "44              0    2021-11-11             0    2021-11-12             0   \n",
       "45              0    2021-11-11             0    2021-11-12             0   \n",
       "46              0    2021-11-11             0    2021-11-12             0   \n",
       "47              0    2021-11-11             0    2021-11-12             0   \n",
       "48              0    2021-11-11             0    2021-11-12             0   \n",
       "49              0    2021-11-11             0    2021-11-12             0   \n",
       "50              0    2022-09-03             0    2022-09-04             0   \n",
       "\n",
       "    fecha_dia_22 tallos_dia_22  fecha_dia_23 tallos_dia_23  \n",
       "41    2021-11-13             0    2021-11-14             0  \n",
       "42    2021-11-13             0    2021-11-14             0  \n",
       "43    2021-11-13             0    2021-11-14             0  \n",
       "44    2021-11-13             0    2021-11-14             0  \n",
       "45    2021-11-13             0    2021-11-14             0  \n",
       "46    2021-11-13             0    2021-11-14             0  \n",
       "47    2021-11-13             0    2021-11-14             0  \n",
       "48    2021-11-13             0    2021-11-14             0  \n",
       "49    2021-11-13             0    2021-11-14             0  \n",
       "50    2022-09-05             0    2022-09-06             0  \n",
       "\n",
       "[10 rows x 59 columns]"
      ]
     },
     "execution_count": 288,
     "metadata": {},
     "output_type": "execute_result"
    }
   ],
   "source": [
    "short[short[\"variety\"]==\"atlantis orange\"]"
   ]
  },
  {
   "cell_type": "code",
   "execution_count": 338,
   "metadata": {},
   "outputs": [
    {
     "data": {
      "text/plain": [
       "Timestamp('2021-04-28 00:00:00')"
      ]
     },
     "execution_count": 338,
     "metadata": {},
     "output_type": "execute_result"
    }
   ],
   "source": [
    "short[\"fecha_dia_1\"][0]"
   ]
  },
  {
   "cell_type": "code",
   "execution_count": 339,
   "metadata": {},
   "outputs": [],
   "source": [
    "var=dict()\n",
    "for variedad in ['chelsea', 'purple monarch', 'atlantis orange',\n",
    "       'potomac early white', 'alma', 'aneto']:\n",
    "    draw_df=pd.DataFrame()\n",
    "    draw_df[\"x\"]=dias\n",
    "    draw_df[\"y\"]=list(map(lambda z: get_available_stalks(short[short[\"variety\"]==variedad],z,10),dias))\n",
    "    \n",
    "    var[variedad]=draw_df"
   ]
  },
  {
   "cell_type": "code",
   "execution_count": 340,
   "metadata": {},
   "outputs": [
    {
     "data": {
      "text/html": [
       "<div>\n",
       "<style scoped>\n",
       "    .dataframe tbody tr th:only-of-type {\n",
       "        vertical-align: middle;\n",
       "    }\n",
       "\n",
       "    .dataframe tbody tr th {\n",
       "        vertical-align: top;\n",
       "    }\n",
       "\n",
       "    .dataframe thead th {\n",
       "        text-align: right;\n",
       "    }\n",
       "</style>\n",
       "<table border=\"1\" class=\"dataframe\">\n",
       "  <thead>\n",
       "    <tr style=\"text-align: right;\">\n",
       "      <th></th>\n",
       "      <th>x</th>\n",
       "      <th>y</th>\n",
       "    </tr>\n",
       "  </thead>\n",
       "  <tbody>\n",
       "    <tr>\n",
       "      <th>0</th>\n",
       "      <td>2022-07-01</td>\n",
       "      <td>47</td>\n",
       "    </tr>\n",
       "    <tr>\n",
       "      <th>1</th>\n",
       "      <td>2022-07-02</td>\n",
       "      <td>277</td>\n",
       "    </tr>\n",
       "    <tr>\n",
       "      <th>2</th>\n",
       "      <td>2022-07-03</td>\n",
       "      <td>978</td>\n",
       "    </tr>\n",
       "    <tr>\n",
       "      <th>3</th>\n",
       "      <td>2022-07-04</td>\n",
       "      <td>2284</td>\n",
       "    </tr>\n",
       "    <tr>\n",
       "      <th>4</th>\n",
       "      <td>2022-07-05</td>\n",
       "      <td>4066</td>\n",
       "    </tr>\n",
       "    <tr>\n",
       "      <th>5</th>\n",
       "      <td>2022-07-06</td>\n",
       "      <td>6193</td>\n",
       "    </tr>\n",
       "    <tr>\n",
       "      <th>6</th>\n",
       "      <td>2022-07-07</td>\n",
       "      <td>8244</td>\n",
       "    </tr>\n",
       "    <tr>\n",
       "      <th>7</th>\n",
       "      <td>2022-07-08</td>\n",
       "      <td>9577</td>\n",
       "    </tr>\n",
       "    <tr>\n",
       "      <th>8</th>\n",
       "      <td>2022-07-09</td>\n",
       "      <td>10104</td>\n",
       "    </tr>\n",
       "    <tr>\n",
       "      <th>9</th>\n",
       "      <td>2022-07-10</td>\n",
       "      <td>10226</td>\n",
       "    </tr>\n",
       "    <tr>\n",
       "      <th>10</th>\n",
       "      <td>2022-07-11</td>\n",
       "      <td>10238</td>\n",
       "    </tr>\n",
       "    <tr>\n",
       "      <th>11</th>\n",
       "      <td>2022-07-12</td>\n",
       "      <td>10196</td>\n",
       "    </tr>\n",
       "    <tr>\n",
       "      <th>12</th>\n",
       "      <td>2022-07-13</td>\n",
       "      <td>9966</td>\n",
       "    </tr>\n",
       "    <tr>\n",
       "      <th>13</th>\n",
       "      <td>2022-07-14</td>\n",
       "      <td>9265</td>\n",
       "    </tr>\n",
       "    <tr>\n",
       "      <th>14</th>\n",
       "      <td>2022-07-15</td>\n",
       "      <td>7959</td>\n",
       "    </tr>\n",
       "  </tbody>\n",
       "</table>\n",
       "</div>"
      ],
      "text/plain": [
       "             x      y\n",
       "0   2022-07-01     47\n",
       "1   2022-07-02    277\n",
       "2   2022-07-03    978\n",
       "3   2022-07-04   2284\n",
       "4   2022-07-05   4066\n",
       "5   2022-07-06   6193\n",
       "6   2022-07-07   8244\n",
       "7   2022-07-08   9577\n",
       "8   2022-07-09  10104\n",
       "9   2022-07-10  10226\n",
       "10  2022-07-11  10238\n",
       "11  2022-07-12  10196\n",
       "12  2022-07-13   9966\n",
       "13  2022-07-14   9265\n",
       "14  2022-07-15   7959"
      ]
     },
     "execution_count": 340,
     "metadata": {},
     "output_type": "execute_result"
    }
   ],
   "source": [
    "var[\"aneto\"]"
   ]
  },
  {
   "cell_type": "code",
   "execution_count": 291,
   "metadata": {},
   "outputs": [
    {
     "data": {
      "text/plain": [
       "[datetime.date(2022, 7, 1),\n",
       " datetime.date(2022, 7, 2),\n",
       " datetime.date(2022, 7, 3),\n",
       " datetime.date(2022, 7, 4),\n",
       " datetime.date(2022, 7, 5),\n",
       " datetime.date(2022, 7, 6),\n",
       " datetime.date(2022, 7, 7),\n",
       " datetime.date(2022, 7, 8),\n",
       " datetime.date(2022, 7, 9),\n",
       " datetime.date(2022, 7, 10),\n",
       " datetime.date(2022, 7, 11),\n",
       " datetime.date(2022, 7, 12),\n",
       " datetime.date(2022, 7, 13),\n",
       " datetime.date(2022, 7, 14),\n",
       " datetime.date(2022, 7, 15)]"
      ]
     },
     "execution_count": 291,
     "metadata": {},
     "output_type": "execute_result"
    }
   ],
   "source": [
    "dias"
   ]
  },
  {
   "cell_type": "code",
   "execution_count": null,
   "metadata": {},
   "outputs": [],
   "source": []
  },
  {
   "cell_type": "code",
   "execution_count": 318,
   "metadata": {},
   "outputs": [
    {
     "data": {
      "text/plain": [
       "47"
      ]
     },
     "execution_count": 318,
     "metadata": {},
     "output_type": "execute_result"
    }
   ],
   "source": [
    "get_available_stalks(short,date(2022,7,1),10)"
   ]
  },
  {
   "cell_type": "code",
   "execution_count": null,
   "metadata": {},
   "outputs": [],
   "source": []
  },
  {
   "cell_type": "code",
   "execution_count": 302,
   "metadata": {},
   "outputs": [
    {
     "data": {
      "text/plain": [
       "array(['chelsea', 'purple monarch', 'atlantis orange',\n",
       "       'potomac early white', 'alma', 'aneto'], dtype=object)"
      ]
     },
     "execution_count": 302,
     "metadata": {},
     "output_type": "execute_result"
    }
   ],
   "source": [
    "short[\"variety\"].unique()"
   ]
  },
  {
   "cell_type": "code",
   "execution_count": 349,
   "metadata": {},
   "outputs": [
    {
     "data": {
      "text/plain": [
       "[datetime.date(2022, 7, 1),\n",
       " datetime.date(2022, 7, 2),\n",
       " datetime.date(2022, 7, 3),\n",
       " datetime.date(2022, 7, 4),\n",
       " datetime.date(2022, 7, 5),\n",
       " datetime.date(2022, 7, 6),\n",
       " datetime.date(2022, 7, 7),\n",
       " datetime.date(2022, 7, 8),\n",
       " datetime.date(2022, 7, 9),\n",
       " datetime.date(2022, 7, 10),\n",
       " datetime.date(2022, 7, 11),\n",
       " datetime.date(2022, 7, 12),\n",
       " datetime.date(2022, 7, 13),\n",
       " datetime.date(2022, 7, 14),\n",
       " datetime.date(2022, 7, 15)]"
      ]
     },
     "execution_count": 349,
     "metadata": {},
     "output_type": "execute_result"
    }
   ],
   "source": [
    "dias"
   ]
  },
  {
   "cell_type": "code",
   "execution_count": 300,
   "metadata": {},
   "outputs": [],
   "source": [
    "draw_df=pd.DataFrame()\n",
    "draw_df[\"x\"]=dias\n",
    "draw_df[\"y\"]=list(map(lambda z: get_available_stalks(short,z,40),dias))"
   ]
  },
  {
   "cell_type": "code",
   "execution_count": 348,
   "metadata": {},
   "outputs": [
    {
     "data": {
      "text/plain": [
       "Timestamp('2021-04-28 00:00:00')"
      ]
     },
     "execution_count": 348,
     "metadata": {},
     "output_type": "execute_result"
    }
   ],
   "source": [
    "short[\"fecha_dia_1\"][0]"
   ]
  },
  {
   "cell_type": "code",
   "execution_count": 343,
   "metadata": {},
   "outputs": [
    {
     "data": {
      "application/vnd.plotly.v1+json": {
       "config": {
        "plotlyServerURL": "https://plot.ly"
       },
       "data": [
        {
         "fill": "tonexty",
         "line": {
          "color": "#95BFE1"
         },
         "mode": "markers+lines",
         "name": "chelsea",
         "showlegend": true,
         "type": "scatter",
         "visible": "legendonly",
         "x": [
          "2022-07-01",
          "2022-07-02",
          "2022-07-03",
          "2022-07-04",
          "2022-07-05",
          "2022-07-06",
          "2022-07-07",
          "2022-07-08",
          "2022-07-09",
          "2022-07-10",
          "2022-07-11",
          "2022-07-12",
          "2022-07-13",
          "2022-07-14",
          "2022-07-15"
         ],
         "y": [
          0,
          0,
          0,
          0,
          0,
          0,
          0,
          0,
          0,
          0,
          0,
          0,
          0,
          0,
          0
         ]
        },
        {
         "fill": "tonexty",
         "line": {
          "color": "#E83283"
         },
         "mode": "markers+lines",
         "name": "purple monarch",
         "showlegend": true,
         "type": "scatter",
         "visible": "legendonly",
         "x": [
          "2022-07-01",
          "2022-07-02",
          "2022-07-03",
          "2022-07-04",
          "2022-07-05",
          "2022-07-06",
          "2022-07-07",
          "2022-07-08",
          "2022-07-09",
          "2022-07-10",
          "2022-07-11",
          "2022-07-12",
          "2022-07-13",
          "2022-07-14",
          "2022-07-15"
         ],
         "y": [
          0,
          0,
          0,
          0,
          0,
          0,
          0,
          0,
          0,
          0,
          0,
          0,
          0,
          0,
          0
         ]
        },
        {
         "fill": "tonexty",
         "line": {
          "color": "#42D7A7"
         },
         "mode": "markers+lines",
         "name": "atlantis orange",
         "showlegend": true,
         "type": "scatter",
         "visible": "legendonly",
         "x": [
          "2022-07-01",
          "2022-07-02",
          "2022-07-03",
          "2022-07-04",
          "2022-07-05",
          "2022-07-06",
          "2022-07-07",
          "2022-07-08",
          "2022-07-09",
          "2022-07-10",
          "2022-07-11",
          "2022-07-12",
          "2022-07-13",
          "2022-07-14",
          "2022-07-15"
         ],
         "y": [
          0,
          0,
          0,
          0,
          0,
          0,
          0,
          0,
          0,
          0,
          0,
          0,
          0,
          0,
          0
         ]
        },
        {
         "fill": "tonexty",
         "line": {
          "color": "#38CBFB"
         },
         "mode": "markers+lines",
         "name": "potomac early white",
         "showlegend": true,
         "type": "scatter",
         "visible": "legendonly",
         "x": [
          "2022-07-01",
          "2022-07-02",
          "2022-07-03",
          "2022-07-04",
          "2022-07-05",
          "2022-07-06",
          "2022-07-07",
          "2022-07-08",
          "2022-07-09",
          "2022-07-10",
          "2022-07-11",
          "2022-07-12",
          "2022-07-13",
          "2022-07-14",
          "2022-07-15"
         ],
         "y": [
          0,
          0,
          0,
          0,
          0,
          0,
          0,
          0,
          0,
          0,
          0,
          0,
          0,
          0,
          0
         ]
        },
        {
         "fill": "tonexty",
         "line": {
          "color": "#d6e649"
         },
         "mode": "markers+lines",
         "name": "alma",
         "showlegend": true,
         "type": "scatter",
         "visible": "legendonly",
         "x": [
          "2022-07-01",
          "2022-07-02",
          "2022-07-03",
          "2022-07-04",
          "2022-07-05",
          "2022-07-06",
          "2022-07-07",
          "2022-07-08",
          "2022-07-09",
          "2022-07-10",
          "2022-07-11",
          "2022-07-12",
          "2022-07-13",
          "2022-07-14",
          "2022-07-15"
         ],
         "y": [
          0,
          13,
          154,
          928,
          3343,
          8117,
          15095,
          23176,
          29803,
          33228,
          34297,
          34497,
          34506,
          34366,
          33592
         ]
        },
        {
         "fill": "tonexty",
         "line": {
          "color": "#f230a1"
         },
         "mode": "markers+lines",
         "name": "aneto",
         "showlegend": true,
         "type": "scatter",
         "visible": true,
         "x": [
          "2022-07-01",
          "2022-07-02",
          "2022-07-03",
          "2022-07-04",
          "2022-07-05",
          "2022-07-06",
          "2022-07-07",
          "2022-07-08",
          "2022-07-09",
          "2022-07-10",
          "2022-07-11",
          "2022-07-12",
          "2022-07-13",
          "2022-07-14",
          "2022-07-15"
         ],
         "y": [
          47,
          277,
          978,
          2284,
          4066,
          6193,
          8244,
          9577,
          10104,
          10226,
          10238,
          10196,
          9966,
          9265,
          7959
         ]
        }
       ],
       "layout": {
        "height": 350,
        "margin": {
         "b": 0,
         "l": 0,
         "r": 0,
         "t": 0
        },
        "paper_bgcolor": "rgba(0, 0, 0, 0)",
        "plot_bgcolor": "rgba(0, 0, 0, 0)",
        "template": {
         "data": {
          "bar": [
           {
            "error_x": {
             "color": "#f2f5fa"
            },
            "error_y": {
             "color": "#f2f5fa"
            },
            "marker": {
             "line": {
              "color": "rgb(17,17,17)",
              "width": 0.5
             },
             "pattern": {
              "fillmode": "overlay",
              "size": 10,
              "solidity": 0.2
             }
            },
            "type": "bar"
           }
          ],
          "barpolar": [
           {
            "marker": {
             "line": {
              "color": "rgb(17,17,17)",
              "width": 0.5
             },
             "pattern": {
              "fillmode": "overlay",
              "size": 10,
              "solidity": 0.2
             }
            },
            "type": "barpolar"
           }
          ],
          "carpet": [
           {
            "aaxis": {
             "endlinecolor": "#A2B1C6",
             "gridcolor": "#506784",
             "linecolor": "#506784",
             "minorgridcolor": "#506784",
             "startlinecolor": "#A2B1C6"
            },
            "baxis": {
             "endlinecolor": "#A2B1C6",
             "gridcolor": "#506784",
             "linecolor": "#506784",
             "minorgridcolor": "#506784",
             "startlinecolor": "#A2B1C6"
            },
            "type": "carpet"
           }
          ],
          "choropleth": [
           {
            "colorbar": {
             "outlinewidth": 0,
             "ticks": ""
            },
            "type": "choropleth"
           }
          ],
          "contour": [
           {
            "colorbar": {
             "outlinewidth": 0,
             "ticks": ""
            },
            "colorscale": [
             [
              0,
              "#0d0887"
             ],
             [
              0.1111111111111111,
              "#46039f"
             ],
             [
              0.2222222222222222,
              "#7201a8"
             ],
             [
              0.3333333333333333,
              "#9c179e"
             ],
             [
              0.4444444444444444,
              "#bd3786"
             ],
             [
              0.5555555555555556,
              "#d8576b"
             ],
             [
              0.6666666666666666,
              "#ed7953"
             ],
             [
              0.7777777777777778,
              "#fb9f3a"
             ],
             [
              0.8888888888888888,
              "#fdca26"
             ],
             [
              1,
              "#f0f921"
             ]
            ],
            "type": "contour"
           }
          ],
          "contourcarpet": [
           {
            "colorbar": {
             "outlinewidth": 0,
             "ticks": ""
            },
            "type": "contourcarpet"
           }
          ],
          "heatmap": [
           {
            "colorbar": {
             "outlinewidth": 0,
             "ticks": ""
            },
            "colorscale": [
             [
              0,
              "#0d0887"
             ],
             [
              0.1111111111111111,
              "#46039f"
             ],
             [
              0.2222222222222222,
              "#7201a8"
             ],
             [
              0.3333333333333333,
              "#9c179e"
             ],
             [
              0.4444444444444444,
              "#bd3786"
             ],
             [
              0.5555555555555556,
              "#d8576b"
             ],
             [
              0.6666666666666666,
              "#ed7953"
             ],
             [
              0.7777777777777778,
              "#fb9f3a"
             ],
             [
              0.8888888888888888,
              "#fdca26"
             ],
             [
              1,
              "#f0f921"
             ]
            ],
            "type": "heatmap"
           }
          ],
          "heatmapgl": [
           {
            "colorbar": {
             "outlinewidth": 0,
             "ticks": ""
            },
            "colorscale": [
             [
              0,
              "#0d0887"
             ],
             [
              0.1111111111111111,
              "#46039f"
             ],
             [
              0.2222222222222222,
              "#7201a8"
             ],
             [
              0.3333333333333333,
              "#9c179e"
             ],
             [
              0.4444444444444444,
              "#bd3786"
             ],
             [
              0.5555555555555556,
              "#d8576b"
             ],
             [
              0.6666666666666666,
              "#ed7953"
             ],
             [
              0.7777777777777778,
              "#fb9f3a"
             ],
             [
              0.8888888888888888,
              "#fdca26"
             ],
             [
              1,
              "#f0f921"
             ]
            ],
            "type": "heatmapgl"
           }
          ],
          "histogram": [
           {
            "marker": {
             "pattern": {
              "fillmode": "overlay",
              "size": 10,
              "solidity": 0.2
             }
            },
            "type": "histogram"
           }
          ],
          "histogram2d": [
           {
            "colorbar": {
             "outlinewidth": 0,
             "ticks": ""
            },
            "colorscale": [
             [
              0,
              "#0d0887"
             ],
             [
              0.1111111111111111,
              "#46039f"
             ],
             [
              0.2222222222222222,
              "#7201a8"
             ],
             [
              0.3333333333333333,
              "#9c179e"
             ],
             [
              0.4444444444444444,
              "#bd3786"
             ],
             [
              0.5555555555555556,
              "#d8576b"
             ],
             [
              0.6666666666666666,
              "#ed7953"
             ],
             [
              0.7777777777777778,
              "#fb9f3a"
             ],
             [
              0.8888888888888888,
              "#fdca26"
             ],
             [
              1,
              "#f0f921"
             ]
            ],
            "type": "histogram2d"
           }
          ],
          "histogram2dcontour": [
           {
            "colorbar": {
             "outlinewidth": 0,
             "ticks": ""
            },
            "colorscale": [
             [
              0,
              "#0d0887"
             ],
             [
              0.1111111111111111,
              "#46039f"
             ],
             [
              0.2222222222222222,
              "#7201a8"
             ],
             [
              0.3333333333333333,
              "#9c179e"
             ],
             [
              0.4444444444444444,
              "#bd3786"
             ],
             [
              0.5555555555555556,
              "#d8576b"
             ],
             [
              0.6666666666666666,
              "#ed7953"
             ],
             [
              0.7777777777777778,
              "#fb9f3a"
             ],
             [
              0.8888888888888888,
              "#fdca26"
             ],
             [
              1,
              "#f0f921"
             ]
            ],
            "type": "histogram2dcontour"
           }
          ],
          "mesh3d": [
           {
            "colorbar": {
             "outlinewidth": 0,
             "ticks": ""
            },
            "type": "mesh3d"
           }
          ],
          "parcoords": [
           {
            "line": {
             "colorbar": {
              "outlinewidth": 0,
              "ticks": ""
             }
            },
            "type": "parcoords"
           }
          ],
          "pie": [
           {
            "automargin": true,
            "type": "pie"
           }
          ],
          "scatter": [
           {
            "marker": {
             "line": {
              "color": "#283442"
             }
            },
            "type": "scatter"
           }
          ],
          "scatter3d": [
           {
            "line": {
             "colorbar": {
              "outlinewidth": 0,
              "ticks": ""
             }
            },
            "marker": {
             "colorbar": {
              "outlinewidth": 0,
              "ticks": ""
             }
            },
            "type": "scatter3d"
           }
          ],
          "scattercarpet": [
           {
            "marker": {
             "colorbar": {
              "outlinewidth": 0,
              "ticks": ""
             }
            },
            "type": "scattercarpet"
           }
          ],
          "scattergeo": [
           {
            "marker": {
             "colorbar": {
              "outlinewidth": 0,
              "ticks": ""
             }
            },
            "type": "scattergeo"
           }
          ],
          "scattergl": [
           {
            "marker": {
             "line": {
              "color": "#283442"
             }
            },
            "type": "scattergl"
           }
          ],
          "scattermapbox": [
           {
            "marker": {
             "colorbar": {
              "outlinewidth": 0,
              "ticks": ""
             }
            },
            "type": "scattermapbox"
           }
          ],
          "scatterpolar": [
           {
            "marker": {
             "colorbar": {
              "outlinewidth": 0,
              "ticks": ""
             }
            },
            "type": "scatterpolar"
           }
          ],
          "scatterpolargl": [
           {
            "marker": {
             "colorbar": {
              "outlinewidth": 0,
              "ticks": ""
             }
            },
            "type": "scatterpolargl"
           }
          ],
          "scatterternary": [
           {
            "marker": {
             "colorbar": {
              "outlinewidth": 0,
              "ticks": ""
             }
            },
            "type": "scatterternary"
           }
          ],
          "surface": [
           {
            "colorbar": {
             "outlinewidth": 0,
             "ticks": ""
            },
            "colorscale": [
             [
              0,
              "#0d0887"
             ],
             [
              0.1111111111111111,
              "#46039f"
             ],
             [
              0.2222222222222222,
              "#7201a8"
             ],
             [
              0.3333333333333333,
              "#9c179e"
             ],
             [
              0.4444444444444444,
              "#bd3786"
             ],
             [
              0.5555555555555556,
              "#d8576b"
             ],
             [
              0.6666666666666666,
              "#ed7953"
             ],
             [
              0.7777777777777778,
              "#fb9f3a"
             ],
             [
              0.8888888888888888,
              "#fdca26"
             ],
             [
              1,
              "#f0f921"
             ]
            ],
            "type": "surface"
           }
          ],
          "table": [
           {
            "cells": {
             "fill": {
              "color": "#506784"
             },
             "line": {
              "color": "rgb(17,17,17)"
             }
            },
            "header": {
             "fill": {
              "color": "#2a3f5f"
             },
             "line": {
              "color": "rgb(17,17,17)"
             }
            },
            "type": "table"
           }
          ]
         },
         "layout": {
          "annotationdefaults": {
           "arrowcolor": "#f2f5fa",
           "arrowhead": 0,
           "arrowwidth": 1
          },
          "autotypenumbers": "strict",
          "coloraxis": {
           "colorbar": {
            "outlinewidth": 0,
            "ticks": ""
           }
          },
          "colorscale": {
           "diverging": [
            [
             0,
             "#8e0152"
            ],
            [
             0.1,
             "#c51b7d"
            ],
            [
             0.2,
             "#de77ae"
            ],
            [
             0.3,
             "#f1b6da"
            ],
            [
             0.4,
             "#fde0ef"
            ],
            [
             0.5,
             "#f7f7f7"
            ],
            [
             0.6,
             "#e6f5d0"
            ],
            [
             0.7,
             "#b8e186"
            ],
            [
             0.8,
             "#7fbc41"
            ],
            [
             0.9,
             "#4d9221"
            ],
            [
             1,
             "#276419"
            ]
           ],
           "sequential": [
            [
             0,
             "#0d0887"
            ],
            [
             0.1111111111111111,
             "#46039f"
            ],
            [
             0.2222222222222222,
             "#7201a8"
            ],
            [
             0.3333333333333333,
             "#9c179e"
            ],
            [
             0.4444444444444444,
             "#bd3786"
            ],
            [
             0.5555555555555556,
             "#d8576b"
            ],
            [
             0.6666666666666666,
             "#ed7953"
            ],
            [
             0.7777777777777778,
             "#fb9f3a"
            ],
            [
             0.8888888888888888,
             "#fdca26"
            ],
            [
             1,
             "#f0f921"
            ]
           ],
           "sequentialminus": [
            [
             0,
             "#0d0887"
            ],
            [
             0.1111111111111111,
             "#46039f"
            ],
            [
             0.2222222222222222,
             "#7201a8"
            ],
            [
             0.3333333333333333,
             "#9c179e"
            ],
            [
             0.4444444444444444,
             "#bd3786"
            ],
            [
             0.5555555555555556,
             "#d8576b"
            ],
            [
             0.6666666666666666,
             "#ed7953"
            ],
            [
             0.7777777777777778,
             "#fb9f3a"
            ],
            [
             0.8888888888888888,
             "#fdca26"
            ],
            [
             1,
             "#f0f921"
            ]
           ]
          },
          "colorway": [
           "#636efa",
           "#EF553B",
           "#00cc96",
           "#ab63fa",
           "#FFA15A",
           "#19d3f3",
           "#FF6692",
           "#B6E880",
           "#FF97FF",
           "#FECB52"
          ],
          "font": {
           "color": "#f2f5fa"
          },
          "geo": {
           "bgcolor": "rgb(17,17,17)",
           "lakecolor": "rgb(17,17,17)",
           "landcolor": "rgb(17,17,17)",
           "showlakes": true,
           "showland": true,
           "subunitcolor": "#506784"
          },
          "hoverlabel": {
           "align": "left"
          },
          "hovermode": "closest",
          "mapbox": {
           "style": "dark"
          },
          "paper_bgcolor": "rgb(17,17,17)",
          "plot_bgcolor": "rgb(17,17,17)",
          "polar": {
           "angularaxis": {
            "gridcolor": "#506784",
            "linecolor": "#506784",
            "ticks": ""
           },
           "bgcolor": "rgb(17,17,17)",
           "radialaxis": {
            "gridcolor": "#506784",
            "linecolor": "#506784",
            "ticks": ""
           }
          },
          "scene": {
           "xaxis": {
            "backgroundcolor": "rgb(17,17,17)",
            "gridcolor": "#506784",
            "gridwidth": 2,
            "linecolor": "#506784",
            "showbackground": true,
            "ticks": "",
            "zerolinecolor": "#C8D4E3"
           },
           "yaxis": {
            "backgroundcolor": "rgb(17,17,17)",
            "gridcolor": "#506784",
            "gridwidth": 2,
            "linecolor": "#506784",
            "showbackground": true,
            "ticks": "",
            "zerolinecolor": "#C8D4E3"
           },
           "zaxis": {
            "backgroundcolor": "rgb(17,17,17)",
            "gridcolor": "#506784",
            "gridwidth": 2,
            "linecolor": "#506784",
            "showbackground": true,
            "ticks": "",
            "zerolinecolor": "#C8D4E3"
           }
          },
          "shapedefaults": {
           "line": {
            "color": "#f2f5fa"
           }
          },
          "sliderdefaults": {
           "bgcolor": "#C8D4E3",
           "bordercolor": "rgb(17,17,17)",
           "borderwidth": 1,
           "tickwidth": 0
          },
          "ternary": {
           "aaxis": {
            "gridcolor": "#506784",
            "linecolor": "#506784",
            "ticks": ""
           },
           "baxis": {
            "gridcolor": "#506784",
            "linecolor": "#506784",
            "ticks": ""
           },
           "bgcolor": "rgb(17,17,17)",
           "caxis": {
            "gridcolor": "#506784",
            "linecolor": "#506784",
            "ticks": ""
           }
          },
          "title": {
           "x": 0.05
          },
          "updatemenudefaults": {
           "bgcolor": "#506784",
           "borderwidth": 0
          },
          "xaxis": {
           "automargin": true,
           "gridcolor": "#283442",
           "linecolor": "#506784",
           "ticks": "",
           "title": {
            "standoff": 15
           },
           "zerolinecolor": "#283442",
           "zerolinewidth": 2
          },
          "yaxis": {
           "automargin": true,
           "gridcolor": "#283442",
           "linecolor": "#506784",
           "ticks": "",
           "title": {
            "standoff": 15
           },
           "zerolinecolor": "#283442",
           "zerolinewidth": 2
          }
         }
        },
        "yaxis": {
         "title": {
          "text": "Tests"
         }
        }
       }
      }
     },
     "metadata": {},
     "output_type": "display_data"
    }
   ],
   "source": [
    "scatter_graph(\"aneto\",var)"
   ]
  },
  {
   "cell_type": "code",
   "execution_count": 355,
   "metadata": {},
   "outputs": [
    {
     "data": {
      "text/plain": [
       "336963"
      ]
     },
     "execution_count": 355,
     "metadata": {},
     "output_type": "execute_result"
    }
   ],
   "source": [
    "short[\"stems\"].sum()"
   ]
  },
  {
   "cell_type": "code",
   "execution_count": 358,
   "metadata": {},
   "outputs": [
    {
     "data": {
      "text/plain": [
       "'2023-01-31 00:00:00'"
      ]
     },
     "execution_count": 358,
     "metadata": {},
     "output_type": "execute_result"
    }
   ],
   "source": [
    "str(pd.to_datetime(\"2023-01-31\")"
   ]
  },
  {
   "cell_type": "code",
   "execution_count": 361,
   "metadata": {},
   "outputs": [
    {
     "data": {
      "text/html": [
       "<div>\n",
       "<style scoped>\n",
       "    .dataframe tbody tr th:only-of-type {\n",
       "        vertical-align: middle;\n",
       "    }\n",
       "\n",
       "    .dataframe tbody tr th {\n",
       "        vertical-align: top;\n",
       "    }\n",
       "\n",
       "    .dataframe thead th {\n",
       "        text-align: right;\n",
       "    }\n",
       "</style>\n",
       "<table border=\"1\" class=\"dataframe\">\n",
       "  <thead>\n",
       "    <tr style=\"text-align: right;\">\n",
       "      <th></th>\n",
       "      <th>id</th>\n",
       "      <th>planted_on</th>\n",
       "      <th>stems</th>\n",
       "      <th>block</th>\n",
       "      <th>variety</th>\n",
       "      <th>bell_sd</th>\n",
       "      <th>expected_yield</th>\n",
       "      <th>enough_weather_data</th>\n",
       "      <th>valid_combo</th>\n",
       "      <th>mu</th>\n",
       "      <th>...</th>\n",
       "      <th>fecha_dia_19</th>\n",
       "      <th>tallos_dia_19</th>\n",
       "      <th>fecha_dia_20</th>\n",
       "      <th>tallos_dia_20</th>\n",
       "      <th>fecha_dia_21</th>\n",
       "      <th>tallos_dia_21</th>\n",
       "      <th>fecha_dia_22</th>\n",
       "      <th>tallos_dia_22</th>\n",
       "      <th>fecha_dia_23</th>\n",
       "      <th>tallos_dia_23</th>\n",
       "    </tr>\n",
       "  </thead>\n",
       "  <tbody>\n",
       "    <tr>\n",
       "      <th>0</th>\n",
       "      <td>0</td>\n",
       "      <td>2021-02-15</td>\n",
       "      <td>3480</td>\n",
       "      <td>1</td>\n",
       "      <td>chelsea</td>\n",
       "      <td>1.25</td>\n",
       "      <td>2644.80</td>\n",
       "      <td>True</td>\n",
       "      <td>True</td>\n",
       "      <td>75.755160</td>\n",
       "      <td>...</td>\n",
       "      <td>2021-05-16</td>\n",
       "      <td>0</td>\n",
       "      <td>2021-05-17</td>\n",
       "      <td>0</td>\n",
       "      <td>2021-05-18</td>\n",
       "      <td>0</td>\n",
       "      <td>2021-05-19</td>\n",
       "      <td>0</td>\n",
       "      <td>2021-05-20</td>\n",
       "      <td>0</td>\n",
       "    </tr>\n",
       "    <tr>\n",
       "      <th>1</th>\n",
       "      <td>1</td>\n",
       "      <td>2021-02-15</td>\n",
       "      <td>3480</td>\n",
       "      <td>1</td>\n",
       "      <td>chelsea</td>\n",
       "      <td>1.25</td>\n",
       "      <td>2644.80</td>\n",
       "      <td>True</td>\n",
       "      <td>True</td>\n",
       "      <td>75.755160</td>\n",
       "      <td>...</td>\n",
       "      <td>2021-05-16</td>\n",
       "      <td>0</td>\n",
       "      <td>2021-05-17</td>\n",
       "      <td>0</td>\n",
       "      <td>2021-05-18</td>\n",
       "      <td>0</td>\n",
       "      <td>2021-05-19</td>\n",
       "      <td>0</td>\n",
       "      <td>2021-05-20</td>\n",
       "      <td>0</td>\n",
       "    </tr>\n",
       "    <tr>\n",
       "      <th>2</th>\n",
       "      <td>2</td>\n",
       "      <td>2021-02-15</td>\n",
       "      <td>3480</td>\n",
       "      <td>1</td>\n",
       "      <td>chelsea</td>\n",
       "      <td>1.25</td>\n",
       "      <td>2644.80</td>\n",
       "      <td>True</td>\n",
       "      <td>True</td>\n",
       "      <td>75.755160</td>\n",
       "      <td>...</td>\n",
       "      <td>2021-05-16</td>\n",
       "      <td>0</td>\n",
       "      <td>2021-05-17</td>\n",
       "      <td>0</td>\n",
       "      <td>2021-05-18</td>\n",
       "      <td>0</td>\n",
       "      <td>2021-05-19</td>\n",
       "      <td>0</td>\n",
       "      <td>2021-05-20</td>\n",
       "      <td>0</td>\n",
       "    </tr>\n",
       "    <tr>\n",
       "      <th>3</th>\n",
       "      <td>3</td>\n",
       "      <td>2021-02-17</td>\n",
       "      <td>3480</td>\n",
       "      <td>1</td>\n",
       "      <td>chelsea</td>\n",
       "      <td>1.25</td>\n",
       "      <td>2644.80</td>\n",
       "      <td>True</td>\n",
       "      <td>True</td>\n",
       "      <td>75.407670</td>\n",
       "      <td>...</td>\n",
       "      <td>2021-05-18</td>\n",
       "      <td>0</td>\n",
       "      <td>2021-05-19</td>\n",
       "      <td>0</td>\n",
       "      <td>2021-05-20</td>\n",
       "      <td>0</td>\n",
       "      <td>2021-05-21</td>\n",
       "      <td>0</td>\n",
       "      <td>2021-05-22</td>\n",
       "      <td>0</td>\n",
       "    </tr>\n",
       "    <tr>\n",
       "      <th>4</th>\n",
       "      <td>4</td>\n",
       "      <td>2021-02-17</td>\n",
       "      <td>3480</td>\n",
       "      <td>1</td>\n",
       "      <td>chelsea</td>\n",
       "      <td>1.25</td>\n",
       "      <td>2644.80</td>\n",
       "      <td>True</td>\n",
       "      <td>True</td>\n",
       "      <td>75.407670</td>\n",
       "      <td>...</td>\n",
       "      <td>2021-05-18</td>\n",
       "      <td>0</td>\n",
       "      <td>2021-05-19</td>\n",
       "      <td>0</td>\n",
       "      <td>2021-05-20</td>\n",
       "      <td>0</td>\n",
       "      <td>2021-05-21</td>\n",
       "      <td>0</td>\n",
       "      <td>2021-05-22</td>\n",
       "      <td>0</td>\n",
       "    </tr>\n",
       "    <tr>\n",
       "      <th>...</th>\n",
       "      <td>...</td>\n",
       "      <td>...</td>\n",
       "      <td>...</td>\n",
       "      <td>...</td>\n",
       "      <td>...</td>\n",
       "      <td>...</td>\n",
       "      <td>...</td>\n",
       "      <td>...</td>\n",
       "      <td>...</td>\n",
       "      <td>...</td>\n",
       "      <td>...</td>\n",
       "      <td>...</td>\n",
       "      <td>...</td>\n",
       "      <td>...</td>\n",
       "      <td>...</td>\n",
       "      <td>...</td>\n",
       "      <td>...</td>\n",
       "      <td>...</td>\n",
       "      <td>...</td>\n",
       "      <td>...</td>\n",
       "      <td>...</td>\n",
       "    </tr>\n",
       "    <tr>\n",
       "      <th>58</th>\n",
       "      <td>58</td>\n",
       "      <td>2022-03-09</td>\n",
       "      <td>6576</td>\n",
       "      <td>2</td>\n",
       "      <td>potomac early white</td>\n",
       "      <td>2.00</td>\n",
       "      <td>5721.12</td>\n",
       "      <td>True</td>\n",
       "      <td>True</td>\n",
       "      <td>52.098988</td>\n",
       "      <td>...</td>\n",
       "      <td>2022-05-12</td>\n",
       "      <td>0</td>\n",
       "      <td>2022-05-13</td>\n",
       "      <td>0</td>\n",
       "      <td>2022-05-14</td>\n",
       "      <td>0</td>\n",
       "      <td>2022-05-15</td>\n",
       "      <td>0</td>\n",
       "      <td>2022-05-16</td>\n",
       "      <td>0</td>\n",
       "    </tr>\n",
       "    <tr>\n",
       "      <th>59</th>\n",
       "      <td>59</td>\n",
       "      <td>2022-03-09</td>\n",
       "      <td>3480</td>\n",
       "      <td>2</td>\n",
       "      <td>potomac early white</td>\n",
       "      <td>2.00</td>\n",
       "      <td>3027.60</td>\n",
       "      <td>True</td>\n",
       "      <td>True</td>\n",
       "      <td>49.950314</td>\n",
       "      <td>...</td>\n",
       "      <td>2022-05-10</td>\n",
       "      <td>0</td>\n",
       "      <td>2022-05-11</td>\n",
       "      <td>0</td>\n",
       "      <td>2022-05-12</td>\n",
       "      <td>0</td>\n",
       "      <td>2022-05-13</td>\n",
       "      <td>0</td>\n",
       "      <td>2022-05-14</td>\n",
       "      <td>0</td>\n",
       "    </tr>\n",
       "    <tr>\n",
       "      <th>60</th>\n",
       "      <td>60</td>\n",
       "      <td>2022-03-10</td>\n",
       "      <td>3480</td>\n",
       "      <td>2</td>\n",
       "      <td>potomac early white</td>\n",
       "      <td>2.00</td>\n",
       "      <td>3027.60</td>\n",
       "      <td>True</td>\n",
       "      <td>True</td>\n",
       "      <td>49.757900</td>\n",
       "      <td>...</td>\n",
       "      <td>2022-05-11</td>\n",
       "      <td>0</td>\n",
       "      <td>2022-05-12</td>\n",
       "      <td>0</td>\n",
       "      <td>2022-05-13</td>\n",
       "      <td>0</td>\n",
       "      <td>2022-05-14</td>\n",
       "      <td>0</td>\n",
       "      <td>2022-05-15</td>\n",
       "      <td>0</td>\n",
       "    </tr>\n",
       "    <tr>\n",
       "      <th>61</th>\n",
       "      <td>61</td>\n",
       "      <td>2022-03-11</td>\n",
       "      <td>3480</td>\n",
       "      <td>2</td>\n",
       "      <td>potomac early white</td>\n",
       "      <td>2.00</td>\n",
       "      <td>3027.60</td>\n",
       "      <td>True</td>\n",
       "      <td>True</td>\n",
       "      <td>49.883884</td>\n",
       "      <td>...</td>\n",
       "      <td>2022-05-12</td>\n",
       "      <td>0</td>\n",
       "      <td>2022-05-13</td>\n",
       "      <td>0</td>\n",
       "      <td>2022-05-14</td>\n",
       "      <td>0</td>\n",
       "      <td>2022-05-15</td>\n",
       "      <td>0</td>\n",
       "      <td>2022-05-16</td>\n",
       "      <td>0</td>\n",
       "    </tr>\n",
       "    <tr>\n",
       "      <th>62</th>\n",
       "      <td>62</td>\n",
       "      <td>2022-03-11</td>\n",
       "      <td>3480</td>\n",
       "      <td>2</td>\n",
       "      <td>potomac early white</td>\n",
       "      <td>2.00</td>\n",
       "      <td>3027.60</td>\n",
       "      <td>True</td>\n",
       "      <td>True</td>\n",
       "      <td>49.883884</td>\n",
       "      <td>...</td>\n",
       "      <td>2022-05-12</td>\n",
       "      <td>0</td>\n",
       "      <td>2022-05-13</td>\n",
       "      <td>0</td>\n",
       "      <td>2022-05-14</td>\n",
       "      <td>0</td>\n",
       "      <td>2022-05-15</td>\n",
       "      <td>0</td>\n",
       "      <td>2022-05-16</td>\n",
       "      <td>0</td>\n",
       "    </tr>\n",
       "  </tbody>\n",
       "</table>\n",
       "<p>63 rows × 59 columns</p>\n",
       "</div>"
      ],
      "text/plain": [
       "    id planted_on  stems  block              variety  bell_sd  expected_yield  \\\n",
       "0    0 2021-02-15   3480      1              chelsea     1.25         2644.80   \n",
       "1    1 2021-02-15   3480      1              chelsea     1.25         2644.80   \n",
       "2    2 2021-02-15   3480      1              chelsea     1.25         2644.80   \n",
       "3    3 2021-02-17   3480      1              chelsea     1.25         2644.80   \n",
       "4    4 2021-02-17   3480      1              chelsea     1.25         2644.80   \n",
       "..  ..        ...    ...    ...                  ...      ...             ...   \n",
       "58  58 2022-03-09   6576      2  potomac early white     2.00         5721.12   \n",
       "59  59 2022-03-09   3480      2  potomac early white     2.00         3027.60   \n",
       "60  60 2022-03-10   3480      2  potomac early white     2.00         3027.60   \n",
       "61  61 2022-03-11   3480      2  potomac early white     2.00         3027.60   \n",
       "62  62 2022-03-11   3480      2  potomac early white     2.00         3027.60   \n",
       "\n",
       "    enough_weather_data  valid_combo         mu  ...  fecha_dia_19  \\\n",
       "0                  True         True  75.755160  ...    2021-05-16   \n",
       "1                  True         True  75.755160  ...    2021-05-16   \n",
       "2                  True         True  75.755160  ...    2021-05-16   \n",
       "3                  True         True  75.407670  ...    2021-05-18   \n",
       "4                  True         True  75.407670  ...    2021-05-18   \n",
       "..                  ...          ...        ...  ...           ...   \n",
       "58                 True         True  52.098988  ...    2022-05-12   \n",
       "59                 True         True  49.950314  ...    2022-05-10   \n",
       "60                 True         True  49.757900  ...    2022-05-11   \n",
       "61                 True         True  49.883884  ...    2022-05-12   \n",
       "62                 True         True  49.883884  ...    2022-05-12   \n",
       "\n",
       "    tallos_dia_19  fecha_dia_20 tallos_dia_20  fecha_dia_21 tallos_dia_21  \\\n",
       "0               0    2021-05-17             0    2021-05-18             0   \n",
       "1               0    2021-05-17             0    2021-05-18             0   \n",
       "2               0    2021-05-17             0    2021-05-18             0   \n",
       "3               0    2021-05-19             0    2021-05-20             0   \n",
       "4               0    2021-05-19             0    2021-05-20             0   \n",
       "..            ...           ...           ...           ...           ...   \n",
       "58              0    2022-05-13             0    2022-05-14             0   \n",
       "59              0    2022-05-11             0    2022-05-12             0   \n",
       "60              0    2022-05-12             0    2022-05-13             0   \n",
       "61              0    2022-05-13             0    2022-05-14             0   \n",
       "62              0    2022-05-13             0    2022-05-14             0   \n",
       "\n",
       "    fecha_dia_22 tallos_dia_22  fecha_dia_23 tallos_dia_23  \n",
       "0     2021-05-19             0    2021-05-20             0  \n",
       "1     2021-05-19             0    2021-05-20             0  \n",
       "2     2021-05-19             0    2021-05-20             0  \n",
       "3     2021-05-21             0    2021-05-22             0  \n",
       "4     2021-05-21             0    2021-05-22             0  \n",
       "..           ...           ...           ...           ...  \n",
       "58    2022-05-15             0    2022-05-16             0  \n",
       "59    2022-05-13             0    2022-05-14             0  \n",
       "60    2022-05-14             0    2022-05-15             0  \n",
       "61    2022-05-15             0    2022-05-16             0  \n",
       "62    2022-05-15             0    2022-05-16             0  \n",
       "\n",
       "[63 rows x 59 columns]"
      ]
     },
     "execution_count": 361,
     "metadata": {},
     "output_type": "execute_result"
    }
   ],
   "source": [
    "short[short[\"block\"].isin([1,2])]"
   ]
  }
 ],
 "metadata": {
  "kernelspec": {
   "display_name": "dash_tutorial",
   "language": "python",
   "name": "python3"
  },
  "language_info": {
   "codemirror_mode": {
    "name": "ipython",
    "version": 3
   },
   "file_extension": ".py",
   "mimetype": "text/x-python",
   "name": "python",
   "nbconvert_exporter": "python",
   "pygments_lexer": "ipython3",
   "version": "3.10.8 (main, Nov 24 2022, 08:08:27) [Clang 14.0.6 ]"
  },
  "orig_nbformat": 4,
  "vscode": {
   "interpreter": {
    "hash": "31fb68429e91cc16ee00ba7a208e84b76758121316b8f5a99b7f17a1b208923b"
   }
  }
 },
 "nbformat": 4,
 "nbformat_minor": 2
}
