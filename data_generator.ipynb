{
 "cells": [
  {
   "attachments": {},
   "cell_type": "markdown",
   "metadata": {},
   "source": [
    "## Generates dummy data"
   ]
  },
  {
   "cell_type": "code",
   "execution_count": 1,
   "metadata": {},
   "outputs": [],
   "source": [
    "\"\"\"File to generate sample data for testing.\"\"\"\n",
    "from datetime import date, timedelta, datetime\n",
    "import random\n",
    "import math\n",
    "import pandas as pd\n",
    "import numpy as np\n",
    "import plotly.graph_objects as go"
   ]
  },
  {
   "cell_type": "code",
   "execution_count": 11,
   "metadata": {},
   "outputs": [],
   "source": [
    "from sample_data import type_list,value_sign,day,adequacy_list,choices,last_week_date, last_month_date,results_list, genotype_list"
   ]
  },
  {
   "cell_type": "code",
   "execution_count": 4,
   "metadata": {},
   "outputs": [],
   "source": [
    "def week_day(n:int):\n",
    "    days_of_the_week=[\"Monday\",\"Tuesday\",\"Wednesday\",\"Thursday\",\"Friday\",\"Saturday\",\"Sunday\"]\n",
    "    return days_of_the_week[n%7]"
   ]
  },
  {
   "attachments": {},
   "cell_type": "markdown",
   "metadata": {},
   "source": [
    "## Generates the numer of tests processed in a given date"
   ]
  },
  {
   "cell_type": "code",
   "execution_count": 5,
   "metadata": {},
   "outputs": [],
   "source": [
    "### this function defines how busy each day of the week is\n",
    "def busy_days(n:int):\n",
    "    ans=70\n",
    "    if n==6:\n",
    "        ans=0\n",
    "    return ans\n",
    "    \n",
    "    \n",
    "    "
   ]
  },
  {
   "cell_type": "code",
   "execution_count": 6,
   "metadata": {},
   "outputs": [],
   "source": [
    "### this function defines how busy each month is\n",
    "def busy_months(n:int):\n",
    "    ans=1\n",
    "    if n ==12:\n",
    "        ans= 0.8\n",
    "    if n in [1,2,6,7]:\n",
    "        ans=1.2\n",
    "    return ans    \n",
    "    \n",
    "    "
   ]
  },
  {
   "cell_type": "code",
   "execution_count": 7,
   "metadata": {},
   "outputs": [],
   "source": [
    "def number_of_tests(fecha): ### This takes a date and returns how many tests occur\n",
    "    ans=int (busy_days(fecha.weekday())*busy_months(fecha.month)*np.random.uniform(0.95,1.05))\n",
    "    return ans\n"
   ]
  },
  {
   "attachments": {},
   "cell_type": "markdown",
   "metadata": {},
   "source": [
    "## Generate a new row given a data"
   ]
  },
  {
   "cell_type": "code",
   "execution_count": 8,
   "metadata": {},
   "outputs": [],
   "source": [
    "def make_row(fecha):############ This takesa a date and returns an entry in the Records_df\n",
    "    type_of_test=random.choices(type_list,weights=[3,4])[0]\n",
    "    adequacy=random.choices(adequacy_list,weights=[5,2,1])[0]\n",
    "    result=random.choices(results_list,weights=[4,1,1,1,1])[0]\n",
    "    gen_type=random.choice(genotype_list)\n",
    "    cytology=random.choices(value_sign,weights=[4,1])[0]+\"cytology\"\n",
    "    hystology=\"Not prescribed\"\n",
    "    if cytology==\"Positivecytology\":\n",
    "        hystology=random.choices(value_sign,weights=[92,8])[0]+\"hystology\"\n",
    "    \n",
    "    new_row = pd.DataFrame([{'day':fecha.date(), 'type':type_of_test,'adequacy':adequacy, 'result':result,'genotype':gen_type,'cytology':cytology,'hystology':hystology}])\n",
    "    return new_row"
   ]
  },
  {
   "attachments": {},
   "cell_type": "markdown",
   "metadata": {},
   "source": [
    "## Choose the date range "
   ]
  },
  {
   "cell_type": "code",
   "execution_count": 14,
   "metadata": {},
   "outputs": [],
   "source": [
    "starting_date = date.today() - timedelta(days = 366)\n",
    "ending_date=date.today() +timedelta(days = 20)"
   ]
  },
  {
   "attachments": {},
   "cell_type": "markdown",
   "metadata": {},
   "source": [
    "## Generate test_df"
   ]
  },
  {
   "cell_type": "code",
   "execution_count": 15,
   "metadata": {},
   "outputs": [],
   "source": [
    "def generate_test_df():\n",
    "    columns=['day', 'type', 'adequacy', 'result', 'genotype', 'cytology', 'hystology']\n",
    "    test_df = pd.DataFrame(columns=columns)\n",
    "    daterange = pd.date_range(starting_date, ending_date, freq='D')\n",
    "    for item in daterange:\n",
    "        N_of_test=number_of_tests(item)\n",
    "        for patient in range(N_of_test):\n",
    "            new_row=make_row(item)\n",
    "            test_df = pd.concat([test_df, new_row], axis=0, ignore_index=True)\n",
    "    return test_df"
   ]
  },
  {
   "cell_type": "code",
   "execution_count": 16,
   "metadata": {},
   "outputs": [],
   "source": [
    "Records_df=generate_test_df()"
   ]
  },
  {
   "attachments": {},
   "cell_type": "markdown",
   "metadata": {},
   "source": [
    "### GENERATE FREQUENCY DATA FRAME"
   ]
  },
  {
   "cell_type": "code",
   "execution_count": 19,
   "metadata": {},
   "outputs": [],
   "source": [
    "def new_row_frequency(df,fecha):\n",
    "    columnas= list(Records_df.columns)[1:]\n",
    "    new_row_in={\"day\":fecha}\n",
    "    df_fecha=df[df[\"day\"]==fecha]\n",
    "    new_row_in[\"All\"]=df_fecha.shape[0]\n",
    "    for columna in columnas:\n",
    "        column_values=list(df_fecha[columna].unique())\n",
    "        for tipo in column_values:\n",
    "            temp_df=df_fecha[df_fecha[columna]==tipo]\n",
    "            new_row_in[tipo]=temp_df.shape[0]\n",
    "    types=list(df_fecha[\"type\"].unique())\n",
    "    adequacies=list(df_fecha[\"adequacy\"].unique())\n",
    "    cytologies=list(df_fecha[\"cytology\"].unique())\n",
    "    hystologies=list(df_fecha[\"hystology\"].unique())\n",
    "    for tipo in types:\n",
    "        for ad in adequacies:\n",
    "            temp_df=df_fecha[(df_fecha[\"type\"]==tipo) & (df_fecha[\"adequacy\"]==ad)]\n",
    "            new_row_in[tipo+ad]=temp_df.shape[0]\n",
    "        for cyt in cytologies:\n",
    "            temp_df=df_fecha[(df_fecha[\"type\"]==tipo) & (df_fecha[\"cytology\"]==cyt)]\n",
    "            new_row_in[tipo+cyt]=temp_df.shape[0]\n",
    "        for hyst in hystologies:\n",
    "            temp_df=df_fecha[(df_fecha[\"type\"]==tipo) & (df_fecha[\"hystology\"]==hyst)]\n",
    "            new_row_in[tipo+hyst]=temp_df.shape[0]\n",
    "\n",
    "\n",
    "        # new_row_in[\"weekday\"]=week_day(fecha.weekday())\n",
    "    \n",
    "    return pd.DataFrame([new_row_in])"
   ]
  },
  {
   "cell_type": "code",
   "execution_count": 20,
   "metadata": {},
   "outputs": [],
   "source": [
    "def make_frequency_df(df):\n",
    "    fechas=df[\"day\"].unique()\n",
    "    freq_df=pd.DataFrame()\n",
    "    for fecha in fechas:\n",
    "        freq_df=pd.concat([freq_df,new_row_frequency(df,fecha)],axis=0, ignore_index=True)\n",
    "    \n",
    "    return freq_df"
   ]
  },
  {
   "cell_type": "code",
   "execution_count": 21,
   "metadata": {},
   "outputs": [],
   "source": [
    "Frequency_df=make_frequency_df(Records_df)"
   ]
  },
  {
   "cell_type": "code",
   "execution_count": 22,
   "metadata": {},
   "outputs": [
    {
     "data": {
      "text/html": [
       "<div>\n",
       "<style scoped>\n",
       "    .dataframe tbody tr th:only-of-type {\n",
       "        vertical-align: middle;\n",
       "    }\n",
       "\n",
       "    .dataframe tbody tr th {\n",
       "        vertical-align: top;\n",
       "    }\n",
       "\n",
       "    .dataframe thead th {\n",
       "        text-align: right;\n",
       "    }\n",
       "</style>\n",
       "<table border=\"1\" class=\"dataframe\">\n",
       "  <thead>\n",
       "    <tr style=\"text-align: right;\">\n",
       "      <th></th>\n",
       "      <th>day</th>\n",
       "      <th>All</th>\n",
       "      <th>Conventional</th>\n",
       "      <th>Liquid based</th>\n",
       "      <th>Sat</th>\n",
       "      <th>Insat_NP</th>\n",
       "      <th>Insat_P</th>\n",
       "      <th>Negative</th>\n",
       "      <th>ASC-US</th>\n",
       "      <th>SCC</th>\n",
       "      <th>...</th>\n",
       "      <th>ConventionalNot prescribed</th>\n",
       "      <th>ConventionalNegativehystology</th>\n",
       "      <th>Liquid basedSat</th>\n",
       "      <th>Liquid basedInsat_NP</th>\n",
       "      <th>Liquid basedInsat_P</th>\n",
       "      <th>Liquid basedPositivecytology</th>\n",
       "      <th>Liquid basedNegativecytology</th>\n",
       "      <th>Liquid basedPositivehystology</th>\n",
       "      <th>Liquid basedNot prescribed</th>\n",
       "      <th>Liquid basedNegativehystology</th>\n",
       "    </tr>\n",
       "  </thead>\n",
       "  <tbody>\n",
       "    <tr>\n",
       "      <th>0</th>\n",
       "      <td>2021-12-22</td>\n",
       "      <td>56</td>\n",
       "      <td>31</td>\n",
       "      <td>25</td>\n",
       "      <td>40</td>\n",
       "      <td>5</td>\n",
       "      <td>11</td>\n",
       "      <td>29</td>\n",
       "      <td>6</td>\n",
       "      <td>7</td>\n",
       "      <td>...</td>\n",
       "      <td>8</td>\n",
       "      <td>0.0</td>\n",
       "      <td>17</td>\n",
       "      <td>4</td>\n",
       "      <td>4</td>\n",
       "      <td>22</td>\n",
       "      <td>3</td>\n",
       "      <td>21</td>\n",
       "      <td>3</td>\n",
       "      <td>1.0</td>\n",
       "    </tr>\n",
       "    <tr>\n",
       "      <th>1</th>\n",
       "      <td>2021-12-23</td>\n",
       "      <td>56</td>\n",
       "      <td>30</td>\n",
       "      <td>26</td>\n",
       "      <td>35</td>\n",
       "      <td>7</td>\n",
       "      <td>14</td>\n",
       "      <td>27</td>\n",
       "      <td>6</td>\n",
       "      <td>4</td>\n",
       "      <td>...</td>\n",
       "      <td>6</td>\n",
       "      <td>1.0</td>\n",
       "      <td>17</td>\n",
       "      <td>3</td>\n",
       "      <td>6</td>\n",
       "      <td>18</td>\n",
       "      <td>8</td>\n",
       "      <td>17</td>\n",
       "      <td>8</td>\n",
       "      <td>1.0</td>\n",
       "    </tr>\n",
       "    <tr>\n",
       "      <th>2</th>\n",
       "      <td>2021-12-24</td>\n",
       "      <td>57</td>\n",
       "      <td>31</td>\n",
       "      <td>26</td>\n",
       "      <td>38</td>\n",
       "      <td>9</td>\n",
       "      <td>10</td>\n",
       "      <td>23</td>\n",
       "      <td>14</td>\n",
       "      <td>6</td>\n",
       "      <td>...</td>\n",
       "      <td>7</td>\n",
       "      <td>2.0</td>\n",
       "      <td>17</td>\n",
       "      <td>3</td>\n",
       "      <td>6</td>\n",
       "      <td>21</td>\n",
       "      <td>5</td>\n",
       "      <td>19</td>\n",
       "      <td>5</td>\n",
       "      <td>2.0</td>\n",
       "    </tr>\n",
       "    <tr>\n",
       "      <th>3</th>\n",
       "      <td>2021-12-25</td>\n",
       "      <td>55</td>\n",
       "      <td>26</td>\n",
       "      <td>29</td>\n",
       "      <td>35</td>\n",
       "      <td>9</td>\n",
       "      <td>11</td>\n",
       "      <td>30</td>\n",
       "      <td>3</td>\n",
       "      <td>2</td>\n",
       "      <td>...</td>\n",
       "      <td>6</td>\n",
       "      <td>2.0</td>\n",
       "      <td>16</td>\n",
       "      <td>6</td>\n",
       "      <td>7</td>\n",
       "      <td>21</td>\n",
       "      <td>8</td>\n",
       "      <td>20</td>\n",
       "      <td>8</td>\n",
       "      <td>1.0</td>\n",
       "    </tr>\n",
       "    <tr>\n",
       "      <th>4</th>\n",
       "      <td>2021-12-27</td>\n",
       "      <td>57</td>\n",
       "      <td>37</td>\n",
       "      <td>20</td>\n",
       "      <td>34</td>\n",
       "      <td>5</td>\n",
       "      <td>18</td>\n",
       "      <td>27</td>\n",
       "      <td>15</td>\n",
       "      <td>4</td>\n",
       "      <td>...</td>\n",
       "      <td>6</td>\n",
       "      <td>2.0</td>\n",
       "      <td>11</td>\n",
       "      <td>1</td>\n",
       "      <td>8</td>\n",
       "      <td>16</td>\n",
       "      <td>4</td>\n",
       "      <td>14</td>\n",
       "      <td>4</td>\n",
       "      <td>2.0</td>\n",
       "    </tr>\n",
       "  </tbody>\n",
       "</table>\n",
       "<p>5 rows × 37 columns</p>\n",
       "</div>"
      ],
      "text/plain": [
       "          day  All  Conventional  Liquid based  Sat  Insat_NP  Insat_P  \\\n",
       "0  2021-12-22   56            31            25   40         5       11   \n",
       "1  2021-12-23   56            30            26   35         7       14   \n",
       "2  2021-12-24   57            31            26   38         9       10   \n",
       "3  2021-12-25   55            26            29   35         9       11   \n",
       "4  2021-12-27   57            37            20   34         5       18   \n",
       "\n",
       "   Negative  ASC-US  SCC  ...  ConventionalNot prescribed  \\\n",
       "0        29       6    7  ...                           8   \n",
       "1        27       6    4  ...                           6   \n",
       "2        23      14    6  ...                           7   \n",
       "3        30       3    2  ...                           6   \n",
       "4        27      15    4  ...                           6   \n",
       "\n",
       "   ConventionalNegativehystology  Liquid basedSat  Liquid basedInsat_NP  \\\n",
       "0                            0.0               17                     4   \n",
       "1                            1.0               17                     3   \n",
       "2                            2.0               17                     3   \n",
       "3                            2.0               16                     6   \n",
       "4                            2.0               11                     1   \n",
       "\n",
       "   Liquid basedInsat_P  Liquid basedPositivecytology  \\\n",
       "0                    4                            22   \n",
       "1                    6                            18   \n",
       "2                    6                            21   \n",
       "3                    7                            21   \n",
       "4                    8                            16   \n",
       "\n",
       "   Liquid basedNegativecytology  Liquid basedPositivehystology  \\\n",
       "0                             3                             21   \n",
       "1                             8                             17   \n",
       "2                             5                             19   \n",
       "3                             8                             20   \n",
       "4                             4                             14   \n",
       "\n",
       "   Liquid basedNot prescribed  Liquid basedNegativehystology  \n",
       "0                           3                            1.0  \n",
       "1                           8                            1.0  \n",
       "2                           5                            2.0  \n",
       "3                           8                            1.0  \n",
       "4                           4                            2.0  \n",
       "\n",
       "[5 rows x 37 columns]"
      ]
     },
     "execution_count": 22,
     "metadata": {},
     "output_type": "execute_result"
    }
   ],
   "source": [
    "Frequency_df.head()"
   ]
  },
  {
   "cell_type": "code",
   "execution_count": 23,
   "metadata": {},
   "outputs": [],
   "source": [
    "Frequency_df.to_csv('Frequency.csv')"
   ]
  }
 ],
 "metadata": {
  "kernelspec": {
   "display_name": "dash_tutorial",
   "language": "python",
   "name": "python3"
  },
  "language_info": {
   "codemirror_mode": {
    "name": "ipython",
    "version": 3
   },
   "file_extension": ".py",
   "mimetype": "text/x-python",
   "name": "python",
   "nbconvert_exporter": "python",
   "pygments_lexer": "ipython3",
   "version": "3.10.8"
  },
  "orig_nbformat": 4,
  "vscode": {
   "interpreter": {
    "hash": "31fb68429e91cc16ee00ba7a208e84b76758121316b8f5a99b7f17a1b208923b"
   }
  }
 },
 "nbformat": 4,
 "nbformat_minor": 2
}
