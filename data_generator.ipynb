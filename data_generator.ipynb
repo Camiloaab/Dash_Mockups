{
 "cells": [
  {
   "attachments": {},
   "cell_type": "markdown",
   "metadata": {},
   "source": [
    "## Generates dummy data"
   ]
  },
  {
   "cell_type": "code",
   "execution_count": 1,
   "metadata": {},
   "outputs": [],
   "source": [
    "\"\"\"File to generate sample data for testing.\"\"\"\n",
    "from datetime import date, timedelta, datetime\n",
    "import random\n",
    "import math\n",
    "import pandas as pd\n",
    "import numpy as np\n",
    "import plotly.graph_objects as go"
   ]
  },
  {
   "cell_type": "code",
   "execution_count": 2,
   "metadata": {},
   "outputs": [],
   "source": [
    "from sample_data import value_sign,day,adequacy_list,choices,last_week_date, last_month_date,test_type, results_list, genotype_list"
   ]
  },
  {
   "cell_type": "code",
   "execution_count": 3,
   "metadata": {},
   "outputs": [],
   "source": [
    "def week_day(n):\n",
    "    days_of_the_week=[\"Monday\",\"Tuesday\",\"Wednesday\",\"Thursday\",\"Friday\",\"Saturday\",\"Sunday\"]\n",
    "    return days_of_the_week[n%7]"
   ]
  },
  {
   "attachments": {},
   "cell_type": "markdown",
   "metadata": {},
   "source": [
    "## Generates the numer of tests processed in a given date"
   ]
  },
  {
   "cell_type": "code",
   "execution_count": 4,
   "metadata": {},
   "outputs": [],
   "source": [
    "### this function defines how busy each day of the week is\n",
    "def busy_days(n):\n",
    "    ans=70\n",
    "    if n==6:\n",
    "        ans=0\n",
    "    return ans\n",
    "    \n",
    "    \n",
    "    "
   ]
  },
  {
   "cell_type": "code",
   "execution_count": 20,
   "metadata": {},
   "outputs": [],
   "source": [
    "### this function defines how busy each month is\n",
    "def busy_months(n):\n",
    "    ans=1\n",
    "    if n ==12:\n",
    "        ans= 0.8\n",
    "    if n in [1,2,6,7]:\n",
    "        ans=1.2\n",
    "    return ans    \n",
    "    \n",
    "    "
   ]
  },
  {
   "cell_type": "code",
   "execution_count": 21,
   "metadata": {},
   "outputs": [],
   "source": [
    "def number_of_tests(fecha):\n",
    "    ans=int (busy_days(fecha.weekday())*busy_months(fecha.month)*np.random.uniform(0.95,1.05))\n",
    "    return ans\n"
   ]
  },
  {
   "attachments": {},
   "cell_type": "markdown",
   "metadata": {},
   "source": [
    "## Generate a new row given a data"
   ]
  },
  {
   "cell_type": "code",
   "execution_count": 22,
   "metadata": {},
   "outputs": [],
   "source": [
    "def make_row(fecha):\n",
    "    type_of_test=random.choices(test_type[1:],weights=[3,4])[0]\n",
    "    adequacy=random.choices(adequacy_list,weights=[5,2,1])[0]\n",
    "    result=random.choices(results_list[1:],weights=[4,1,1,1,1])[0]\n",
    "    gen_type=random.choice(genotype_list)\n",
    "    cytology=random.choices(value_sign,weights=[4,6])[0]\n",
    "    hystology=\"Not prescribed\"\n",
    "    if cytology==\"Positive\":\n",
    "        hystology=random.choice(value_sign)\n",
    "    \n",
    "    new_row = pd.DataFrame([{'day':fecha.date(), 'type':type_of_test,'adequacy':adequacy, 'result':result,'mvp':gen_type,'cytology':cytology,'hystology':hystology,\"test_quality\":\"True negative\"}])\n",
    "    return new_row"
   ]
  },
  {
   "attachments": {},
   "cell_type": "markdown",
   "metadata": {},
   "source": [
    "## Choose the date range "
   ]
  },
  {
   "cell_type": "code",
   "execution_count": 23,
   "metadata": {},
   "outputs": [],
   "source": [
    "starting_date = date.today() - timedelta(days = 750)\n",
    "ending_date=date.today() +timedelta(days = 50)"
   ]
  },
  {
   "cell_type": "code",
   "execution_count": 24,
   "metadata": {},
   "outputs": [],
   "source": [
    "daterange = pd.date_range(starting_date, ending_date, freq='D')"
   ]
  },
  {
   "attachments": {},
   "cell_type": "markdown",
   "metadata": {},
   "source": [
    "## Generate test_df"
   ]
  },
  {
   "cell_type": "code",
   "execution_count": 25,
   "metadata": {},
   "outputs": [],
   "source": [
    "def generate_test_df():\n",
    "    columns=['day', 'type', 'adequacy', 'result', 'mvp', 'cytology', 'hystology','test_quality']\n",
    "    test_df = pd.DataFrame(columns=columns)\n",
    "    daterange = pd.date_range(starting_date, ending_date, freq='D')\n",
    "    for item in daterange:\n",
    "        N_of_test=number_of_tests(item)\n",
    "        for patient in range(N_of_test):\n",
    "            new_row=make_row(item)\n",
    "            test_df = pd.concat([test_df, new_row], axis=0, ignore_index=True)\n",
    "    return test_df"
   ]
  },
  {
   "cell_type": "code",
   "execution_count": null,
   "metadata": {},
   "outputs": [],
   "source": []
  },
  {
   "cell_type": "code",
   "execution_count": 26,
   "metadata": {},
   "outputs": [],
   "source": [
    "test_df=generate_test_df()"
   ]
  },
  {
   "cell_type": "code",
   "execution_count": 168,
   "metadata": {},
   "outputs": [
    {
     "data": {
      "text/plain": [
       "1"
      ]
     },
     "execution_count": 168,
     "metadata": {},
     "output_type": "execute_result"
    }
   ],
   "source": [
    "date.today().weekday()"
   ]
  },
  {
   "cell_type": "code",
   "execution_count": 170,
   "metadata": {},
   "outputs": [
    {
     "data": {
      "text/plain": [
       "0"
      ]
     },
     "execution_count": 170,
     "metadata": {},
     "output_type": "execute_result"
    }
   ],
   "source": [
    "test_df[\"day\"][0].weekday()"
   ]
  },
  {
   "cell_type": "markdown",
   "metadata": {},
   "source": [
    "## Generate the initial df\n"
   ]
  },
  {
   "cell_type": "code",
   "execution_count": 27,
   "metadata": {},
   "outputs": [],
   "source": [
    "def new_row_initial(fecha,df):\n",
    "    new_row_in={\"day\":fecha}\n",
    "    test_df_fecha=df[test_df[\"day\"]==fecha]\n",
    "    new_row_in[\"All test types\"]=test_df_fecha.shape[0]\n",
    "    for tipo in test_type[1:]:\n",
    "        test_df_fecha_tipo=test_df_fecha[test_df_fecha[\"type\"]==tipo]\n",
    "        new_row_in[tipo]=test_df_fecha[test_df_fecha[\"type\"]==tipo].shape[0]\n",
    "    new_row_in[\"weekday\"]=week_day(fecha.weekday())\n",
    "    return pd.DataFrame([new_row_in])\n",
    "\n",
    "\n",
    "\n"
   ]
  },
  {
   "cell_type": "code",
   "execution_count": 28,
   "metadata": {},
   "outputs": [
    {
     "data": {
      "text/html": [
       "<div>\n",
       "<style scoped>\n",
       "    .dataframe tbody tr th:only-of-type {\n",
       "        vertical-align: middle;\n",
       "    }\n",
       "\n",
       "    .dataframe tbody tr th {\n",
       "        vertical-align: top;\n",
       "    }\n",
       "\n",
       "    .dataframe thead th {\n",
       "        text-align: right;\n",
       "    }\n",
       "</style>\n",
       "<table border=\"1\" class=\"dataframe\">\n",
       "  <thead>\n",
       "    <tr style=\"text-align: right;\">\n",
       "      <th></th>\n",
       "      <th>day</th>\n",
       "      <th>All test types</th>\n",
       "      <th>Liquid based</th>\n",
       "      <th>Conventional</th>\n",
       "      <th>weekday</th>\n",
       "    </tr>\n",
       "  </thead>\n",
       "  <tbody>\n",
       "    <tr>\n",
       "      <th>0</th>\n",
       "      <td>2022-12-25</td>\n",
       "      <td>0</td>\n",
       "      <td>0</td>\n",
       "      <td>0</td>\n",
       "      <td>Sunday</td>\n",
       "    </tr>\n",
       "  </tbody>\n",
       "</table>\n",
       "</div>"
      ],
      "text/plain": [
       "          day  All test types  Liquid based  Conventional weekday\n",
       "0  2022-12-25               0             0             0  Sunday"
      ]
     },
     "execution_count": 28,
     "metadata": {},
     "output_type": "execute_result"
    }
   ],
   "source": [
    "new_row_initial(date(2022,12,25),test_df)"
   ]
  },
  {
   "cell_type": "code",
   "execution_count": 29,
   "metadata": {},
   "outputs": [],
   "source": [
    "def make_initial_df(df):\n",
    "    fechas=df[\"day\"].unique()\n",
    "    initial_columns=[\"day\",\"All test types\"]+test_type[1:]+[\"weekday\"]\n",
    "    initial_df=pd.DataFrame(columns=initial_columns)\n",
    "    for fecha in fechas:\n",
    "        initial_df=pd.concat([initial_df,new_row_initial(fecha,df)],axis=0, ignore_index=True)\n",
    "    \n",
    "    return initial_df"
   ]
  },
  {
   "cell_type": "code",
   "execution_count": 30,
   "metadata": {},
   "outputs": [
    {
     "data": {
      "text/plain": [
       "(0,)"
      ]
     },
     "execution_count": 30,
     "metadata": {},
     "output_type": "execute_result"
    }
   ],
   "source": [
    "test_df[\"day\"][test_df[\"day\"]==date(2022,12,25)].shape"
   ]
  },
  {
   "cell_type": "code",
   "execution_count": 31,
   "metadata": {},
   "outputs": [],
   "source": [
    "initial_df=make_initial_df(test_df)"
   ]
  },
  {
   "cell_type": "code",
   "execution_count": 32,
   "metadata": {},
   "outputs": [
    {
     "data": {
      "text/html": [
       "<div>\n",
       "<style scoped>\n",
       "    .dataframe tbody tr th:only-of-type {\n",
       "        vertical-align: middle;\n",
       "    }\n",
       "\n",
       "    .dataframe tbody tr th {\n",
       "        vertical-align: top;\n",
       "    }\n",
       "\n",
       "    .dataframe thead th {\n",
       "        text-align: right;\n",
       "    }\n",
       "</style>\n",
       "<table border=\"1\" class=\"dataframe\">\n",
       "  <thead>\n",
       "    <tr style=\"text-align: right;\">\n",
       "      <th></th>\n",
       "      <th>day</th>\n",
       "      <th>All test types</th>\n",
       "      <th>Liquid based</th>\n",
       "      <th>Conventional</th>\n",
       "      <th>weekday</th>\n",
       "    </tr>\n",
       "  </thead>\n",
       "  <tbody>\n",
       "    <tr>\n",
       "      <th>0</th>\n",
       "      <td>2020-11-30</td>\n",
       "      <td>70</td>\n",
       "      <td>35</td>\n",
       "      <td>35</td>\n",
       "      <td>Monday</td>\n",
       "    </tr>\n",
       "    <tr>\n",
       "      <th>1</th>\n",
       "      <td>2020-12-01</td>\n",
       "      <td>57</td>\n",
       "      <td>27</td>\n",
       "      <td>30</td>\n",
       "      <td>Tuesday</td>\n",
       "    </tr>\n",
       "    <tr>\n",
       "      <th>2</th>\n",
       "      <td>2020-12-02</td>\n",
       "      <td>56</td>\n",
       "      <td>28</td>\n",
       "      <td>28</td>\n",
       "      <td>Wednesday</td>\n",
       "    </tr>\n",
       "    <tr>\n",
       "      <th>3</th>\n",
       "      <td>2020-12-03</td>\n",
       "      <td>53</td>\n",
       "      <td>23</td>\n",
       "      <td>30</td>\n",
       "      <td>Thursday</td>\n",
       "    </tr>\n",
       "    <tr>\n",
       "      <th>4</th>\n",
       "      <td>2020-12-04</td>\n",
       "      <td>53</td>\n",
       "      <td>15</td>\n",
       "      <td>38</td>\n",
       "      <td>Friday</td>\n",
       "    </tr>\n",
       "    <tr>\n",
       "      <th>5</th>\n",
       "      <td>2020-12-05</td>\n",
       "      <td>57</td>\n",
       "      <td>24</td>\n",
       "      <td>33</td>\n",
       "      <td>Saturday</td>\n",
       "    </tr>\n",
       "    <tr>\n",
       "      <th>6</th>\n",
       "      <td>2020-12-07</td>\n",
       "      <td>56</td>\n",
       "      <td>30</td>\n",
       "      <td>26</td>\n",
       "      <td>Monday</td>\n",
       "    </tr>\n",
       "    <tr>\n",
       "      <th>7</th>\n",
       "      <td>2020-12-08</td>\n",
       "      <td>57</td>\n",
       "      <td>24</td>\n",
       "      <td>33</td>\n",
       "      <td>Tuesday</td>\n",
       "    </tr>\n",
       "    <tr>\n",
       "      <th>8</th>\n",
       "      <td>2020-12-09</td>\n",
       "      <td>56</td>\n",
       "      <td>30</td>\n",
       "      <td>26</td>\n",
       "      <td>Wednesday</td>\n",
       "    </tr>\n",
       "    <tr>\n",
       "      <th>9</th>\n",
       "      <td>2020-12-10</td>\n",
       "      <td>56</td>\n",
       "      <td>29</td>\n",
       "      <td>27</td>\n",
       "      <td>Thursday</td>\n",
       "    </tr>\n",
       "    <tr>\n",
       "      <th>10</th>\n",
       "      <td>2020-12-11</td>\n",
       "      <td>54</td>\n",
       "      <td>24</td>\n",
       "      <td>30</td>\n",
       "      <td>Friday</td>\n",
       "    </tr>\n",
       "    <tr>\n",
       "      <th>11</th>\n",
       "      <td>2020-12-12</td>\n",
       "      <td>54</td>\n",
       "      <td>17</td>\n",
       "      <td>37</td>\n",
       "      <td>Saturday</td>\n",
       "    </tr>\n",
       "    <tr>\n",
       "      <th>12</th>\n",
       "      <td>2020-12-14</td>\n",
       "      <td>57</td>\n",
       "      <td>32</td>\n",
       "      <td>25</td>\n",
       "      <td>Monday</td>\n",
       "    </tr>\n",
       "    <tr>\n",
       "      <th>13</th>\n",
       "      <td>2020-12-15</td>\n",
       "      <td>56</td>\n",
       "      <td>22</td>\n",
       "      <td>34</td>\n",
       "      <td>Tuesday</td>\n",
       "    </tr>\n",
       "    <tr>\n",
       "      <th>14</th>\n",
       "      <td>2020-12-16</td>\n",
       "      <td>53</td>\n",
       "      <td>21</td>\n",
       "      <td>32</td>\n",
       "      <td>Wednesday</td>\n",
       "    </tr>\n",
       "    <tr>\n",
       "      <th>15</th>\n",
       "      <td>2020-12-17</td>\n",
       "      <td>57</td>\n",
       "      <td>24</td>\n",
       "      <td>33</td>\n",
       "      <td>Thursday</td>\n",
       "    </tr>\n",
       "    <tr>\n",
       "      <th>16</th>\n",
       "      <td>2020-12-18</td>\n",
       "      <td>57</td>\n",
       "      <td>23</td>\n",
       "      <td>34</td>\n",
       "      <td>Friday</td>\n",
       "    </tr>\n",
       "    <tr>\n",
       "      <th>17</th>\n",
       "      <td>2020-12-19</td>\n",
       "      <td>56</td>\n",
       "      <td>12</td>\n",
       "      <td>44</td>\n",
       "      <td>Saturday</td>\n",
       "    </tr>\n",
       "    <tr>\n",
       "      <th>18</th>\n",
       "      <td>2020-12-21</td>\n",
       "      <td>55</td>\n",
       "      <td>24</td>\n",
       "      <td>31</td>\n",
       "      <td>Monday</td>\n",
       "    </tr>\n",
       "    <tr>\n",
       "      <th>19</th>\n",
       "      <td>2020-12-22</td>\n",
       "      <td>56</td>\n",
       "      <td>22</td>\n",
       "      <td>34</td>\n",
       "      <td>Tuesday</td>\n",
       "    </tr>\n",
       "    <tr>\n",
       "      <th>20</th>\n",
       "      <td>2020-12-23</td>\n",
       "      <td>53</td>\n",
       "      <td>20</td>\n",
       "      <td>33</td>\n",
       "      <td>Wednesday</td>\n",
       "    </tr>\n",
       "    <tr>\n",
       "      <th>21</th>\n",
       "      <td>2020-12-24</td>\n",
       "      <td>56</td>\n",
       "      <td>26</td>\n",
       "      <td>30</td>\n",
       "      <td>Thursday</td>\n",
       "    </tr>\n",
       "    <tr>\n",
       "      <th>22</th>\n",
       "      <td>2020-12-25</td>\n",
       "      <td>58</td>\n",
       "      <td>22</td>\n",
       "      <td>36</td>\n",
       "      <td>Friday</td>\n",
       "    </tr>\n",
       "    <tr>\n",
       "      <th>23</th>\n",
       "      <td>2020-12-26</td>\n",
       "      <td>54</td>\n",
       "      <td>24</td>\n",
       "      <td>30</td>\n",
       "      <td>Saturday</td>\n",
       "    </tr>\n",
       "    <tr>\n",
       "      <th>24</th>\n",
       "      <td>2020-12-28</td>\n",
       "      <td>55</td>\n",
       "      <td>21</td>\n",
       "      <td>34</td>\n",
       "      <td>Monday</td>\n",
       "    </tr>\n",
       "    <tr>\n",
       "      <th>25</th>\n",
       "      <td>2020-12-29</td>\n",
       "      <td>56</td>\n",
       "      <td>20</td>\n",
       "      <td>36</td>\n",
       "      <td>Tuesday</td>\n",
       "    </tr>\n",
       "    <tr>\n",
       "      <th>26</th>\n",
       "      <td>2020-12-30</td>\n",
       "      <td>56</td>\n",
       "      <td>25</td>\n",
       "      <td>31</td>\n",
       "      <td>Wednesday</td>\n",
       "    </tr>\n",
       "    <tr>\n",
       "      <th>27</th>\n",
       "      <td>2020-12-31</td>\n",
       "      <td>54</td>\n",
       "      <td>22</td>\n",
       "      <td>32</td>\n",
       "      <td>Thursday</td>\n",
       "    </tr>\n",
       "    <tr>\n",
       "      <th>28</th>\n",
       "      <td>2021-01-01</td>\n",
       "      <td>84</td>\n",
       "      <td>28</td>\n",
       "      <td>56</td>\n",
       "      <td>Friday</td>\n",
       "    </tr>\n",
       "    <tr>\n",
       "      <th>29</th>\n",
       "      <td>2021-01-02</td>\n",
       "      <td>82</td>\n",
       "      <td>33</td>\n",
       "      <td>49</td>\n",
       "      <td>Saturday</td>\n",
       "    </tr>\n",
       "  </tbody>\n",
       "</table>\n",
       "</div>"
      ],
      "text/plain": [
       "           day All test types Liquid based Conventional    weekday\n",
       "0   2020-11-30             70           35           35     Monday\n",
       "1   2020-12-01             57           27           30    Tuesday\n",
       "2   2020-12-02             56           28           28  Wednesday\n",
       "3   2020-12-03             53           23           30   Thursday\n",
       "4   2020-12-04             53           15           38     Friday\n",
       "5   2020-12-05             57           24           33   Saturday\n",
       "6   2020-12-07             56           30           26     Monday\n",
       "7   2020-12-08             57           24           33    Tuesday\n",
       "8   2020-12-09             56           30           26  Wednesday\n",
       "9   2020-12-10             56           29           27   Thursday\n",
       "10  2020-12-11             54           24           30     Friday\n",
       "11  2020-12-12             54           17           37   Saturday\n",
       "12  2020-12-14             57           32           25     Monday\n",
       "13  2020-12-15             56           22           34    Tuesday\n",
       "14  2020-12-16             53           21           32  Wednesday\n",
       "15  2020-12-17             57           24           33   Thursday\n",
       "16  2020-12-18             57           23           34     Friday\n",
       "17  2020-12-19             56           12           44   Saturday\n",
       "18  2020-12-21             55           24           31     Monday\n",
       "19  2020-12-22             56           22           34    Tuesday\n",
       "20  2020-12-23             53           20           33  Wednesday\n",
       "21  2020-12-24             56           26           30   Thursday\n",
       "22  2020-12-25             58           22           36     Friday\n",
       "23  2020-12-26             54           24           30   Saturday\n",
       "24  2020-12-28             55           21           34     Monday\n",
       "25  2020-12-29             56           20           36    Tuesday\n",
       "26  2020-12-30             56           25           31  Wednesday\n",
       "27  2020-12-31             54           22           32   Thursday\n",
       "28  2021-01-01             84           28           56     Friday\n",
       "29  2021-01-02             82           33           49   Saturday"
      ]
     },
     "execution_count": 32,
     "metadata": {},
     "output_type": "execute_result"
    }
   ],
   "source": [
    "initial_df.head(30)"
   ]
  },
  {
   "cell_type": "code",
   "execution_count": 33,
   "metadata": {},
   "outputs": [],
   "source": [
    "initial_df.to_csv('test_type_count_T.csv')\n",
    "test_df.to_csv('test_dataframe_T.csv')"
   ]
  }
 ],
 "metadata": {
  "kernelspec": {
   "display_name": "dash_tutorial",
   "language": "python",
   "name": "python3"
  },
  "language_info": {
   "codemirror_mode": {
    "name": "ipython",
    "version": 3
   },
   "file_extension": ".py",
   "mimetype": "text/x-python",
   "name": "python",
   "nbconvert_exporter": "python",
   "pygments_lexer": "ipython3",
   "version": "3.10.8"
  },
  "orig_nbformat": 4,
  "vscode": {
   "interpreter": {
    "hash": "31fb68429e91cc16ee00ba7a208e84b76758121316b8f5a99b7f17a1b208923b"
   }
  }
 },
 "nbformat": 4,
 "nbformat_minor": 2
}
