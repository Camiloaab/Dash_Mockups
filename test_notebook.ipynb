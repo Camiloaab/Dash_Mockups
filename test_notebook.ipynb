{
 "cells": [
  {
   "cell_type": "code",
   "execution_count": 15,
   "metadata": {},
   "outputs": [],
   "source": [
    "\"\"\"File to generate sample data for testing.\"\"\"\n",
    "from datetime import date, timedelta, datetime\n",
    "import random\n",
    "import math\n",
    "import pandas as pd\n",
    "import numpy as np\n",
    "import plotly.graph_objects as go\n",
    "\n"
   ]
  },
  {
   "cell_type": "code",
   "execution_count": 16,
   "metadata": {},
   "outputs": [],
   "source": [
    "#Initialization of variables\n",
    "days = 90\n",
    "amplitude = 20\n",
    "displacement = 50\n",
    "noise = 0.4\n",
    "day = date.today().day\n",
    "month = date.today().month\n",
    "year = date.today().year\n",
    "\n",
    "if month == 1:\n",
    "    year = year - 1\n",
    "    month = 12\n",
    "\n",
    "last_month_date = date(year, month -1, day)\n",
    "last_week_date = date.today() - timedelta(days = 7)\n",
    "last_year_date = date.today() - timedelta(days = 365)\n",
    "\n",
    "colors = {\n",
    "    'background': '#111111',\n",
    "    'text': '#7FDBFF'\n",
    "}\n",
    "\n",
    "# Initial Lists\n",
    "test_type = ['liquid based', 'conventional','another type', 'fourth type', 'just another']\n",
    "adequacy_list = [{'satisfactory': 'Yes'},{'satisfactory': 'No', 'processed': 'Not processed'},{'satisfactory': 'No', 'processed': 'processed'}]\n",
    "results_list = ['negative', 'ASC-US', 'ASC-H', 'LSIL', 'MSIL', 'SCC', 'AC', 'JJJ', 'KKK', 'LLL']\n",
    "genotype_list = ['16','18']\n",
    "choices = ['true positive', 'false positive', 'false negative', 'true negative']\n",
    "initial_df = pd.DataFrame()\n",
    "test_df = pd.DataFrame(columns=['day', 'type', 'adequacy', 'result', 'mvp', 'cytology', 'hystology'])"
   ]
  },
  {
   "cell_type": "code",
   "execution_count": 17,
   "metadata": {},
   "outputs": [],
   "source": [
    "#Data Generator\n",
    "def sin_data_generate(N,A,S,R):\n",
    "    \"\"\"To generate sinusoidal data.\"\"\"\n",
    "    x = np.arange(0,N,1)\n",
    "    noise = []\n",
    "    for j in range(N):\n",
    "        noise.append(R*random.choice(range(-3,3)))\n",
    "    noise = np.array(noise)\n",
    "    y = A*np.sin(30*x/(2*math.pi))+S\n",
    "    y = y + noise\n",
    "    return [x,y]"
   ]
  },
  {
   "cell_type": "code",
   "execution_count": 18,
   "metadata": {},
   "outputs": [
    {
     "data": {
      "text/html": [
       "<div>\n",
       "<style scoped>\n",
       "    .dataframe tbody tr th:only-of-type {\n",
       "        vertical-align: middle;\n",
       "    }\n",
       "\n",
       "    .dataframe tbody tr th {\n",
       "        vertical-align: top;\n",
       "    }\n",
       "\n",
       "    .dataframe thead th {\n",
       "        text-align: right;\n",
       "    }\n",
       "</style>\n",
       "<table border=\"1\" class=\"dataframe\">\n",
       "  <thead>\n",
       "    <tr style=\"text-align: right;\">\n",
       "      <th></th>\n",
       "      <th>day</th>\n",
       "      <th>liquid based</th>\n",
       "      <th>conventional</th>\n",
       "      <th>another type</th>\n",
       "      <th>fourth type</th>\n",
       "      <th>just another</th>\n",
       "    </tr>\n",
       "  </thead>\n",
       "  <tbody>\n",
       "    <tr>\n",
       "      <th>0</th>\n",
       "      <td>2022-09-08</td>\n",
       "      <td>20</td>\n",
       "      <td>38</td>\n",
       "      <td>43</td>\n",
       "      <td>27</td>\n",
       "      <td>30</td>\n",
       "    </tr>\n",
       "    <tr>\n",
       "      <th>1</th>\n",
       "      <td>2022-09-09</td>\n",
       "      <td>10</td>\n",
       "      <td>27</td>\n",
       "      <td>32</td>\n",
       "      <td>17</td>\n",
       "      <td>12</td>\n",
       "    </tr>\n",
       "    <tr>\n",
       "      <th>2</th>\n",
       "      <td>2022-09-10</td>\n",
       "      <td>18</td>\n",
       "      <td>38</td>\n",
       "      <td>41</td>\n",
       "      <td>28</td>\n",
       "      <td>27</td>\n",
       "    </tr>\n",
       "    <tr>\n",
       "      <th>3</th>\n",
       "      <td>2022-09-11</td>\n",
       "      <td>30</td>\n",
       "      <td>49</td>\n",
       "      <td>50</td>\n",
       "      <td>41</td>\n",
       "      <td>47</td>\n",
       "    </tr>\n",
       "    <tr>\n",
       "      <th>4</th>\n",
       "      <td>2022-09-12</td>\n",
       "      <td>23</td>\n",
       "      <td>41</td>\n",
       "      <td>44</td>\n",
       "      <td>31</td>\n",
       "      <td>34</td>\n",
       "    </tr>\n",
       "    <tr>\n",
       "      <th>...</th>\n",
       "      <td>...</td>\n",
       "      <td>...</td>\n",
       "      <td>...</td>\n",
       "      <td>...</td>\n",
       "      <td>...</td>\n",
       "      <td>...</td>\n",
       "    </tr>\n",
       "    <tr>\n",
       "      <th>85</th>\n",
       "      <td>2022-12-02</td>\n",
       "      <td>15</td>\n",
       "      <td>34</td>\n",
       "      <td>38</td>\n",
       "      <td>21</td>\n",
       "      <td>20</td>\n",
       "    </tr>\n",
       "    <tr>\n",
       "      <th>86</th>\n",
       "      <td>2022-12-03</td>\n",
       "      <td>28</td>\n",
       "      <td>47</td>\n",
       "      <td>49</td>\n",
       "      <td>37</td>\n",
       "      <td>43</td>\n",
       "    </tr>\n",
       "    <tr>\n",
       "      <th>87</th>\n",
       "      <td>2022-12-04</td>\n",
       "      <td>27</td>\n",
       "      <td>44</td>\n",
       "      <td>48</td>\n",
       "      <td>36</td>\n",
       "      <td>41</td>\n",
       "    </tr>\n",
       "    <tr>\n",
       "      <th>88</th>\n",
       "      <td>2022-12-05</td>\n",
       "      <td>14</td>\n",
       "      <td>30</td>\n",
       "      <td>36</td>\n",
       "      <td>21</td>\n",
       "      <td>17</td>\n",
       "    </tr>\n",
       "    <tr>\n",
       "      <th>89</th>\n",
       "      <td>2022-12-06</td>\n",
       "      <td>15</td>\n",
       "      <td>32</td>\n",
       "      <td>35</td>\n",
       "      <td>20</td>\n",
       "      <td>17</td>\n",
       "    </tr>\n",
       "  </tbody>\n",
       "</table>\n",
       "<p>90 rows × 6 columns</p>\n",
       "</div>"
      ],
      "text/plain": [
       "          day  liquid based  conventional  another type  fourth type  \\\n",
       "0  2022-09-08            20            38            43           27   \n",
       "1  2022-09-09            10            27            32           17   \n",
       "2  2022-09-10            18            38            41           28   \n",
       "3  2022-09-11            30            49            50           41   \n",
       "4  2022-09-12            23            41            44           31   \n",
       "..        ...           ...           ...           ...          ...   \n",
       "85 2022-12-02            15            34            38           21   \n",
       "86 2022-12-03            28            47            49           37   \n",
       "87 2022-12-04            27            44            48           36   \n",
       "88 2022-12-05            14            30            36           21   \n",
       "89 2022-12-06            15            32            35           20   \n",
       "\n",
       "    just another  \n",
       "0             30  \n",
       "1             12  \n",
       "2             27  \n",
       "3             47  \n",
       "4             34  \n",
       "..           ...  \n",
       "85            20  \n",
       "86            43  \n",
       "87            41  \n",
       "88            17  \n",
       "89            17  \n",
       "\n",
       "[90 rows x 6 columns]"
      ]
     },
     "execution_count": 18,
     "metadata": {},
     "output_type": "execute_result"
    }
   ],
   "source": [
    "\n",
    "for type in test_type:\n",
    "    test_data = sin_data_generate(days, random.randint(5, 20), random.randint(20,50), noise)\n",
    "    final = datetime.date(datetime.now())\n",
    "    initial = final - timedelta(days=days-1)\n",
    "    # print(initial, final)\n",
    "    daterange = pd.date_range(initial, final, freq='D')\n",
    "\n",
    "    initial_df['day'] = daterange\n",
    "    initial_df[type] = test_data[1].astype(int)\n",
    "    # test_df['adequacy ' + type] = random.choices(adequacy_list, k=len(test_df))\n",
    "    # test_df['result ' + type] = random.choices(results_list, k=len(test_df))\n",
    "    # test_df['mvp'] = random.choices(genotype_list, k=len(test_df))\n",
    "    # test_df['cytology'] = random.choices(['positive', 'negative'], k=len(test_df), weights=[0.8, 0.2])\n",
    "    # test_df['hystology'] = random.choices(['positive', 'negative'], k=len(test_df), weights=[0.8, 0.2])\n",
    "\n",
    "# print(test_df.count)\n",
    "(initial_df)"
   ]
  },
  {
   "cell_type": "code",
   "execution_count": 19,
   "metadata": {},
   "outputs": [
    {
     "name": "stdout",
     "output_type": "stream",
     "text": [
      "Index(['day', 'type', 'adequacy', 'result', 'mvp', 'cytology', 'hystology'], dtype='object')\n"
     ]
    },
    {
     "data": {
      "text/html": [
       "<div>\n",
       "<style scoped>\n",
       "    .dataframe tbody tr th:only-of-type {\n",
       "        vertical-align: middle;\n",
       "    }\n",
       "\n",
       "    .dataframe tbody tr th {\n",
       "        vertical-align: top;\n",
       "    }\n",
       "\n",
       "    .dataframe thead th {\n",
       "        text-align: right;\n",
       "    }\n",
       "</style>\n",
       "<table border=\"1\" class=\"dataframe\">\n",
       "  <thead>\n",
       "    <tr style=\"text-align: right;\">\n",
       "      <th></th>\n",
       "      <th>day</th>\n",
       "      <th>type</th>\n",
       "      <th>adequacy</th>\n",
       "      <th>result</th>\n",
       "      <th>mvp</th>\n",
       "      <th>cytology</th>\n",
       "      <th>hystology</th>\n",
       "    </tr>\n",
       "  </thead>\n",
       "  <tbody>\n",
       "    <tr>\n",
       "      <th>14195</th>\n",
       "      <td>2022-12-06</td>\n",
       "      <td>just another</td>\n",
       "      <td>{'satisfactory': 'No', 'processed': 'Not proce...</td>\n",
       "      <td>LSIL</td>\n",
       "      <td>18</td>\n",
       "      <td>positive</td>\n",
       "      <td>positive</td>\n",
       "    </tr>\n",
       "    <tr>\n",
       "      <th>14196</th>\n",
       "      <td>2022-12-06</td>\n",
       "      <td>just another</td>\n",
       "      <td>{'satisfactory': 'No', 'processed': 'Not proce...</td>\n",
       "      <td>JJJ</td>\n",
       "      <td>18</td>\n",
       "      <td>negative</td>\n",
       "      <td>negative</td>\n",
       "    </tr>\n",
       "    <tr>\n",
       "      <th>14197</th>\n",
       "      <td>2022-12-06</td>\n",
       "      <td>just another</td>\n",
       "      <td>{'satisfactory': 'No', 'processed': 'Not proce...</td>\n",
       "      <td>JJJ</td>\n",
       "      <td>18</td>\n",
       "      <td>positive</td>\n",
       "      <td>positive</td>\n",
       "    </tr>\n",
       "    <tr>\n",
       "      <th>14198</th>\n",
       "      <td>2022-12-06</td>\n",
       "      <td>just another</td>\n",
       "      <td>{'satisfactory': 'No', 'processed': 'Not proce...</td>\n",
       "      <td>AC</td>\n",
       "      <td>16</td>\n",
       "      <td>positive</td>\n",
       "      <td>positive</td>\n",
       "    </tr>\n",
       "    <tr>\n",
       "      <th>14199</th>\n",
       "      <td>2022-12-06</td>\n",
       "      <td>just another</td>\n",
       "      <td>{'satisfactory': 'Yes'}</td>\n",
       "      <td>LLL</td>\n",
       "      <td>16</td>\n",
       "      <td>positive</td>\n",
       "      <td>positive</td>\n",
       "    </tr>\n",
       "  </tbody>\n",
       "</table>\n",
       "</div>"
      ],
      "text/plain": [
       "             day          type  \\\n",
       "14195 2022-12-06  just another   \n",
       "14196 2022-12-06  just another   \n",
       "14197 2022-12-06  just another   \n",
       "14198 2022-12-06  just another   \n",
       "14199 2022-12-06  just another   \n",
       "\n",
       "                                                adequacy result mvp  cytology  \\\n",
       "14195  {'satisfactory': 'No', 'processed': 'Not proce...   LSIL  18  positive   \n",
       "14196  {'satisfactory': 'No', 'processed': 'Not proce...    JJJ  18  negative   \n",
       "14197  {'satisfactory': 'No', 'processed': 'Not proce...    JJJ  18  positive   \n",
       "14198  {'satisfactory': 'No', 'processed': 'Not proce...     AC  16  positive   \n",
       "14199                            {'satisfactory': 'Yes'}    LLL  16  positive   \n",
       "\n",
       "      hystology  \n",
       "14195  positive  \n",
       "14196  negative  \n",
       "14197  positive  \n",
       "14198  positive  \n",
       "14199  positive  "
      ]
     },
     "execution_count": 19,
     "metadata": {},
     "output_type": "execute_result"
    }
   ],
   "source": [
    "print(test_df.columns)\n",
    "for type in test_type:\n",
    "    type_list_samples = initial_df[type].values\n",
    "    for index, number in enumerate(type_list_samples):\n",
    "        # print(f'number: {number}')\n",
    "        # print(f'dataframe: {(initial_df[type].values)}')\n",
    "        for sample in range(number):\n",
    "            day = initial_df['day'].iloc[index]\n",
    "            adequacy = random.choices(adequacy_list)[0]\n",
    "            result = random.choices(results_list)[0]\n",
    "            mvp = random.choices(genotype_list)[0]\n",
    "            cytology = random.choices(['positive', 'negative'], weights=[0.8, 0.2])[0]\n",
    "            hystology = random.choices(['positive', 'negative'], weights=[0.8, 0.2])[0]\n",
    "            new_row = {'day': day,'type': type, 'adequacy': adequacy, 'result': result, 'mvp': mvp, 'cytology': cytology, 'hystology': hystology}\n",
    "            # test_df = test_df.apply(lambda row: add_row(row))\n",
    "            new_df = pd.DataFrame([new_row])\n",
    "            test_df = pd.concat([test_df, new_df], axis=0, ignore_index=True)\n",
    "            new_df.reset_index()\n",
    "\n",
    "            # print(f'sample: {test_df[\"type\"]}')\n",
    "                # test_df = test_df.concat(new_row, ignore_index=True)\n",
    "                # test_df['type'] = type\n",
    "\n",
    "(test_df.tail(5))\n",
    "    # test_df['test_quality'] = np.select([\n",
    "    #     (test_df['cytology'] == 'positive') & (test_df['hystology'] == 'positive'),\n",
    "    #     (test_df['cytology'] == 'positive') & (test_df['hystology'] == 'negative'),\n",
    "    #     (test_df['cytology'] == 'negative') & (test_df['hystology'] == 'positive'),\n",
    "    #     (test_df['cytology'] == 'negative') & (test_df['hystology'] == 'negative')\n",
    "    #     ], choices, default='true negative')\n"
   ]
  },
  {
   "cell_type": "code",
   "execution_count": 100,
   "metadata": {},
   "outputs": [
    {
     "data": {
      "application/vnd.plotly.v1+json": {
       "config": {
        "plotlyServerURL": "https://plot.ly"
       },
       "data": [
        {
         "marker": {
          "symbol": 1
         },
         "mode": "markers+lines",
         "name": "LLL",
         "showlegend": true,
         "type": "scatter",
         "x": [
          "2022-09-08T00:00:00",
          "2022-09-10T00:00:00",
          "2022-09-11T00:00:00",
          "2022-09-12T00:00:00",
          "2022-09-13T00:00:00",
          "2022-09-15T00:00:00",
          "2022-09-16T00:00:00",
          "2022-09-17T00:00:00",
          "2022-09-19T00:00:00",
          "2022-09-21T00:00:00",
          "2022-09-22T00:00:00",
          "2022-09-23T00:00:00",
          "2022-09-24T00:00:00",
          "2022-09-25T00:00:00",
          "2022-09-26T00:00:00",
          "2022-09-27T00:00:00",
          "2022-09-28T00:00:00",
          "2022-09-29T00:00:00",
          "2022-09-30T00:00:00",
          "2022-10-01T00:00:00",
          "2022-10-02T00:00:00",
          "2022-10-03T00:00:00",
          "2022-10-05T00:00:00",
          "2022-10-06T00:00:00",
          "2022-10-08T00:00:00",
          "2022-10-10T00:00:00",
          "2022-10-11T00:00:00",
          "2022-10-12T00:00:00",
          "2022-10-14T00:00:00",
          "2022-10-15T00:00:00",
          "2022-10-16T00:00:00",
          "2022-10-17T00:00:00",
          "2022-10-18T00:00:00",
          "2022-10-19T00:00:00",
          "2022-10-20T00:00:00",
          "2022-10-21T00:00:00",
          "2022-10-22T00:00:00",
          "2022-10-23T00:00:00",
          "2022-10-24T00:00:00",
          "2022-10-25T00:00:00",
          "2022-10-26T00:00:00",
          "2022-10-27T00:00:00",
          "2022-10-29T00:00:00",
          "2022-10-30T00:00:00",
          "2022-10-31T00:00:00",
          "2022-11-02T00:00:00",
          "2022-11-03T00:00:00",
          "2022-11-04T00:00:00",
          "2022-11-05T00:00:00",
          "2022-11-06T00:00:00",
          "2022-11-07T00:00:00",
          "2022-11-08T00:00:00",
          "2022-11-09T00:00:00",
          "2022-11-10T00:00:00",
          "2022-11-11T00:00:00",
          "2022-11-12T00:00:00",
          "2022-11-13T00:00:00",
          "2022-11-14T00:00:00",
          "2022-11-15T00:00:00",
          "2022-11-16T00:00:00",
          "2022-11-17T00:00:00",
          "2022-11-18T00:00:00",
          "2022-11-19T00:00:00",
          "2022-11-20T00:00:00",
          "2022-11-21T00:00:00",
          "2022-11-22T00:00:00",
          "2022-11-23T00:00:00",
          "2022-11-24T00:00:00",
          "2022-11-25T00:00:00",
          "2022-11-26T00:00:00",
          "2022-11-27T00:00:00",
          "2022-11-28T00:00:00",
          "2022-12-02T00:00:00",
          "2022-12-03T00:00:00",
          "2022-12-04T00:00:00",
          "2022-12-05T00:00:00",
          "2022-12-06T00:00:00"
         ],
         "y": [
          4,
          2,
          2,
          2,
          2,
          1,
          4,
          2,
          2,
          1,
          3,
          3,
          3,
          3,
          1,
          3,
          1,
          2,
          2,
          1,
          1,
          1,
          1,
          3,
          1,
          3,
          2,
          1,
          3,
          2,
          3,
          3,
          2,
          5,
          3,
          1,
          2,
          7,
          4,
          2,
          4,
          3,
          4,
          3,
          5,
          1,
          5,
          3,
          4,
          1,
          3,
          3,
          5,
          1,
          2,
          1,
          4,
          2,
          3,
          2,
          2,
          4,
          2,
          1,
          2,
          1,
          1,
          2,
          4,
          2,
          4,
          4,
          1,
          1,
          1,
          2,
          2
         ]
        }
       ],
       "layout": {
        "template": {
         "data": {
          "bar": [
           {
            "error_x": {
             "color": "#2a3f5f"
            },
            "error_y": {
             "color": "#2a3f5f"
            },
            "marker": {
             "line": {
              "color": "#E5ECF6",
              "width": 0.5
             },
             "pattern": {
              "fillmode": "overlay",
              "size": 10,
              "solidity": 0.2
             }
            },
            "type": "bar"
           }
          ],
          "barpolar": [
           {
            "marker": {
             "line": {
              "color": "#E5ECF6",
              "width": 0.5
             },
             "pattern": {
              "fillmode": "overlay",
              "size": 10,
              "solidity": 0.2
             }
            },
            "type": "barpolar"
           }
          ],
          "carpet": [
           {
            "aaxis": {
             "endlinecolor": "#2a3f5f",
             "gridcolor": "white",
             "linecolor": "white",
             "minorgridcolor": "white",
             "startlinecolor": "#2a3f5f"
            },
            "baxis": {
             "endlinecolor": "#2a3f5f",
             "gridcolor": "white",
             "linecolor": "white",
             "minorgridcolor": "white",
             "startlinecolor": "#2a3f5f"
            },
            "type": "carpet"
           }
          ],
          "choropleth": [
           {
            "colorbar": {
             "outlinewidth": 0,
             "ticks": ""
            },
            "type": "choropleth"
           }
          ],
          "contour": [
           {
            "colorbar": {
             "outlinewidth": 0,
             "ticks": ""
            },
            "colorscale": [
             [
              0,
              "#0d0887"
             ],
             [
              0.1111111111111111,
              "#46039f"
             ],
             [
              0.2222222222222222,
              "#7201a8"
             ],
             [
              0.3333333333333333,
              "#9c179e"
             ],
             [
              0.4444444444444444,
              "#bd3786"
             ],
             [
              0.5555555555555556,
              "#d8576b"
             ],
             [
              0.6666666666666666,
              "#ed7953"
             ],
             [
              0.7777777777777778,
              "#fb9f3a"
             ],
             [
              0.8888888888888888,
              "#fdca26"
             ],
             [
              1,
              "#f0f921"
             ]
            ],
            "type": "contour"
           }
          ],
          "contourcarpet": [
           {
            "colorbar": {
             "outlinewidth": 0,
             "ticks": ""
            },
            "type": "contourcarpet"
           }
          ],
          "heatmap": [
           {
            "colorbar": {
             "outlinewidth": 0,
             "ticks": ""
            },
            "colorscale": [
             [
              0,
              "#0d0887"
             ],
             [
              0.1111111111111111,
              "#46039f"
             ],
             [
              0.2222222222222222,
              "#7201a8"
             ],
             [
              0.3333333333333333,
              "#9c179e"
             ],
             [
              0.4444444444444444,
              "#bd3786"
             ],
             [
              0.5555555555555556,
              "#d8576b"
             ],
             [
              0.6666666666666666,
              "#ed7953"
             ],
             [
              0.7777777777777778,
              "#fb9f3a"
             ],
             [
              0.8888888888888888,
              "#fdca26"
             ],
             [
              1,
              "#f0f921"
             ]
            ],
            "type": "heatmap"
           }
          ],
          "heatmapgl": [
           {
            "colorbar": {
             "outlinewidth": 0,
             "ticks": ""
            },
            "colorscale": [
             [
              0,
              "#0d0887"
             ],
             [
              0.1111111111111111,
              "#46039f"
             ],
             [
              0.2222222222222222,
              "#7201a8"
             ],
             [
              0.3333333333333333,
              "#9c179e"
             ],
             [
              0.4444444444444444,
              "#bd3786"
             ],
             [
              0.5555555555555556,
              "#d8576b"
             ],
             [
              0.6666666666666666,
              "#ed7953"
             ],
             [
              0.7777777777777778,
              "#fb9f3a"
             ],
             [
              0.8888888888888888,
              "#fdca26"
             ],
             [
              1,
              "#f0f921"
             ]
            ],
            "type": "heatmapgl"
           }
          ],
          "histogram": [
           {
            "marker": {
             "pattern": {
              "fillmode": "overlay",
              "size": 10,
              "solidity": 0.2
             }
            },
            "type": "histogram"
           }
          ],
          "histogram2d": [
           {
            "colorbar": {
             "outlinewidth": 0,
             "ticks": ""
            },
            "colorscale": [
             [
              0,
              "#0d0887"
             ],
             [
              0.1111111111111111,
              "#46039f"
             ],
             [
              0.2222222222222222,
              "#7201a8"
             ],
             [
              0.3333333333333333,
              "#9c179e"
             ],
             [
              0.4444444444444444,
              "#bd3786"
             ],
             [
              0.5555555555555556,
              "#d8576b"
             ],
             [
              0.6666666666666666,
              "#ed7953"
             ],
             [
              0.7777777777777778,
              "#fb9f3a"
             ],
             [
              0.8888888888888888,
              "#fdca26"
             ],
             [
              1,
              "#f0f921"
             ]
            ],
            "type": "histogram2d"
           }
          ],
          "histogram2dcontour": [
           {
            "colorbar": {
             "outlinewidth": 0,
             "ticks": ""
            },
            "colorscale": [
             [
              0,
              "#0d0887"
             ],
             [
              0.1111111111111111,
              "#46039f"
             ],
             [
              0.2222222222222222,
              "#7201a8"
             ],
             [
              0.3333333333333333,
              "#9c179e"
             ],
             [
              0.4444444444444444,
              "#bd3786"
             ],
             [
              0.5555555555555556,
              "#d8576b"
             ],
             [
              0.6666666666666666,
              "#ed7953"
             ],
             [
              0.7777777777777778,
              "#fb9f3a"
             ],
             [
              0.8888888888888888,
              "#fdca26"
             ],
             [
              1,
              "#f0f921"
             ]
            ],
            "type": "histogram2dcontour"
           }
          ],
          "mesh3d": [
           {
            "colorbar": {
             "outlinewidth": 0,
             "ticks": ""
            },
            "type": "mesh3d"
           }
          ],
          "parcoords": [
           {
            "line": {
             "colorbar": {
              "outlinewidth": 0,
              "ticks": ""
             }
            },
            "type": "parcoords"
           }
          ],
          "pie": [
           {
            "automargin": true,
            "type": "pie"
           }
          ],
          "scatter": [
           {
            "fillpattern": {
             "fillmode": "overlay",
             "size": 10,
             "solidity": 0.2
            },
            "type": "scatter"
           }
          ],
          "scatter3d": [
           {
            "line": {
             "colorbar": {
              "outlinewidth": 0,
              "ticks": ""
             }
            },
            "marker": {
             "colorbar": {
              "outlinewidth": 0,
              "ticks": ""
             }
            },
            "type": "scatter3d"
           }
          ],
          "scattercarpet": [
           {
            "marker": {
             "colorbar": {
              "outlinewidth": 0,
              "ticks": ""
             }
            },
            "type": "scattercarpet"
           }
          ],
          "scattergeo": [
           {
            "marker": {
             "colorbar": {
              "outlinewidth": 0,
              "ticks": ""
             }
            },
            "type": "scattergeo"
           }
          ],
          "scattergl": [
           {
            "marker": {
             "colorbar": {
              "outlinewidth": 0,
              "ticks": ""
             }
            },
            "type": "scattergl"
           }
          ],
          "scattermapbox": [
           {
            "marker": {
             "colorbar": {
              "outlinewidth": 0,
              "ticks": ""
             }
            },
            "type": "scattermapbox"
           }
          ],
          "scatterpolar": [
           {
            "marker": {
             "colorbar": {
              "outlinewidth": 0,
              "ticks": ""
             }
            },
            "type": "scatterpolar"
           }
          ],
          "scatterpolargl": [
           {
            "marker": {
             "colorbar": {
              "outlinewidth": 0,
              "ticks": ""
             }
            },
            "type": "scatterpolargl"
           }
          ],
          "scatterternary": [
           {
            "marker": {
             "colorbar": {
              "outlinewidth": 0,
              "ticks": ""
             }
            },
            "type": "scatterternary"
           }
          ],
          "surface": [
           {
            "colorbar": {
             "outlinewidth": 0,
             "ticks": ""
            },
            "colorscale": [
             [
              0,
              "#0d0887"
             ],
             [
              0.1111111111111111,
              "#46039f"
             ],
             [
              0.2222222222222222,
              "#7201a8"
             ],
             [
              0.3333333333333333,
              "#9c179e"
             ],
             [
              0.4444444444444444,
              "#bd3786"
             ],
             [
              0.5555555555555556,
              "#d8576b"
             ],
             [
              0.6666666666666666,
              "#ed7953"
             ],
             [
              0.7777777777777778,
              "#fb9f3a"
             ],
             [
              0.8888888888888888,
              "#fdca26"
             ],
             [
              1,
              "#f0f921"
             ]
            ],
            "type": "surface"
           }
          ],
          "table": [
           {
            "cells": {
             "fill": {
              "color": "#EBF0F8"
             },
             "line": {
              "color": "white"
             }
            },
            "header": {
             "fill": {
              "color": "#C8D4E3"
             },
             "line": {
              "color": "white"
             }
            },
            "type": "table"
           }
          ]
         },
         "layout": {
          "annotationdefaults": {
           "arrowcolor": "#2a3f5f",
           "arrowhead": 0,
           "arrowwidth": 1
          },
          "autotypenumbers": "strict",
          "coloraxis": {
           "colorbar": {
            "outlinewidth": 0,
            "ticks": ""
           }
          },
          "colorscale": {
           "diverging": [
            [
             0,
             "#8e0152"
            ],
            [
             0.1,
             "#c51b7d"
            ],
            [
             0.2,
             "#de77ae"
            ],
            [
             0.3,
             "#f1b6da"
            ],
            [
             0.4,
             "#fde0ef"
            ],
            [
             0.5,
             "#f7f7f7"
            ],
            [
             0.6,
             "#e6f5d0"
            ],
            [
             0.7,
             "#b8e186"
            ],
            [
             0.8,
             "#7fbc41"
            ],
            [
             0.9,
             "#4d9221"
            ],
            [
             1,
             "#276419"
            ]
           ],
           "sequential": [
            [
             0,
             "#0d0887"
            ],
            [
             0.1111111111111111,
             "#46039f"
            ],
            [
             0.2222222222222222,
             "#7201a8"
            ],
            [
             0.3333333333333333,
             "#9c179e"
            ],
            [
             0.4444444444444444,
             "#bd3786"
            ],
            [
             0.5555555555555556,
             "#d8576b"
            ],
            [
             0.6666666666666666,
             "#ed7953"
            ],
            [
             0.7777777777777778,
             "#fb9f3a"
            ],
            [
             0.8888888888888888,
             "#fdca26"
            ],
            [
             1,
             "#f0f921"
            ]
           ],
           "sequentialminus": [
            [
             0,
             "#0d0887"
            ],
            [
             0.1111111111111111,
             "#46039f"
            ],
            [
             0.2222222222222222,
             "#7201a8"
            ],
            [
             0.3333333333333333,
             "#9c179e"
            ],
            [
             0.4444444444444444,
             "#bd3786"
            ],
            [
             0.5555555555555556,
             "#d8576b"
            ],
            [
             0.6666666666666666,
             "#ed7953"
            ],
            [
             0.7777777777777778,
             "#fb9f3a"
            ],
            [
             0.8888888888888888,
             "#fdca26"
            ],
            [
             1,
             "#f0f921"
            ]
           ]
          },
          "colorway": [
           "#636efa",
           "#EF553B",
           "#00cc96",
           "#ab63fa",
           "#FFA15A",
           "#19d3f3",
           "#FF6692",
           "#B6E880",
           "#FF97FF",
           "#FECB52"
          ],
          "font": {
           "color": "#2a3f5f"
          },
          "geo": {
           "bgcolor": "white",
           "lakecolor": "white",
           "landcolor": "#E5ECF6",
           "showlakes": true,
           "showland": true,
           "subunitcolor": "white"
          },
          "hoverlabel": {
           "align": "left"
          },
          "hovermode": "closest",
          "mapbox": {
           "style": "light"
          },
          "paper_bgcolor": "white",
          "plot_bgcolor": "#E5ECF6",
          "polar": {
           "angularaxis": {
            "gridcolor": "white",
            "linecolor": "white",
            "ticks": ""
           },
           "bgcolor": "#E5ECF6",
           "radialaxis": {
            "gridcolor": "white",
            "linecolor": "white",
            "ticks": ""
           }
          },
          "scene": {
           "xaxis": {
            "backgroundcolor": "#E5ECF6",
            "gridcolor": "white",
            "gridwidth": 2,
            "linecolor": "white",
            "showbackground": true,
            "ticks": "",
            "zerolinecolor": "white"
           },
           "yaxis": {
            "backgroundcolor": "#E5ECF6",
            "gridcolor": "white",
            "gridwidth": 2,
            "linecolor": "white",
            "showbackground": true,
            "ticks": "",
            "zerolinecolor": "white"
           },
           "zaxis": {
            "backgroundcolor": "#E5ECF6",
            "gridcolor": "white",
            "gridwidth": 2,
            "linecolor": "white",
            "showbackground": true,
            "ticks": "",
            "zerolinecolor": "white"
           }
          },
          "shapedefaults": {
           "line": {
            "color": "#2a3f5f"
           }
          },
          "ternary": {
           "aaxis": {
            "gridcolor": "white",
            "linecolor": "white",
            "ticks": ""
           },
           "baxis": {
            "gridcolor": "white",
            "linecolor": "white",
            "ticks": ""
           },
           "bgcolor": "#E5ECF6",
           "caxis": {
            "gridcolor": "white",
            "linecolor": "white",
            "ticks": ""
           }
          },
          "title": {
           "x": 0.05
          },
          "xaxis": {
           "automargin": true,
           "gridcolor": "white",
           "linecolor": "white",
           "ticks": "",
           "title": {
            "standoff": 15
           },
           "zerolinecolor": "white",
           "zerolinewidth": 2
          },
          "yaxis": {
           "automargin": true,
           "gridcolor": "white",
           "linecolor": "white",
           "ticks": "",
           "title": {
            "standoff": 15
           },
           "zerolinecolor": "white",
           "zerolinewidth": 2
          }
         }
        }
       }
      }
     },
     "metadata": {},
     "output_type": "display_data"
    }
   ],
   "source": [
    "panda = test_df.loc[test_df['type'] == 'liquid based']\n",
    "panda = panda.loc[panda['result'] == 'LLL']\n",
    "frame = panda.groupby('day')\n",
    "another_frame = pd.DataFrame()\n",
    "another_frame['count'] = frame['result'].count()\n",
    "another_frame = another_frame.reset_index()\n",
    "# another_frame\n",
    "graph = go.Figure()\n",
    "graph.add_trace(go.Scatter(x=another_frame['day'], y= another_frame['count'], mode=\"markers+lines\", name='LLL', marker_symbol= 1, showlegend=True))\n",
    "graph\n"
   ]
  },
  {
   "cell_type": "code",
   "execution_count": 1,
   "metadata": {},
   "outputs": [
    {
     "ename": "NameError",
     "evalue": "name 'go' is not defined",
     "output_type": "error",
     "traceback": [
      "\u001b[0;31m---------------------------------------------------------------------------\u001b[0m",
      "\u001b[0;31mNameError\u001b[0m                                 Traceback (most recent call last)",
      "Cell \u001b[0;32mIn [1], line 1\u001b[0m\n\u001b[0;32m----> 1\u001b[0m graph \u001b[39m=\u001b[39m go\u001b[39m.\u001b[39mFigure()\n\u001b[1;32m      2\u001b[0m \u001b[39mif\u001b[39;00m test_type[\u001b[39m0\u001b[39m] \u001b[39m==\u001b[39m \u001b[39m'\u001b[39m\u001b[39mnegative\u001b[39m\u001b[39m'\u001b[39m:\n\u001b[1;32m      3\u001b[0m     visibility \u001b[39m=\u001b[39m \u001b[39mTrue\u001b[39;00m\n",
      "\u001b[0;31mNameError\u001b[0m: name 'go' is not defined"
     ]
    }
   ],
   "source": [
    "\n",
    "graph = go.Figure()\n",
    "if test_type[0] == 'negative':\n",
    "    visibility = True\n",
    "else:\n",
    "    visibility = 'legendonly'\n",
    "\n",
    "# graph.add_trace(go.Scatter(x=test_df['day'], y=initial_df[type], mode='lines+markers', name=test_type[0], cliponaxis=True,\n",
    "# line_shape= \"spline\", showlegend=True, line_smoothing=0, visible=visibility\n",
    "#     ))\n",
    "count = 0\n",
    "for item in results_list:\n",
    "    count += 1\n",
    "    filter1 = test_df['result'] == item\n",
    "    data = test_df[filter1]\n",
    "    data.sort_values('day', inplace=True)\n",
    "    day_group = data.groupby('day')\n",
    "    # sample_df = test_df[filter1]\n",
    "    count_data = day_group['result'].value_counts()\n",
    "    count_data    \n",
    "    \n",
    "    # df = data[data['result'] == item]\n",
    "    # day_grp = df.groupby(['day'])\n",
    "    # df['count'] = test['result'].count()\n",
    "    mock = pd.DataFrame()\n",
    "    mock['day'] = data['day']\n",
    "    mock.sort_values('day', inplace=True)\n",
    "    mock['count'] = count_data\n",
    "    # mock['count'] = mock['count'].fillna(0)\n",
    "    # mock = test['type'].count()\n",
    "    # graph.add_trace(go.Scatter(x=mock['day'], y= mock['count'], mode=\"markers+lines\", name=item, marker_symbol= count, showlegend=True))\n",
    "# test['type'].count()\n",
    "# (type_list_samples)\n",
    "# day_grp['result'].value_counts()\n",
    "mock"
   ]
  },
  {
   "cell_type": "code",
   "execution_count": null,
   "metadata": {},
   "outputs": [],
   "source": [
    "# counts = df['day'].value_counts()\n",
    "counts = df.groupby(['day'])\n",
    "counts['result'].value_counts().head(50)\n",
    "# counts['day']= df['day'].unique()\n",
    "# counts.reset_index()\n"
   ]
  }
 ],
 "metadata": {
  "kernelspec": {
   "display_name": "Python 3.10.6 ('venv': venv)",
   "language": "python",
   "name": "python3"
  },
  "language_info": {
   "codemirror_mode": {
    "name": "ipython",
    "version": 3
   },
   "file_extension": ".py",
   "mimetype": "text/x-python",
   "name": "python",
   "nbconvert_exporter": "python",
   "pygments_lexer": "ipython3",
   "version": "3.10.6"
  },
  "orig_nbformat": 4,
  "vscode": {
   "interpreter": {
    "hash": "07627b1f56b3c8746bc6e6c53c1251000f458d8beba06778529aff905cfbb7e4"
   }
  }
 },
 "nbformat": 4,
 "nbformat_minor": 2
}
