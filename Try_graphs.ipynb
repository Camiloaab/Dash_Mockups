{
 "cells": [
  {
   "cell_type": "code",
   "execution_count": 1,
   "metadata": {},
   "outputs": [],
   "source": [
    "import pandas as pd\n",
    "from datetime import date"
   ]
  },
  {
   "cell_type": "code",
   "execution_count": 13,
   "metadata": {},
   "outputs": [],
   "source": [
    "from be.controllers.types_graph import types_graph\n",
    "from be.controllers.filter_dataframe import filter_dataframe\n",
    "from be.controllers.tree_map_graph import tree_map_graph\n",
    "from be.controllers.results_graph import result_graph\n",
    "from be.controllers.mvp_graph import mvp_graph\n",
    "from be.controllers.qc_graph import qc_graph"
   ]
  },
  {
   "cell_type": "code",
   "execution_count": 5,
   "metadata": {},
   "outputs": [],
   "source": [
    "from sample_data import last_week_date, last_year_date, last_month_date,test_type, results_list, genotype_list"
   ]
  },
  {
   "cell_type": "code",
   "execution_count": 11,
   "metadata": {},
   "outputs": [],
   "source": [
    "start_date=last_month_date\n",
    "end_date=last_week_date"
   ]
  },
  {
   "cell_type": "code",
   "execution_count": 7,
   "metadata": {},
   "outputs": [],
   "source": [
    "test_df = pd.read_csv('test_dataframe_C.csv')\n",
    "test_df[\"day\"]=pd.to_datetime(test_df[\"day\"])\n",
    "initial_df = pd.read_csv('test_type_count_C.csv')\n",
    "initial_df[\"day\"]=pd.to_datetime(initial_df[\"day\"])"
   ]
  },
  {
   "cell_type": "code",
   "execution_count": 12,
   "metadata": {},
   "outputs": [
    {
     "ename": "NameError",
     "evalue": "name 'tipo' is not defined",
     "output_type": "error",
     "traceback": [
      "\u001b[0;31m---------------------------------------------------------------------------\u001b[0m",
      "\u001b[0;31mNameError\u001b[0m                                 Traceback (most recent call last)",
      "Cell \u001b[0;32mIn[12], line 2\u001b[0m\n\u001b[1;32m      1\u001b[0m filtered_df \u001b[39m=\u001b[39m filter_dataframe(initial_df,pd\u001b[39m.\u001b[39mto_datetime(start_date),pd\u001b[39m.\u001b[39mto_datetime(end_date))\n\u001b[0;32m----> 2\u001b[0m types \u001b[39m=\u001b[39m types_graph(filtered_df, tipo)\n",
      "\u001b[0;31mNameError\u001b[0m: name 'tipo' is not defined"
     ]
    }
   ],
   "source": [
    "filtered_df = filter_dataframe(initial_df,pd.to_datetime(start_date),pd.to_datetime(end_date))\n",
    "types = types_graph(filtered_df, tipo)"
   ]
  }
 ],
 "metadata": {
  "kernelspec": {
   "display_name": "dash_tutorial",
   "language": "python",
   "name": "python3"
  },
  "language_info": {
   "codemirror_mode": {
    "name": "ipython",
    "version": 3
   },
   "file_extension": ".py",
   "mimetype": "text/x-python",
   "name": "python",
   "nbconvert_exporter": "python",
   "pygments_lexer": "ipython3",
   "version": "3.10.8"
  },
  "orig_nbformat": 4,
  "vscode": {
   "interpreter": {
    "hash": "31fb68429e91cc16ee00ba7a208e84b76758121316b8f5a99b7f17a1b208923b"
   }
  }
 },
 "nbformat": 4,
 "nbformat_minor": 2
}
